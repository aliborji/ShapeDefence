{
 "cells": [
  {
   "cell_type": "markdown",
   "metadata": {
    "colab_type": "text",
    "id": "dWyI9dbXRoTS"
   },
   "source": [
    "\n",
    "Shape defense\n",
    "==============================\n",
    "\n",
    "**Author:** https://github.com/aliborji/xx\n",
    "\n"
   ]
  },
  {
   "cell_type": "code",
   "execution_count": 1,
   "metadata": {
    "colab": {},
    "colab_type": "code",
    "id": "yTOeDD4fIbdq"
   },
   "outputs": [],
   "source": [
    "%matplotlib inline"
   ]
  },
  {
   "cell_type": "code",
   "execution_count": 2,
   "metadata": {
    "colab": {},
    "colab_type": "code",
    "id": "-Fw-gSFYIbdu"
   },
   "outputs": [],
   "source": [
    "from __future__ import print_function\n",
    "import torch\n",
    "import torch.nn as nn\n",
    "import torch.nn.functional as F\n",
    "import torch.optim as optim\n",
    "from torchvision import datasets, transforms\n",
    "import numpy as np\n",
    "import matplotlib.pyplot as plt"
   ]
  },
  {
   "cell_type": "code",
   "execution_count": 3,
   "metadata": {
    "colab": {},
    "colab_type": "code",
    "id": "MXobUARXIbd4"
   },
   "outputs": [],
   "source": [
    "# FGSM attack code\n",
    "def fgsm_attack(image, epsilon, data_grad):\n",
    "    # Collect the element-wise sign of the data gradient\n",
    "    sign_data_grad = data_grad.sign()\n",
    "    # Create the perturbed image by adjusting each pixel of the input image\n",
    "    perturbed_image = image + epsilon*sign_data_grad\n",
    "    # Adding clipping to maintain [0,1] range\n",
    "    perturbed_image = torch.clamp(perturbed_image, 0, 1)\n",
    "    # Return the perturbed image\n",
    "    return perturbed_image"
   ]
  },
  {
   "cell_type": "code",
   "execution_count": 4,
   "metadata": {
    "colab": {},
    "colab_type": "code",
    "id": "-VUhyipnIbd8"
   },
   "outputs": [],
   "source": [
    "def test_noise( model, device, test_loader, epsilon, do_mask=False, do_edge=True):\n",
    "\n",
    "    # Accuracy counter\n",
    "    correct = 0\n",
    "    adv_examples = []\n",
    "\n",
    "    # Loop over all examples in test set\n",
    "    for data, target in test_loader:\n",
    "\n",
    "        # Send the data and label to the device\n",
    "        data, target = data.to(device), target.to(device)\n",
    "\n",
    "        # only necessary for the edge maps\n",
    "        data = (data - data.min()) / (data.max() - data.min())        \n",
    "        \n",
    "        # Set requires_grad attribute of tensor. Important for Attack\n",
    "        data.requires_grad = True\n",
    "\n",
    "        # Forward pass the data through the model\n",
    "#         import pdb; pdb.set_trace()\n",
    "        output = model(data)\n",
    "        init_pred = output.max(1, keepdim=True)[1] # get the index of the max log-probability\n",
    "\n",
    "        # If the initial prediction is wrong, dont bother attacking, just move on\n",
    "        if init_pred.item() != target.item():\n",
    "            continue\n",
    "\n",
    "        # Calculate the loss\n",
    "#         loss = F.nll_loss(output, target)\n",
    "        loss = F.cross_entropy(output, target)        \n",
    "\n",
    "        # Zero all existing gradients\n",
    "        model.zero_grad()\n",
    "\n",
    "        # Calculate gradients of model in backward pass\n",
    "        loss.backward()\n",
    "\n",
    "        # Collect datagrad\n",
    "        data_grad = data.grad.data\n",
    "\n",
    "        # Call FGSM Attack\n",
    "        perturbed_data = fgsm_attack(data, epsilon, data_grad)\n",
    "        \n",
    "#         import pdb; pdb.set_trace()\n",
    "        # do edge detection on edge detected data\n",
    "        if do_edge:\n",
    "            perturbed_data = detect_edge(perturbed_data.detach())\n",
    "            perturbed_data = torch.from_numpy(perturbed_data)\n",
    "            perturbed_data = (perturbed_data - perturbed_data.min()) / (perturbed_data.max() - perturbed_data.min())        \n",
    "\n",
    "        # masking    x\n",
    "        if do_mask:\n",
    "            perturbed_data = apply_filter(perturbed_data)\n",
    "#             perturbed_data = perturbed_data * data\n",
    "            \n",
    "\n",
    "\n",
    "        # Re-classify the perturbed image\n",
    "        output = model(perturbed_data)\n",
    "\n",
    "        # Check for success\n",
    "        final_pred = output.max(1, keepdim=True)[1] # get the index of the max log-probability\n",
    "        if final_pred.item() == target.item():\n",
    "            correct += 1\n",
    "            # Special case for saving 0 epsilon examples\n",
    "            if (epsilon == 0) and (len(adv_examples) < 5):\n",
    "                adv_ex = perturbed_data.squeeze().detach().cpu().numpy()\n",
    "                adv_examples.append( (init_pred.item(), final_pred.item(), adv_ex) )\n",
    "        else:\n",
    "            # Save some adv examples for visualization later\n",
    "            if len(adv_examples) < 5:\n",
    "                adv_ex = perturbed_data.squeeze().detach().cpu().numpy()\n",
    "                adv_examples.append( (init_pred.item(), final_pred.item(), adv_ex) )\n",
    "\n",
    "    # Calculate final accuracy for this epsilon\n",
    "    final_acc = correct/float(len(test_loader))\n",
    "    print(\"Epsilon: {}\\tTest Accuracy = {} / {} = {}\".format(epsilon, correct, len(test_loader), final_acc))\n",
    "\n",
    "    # Return the accuracy and an adversarial example\n",
    "    return final_acc, adv_examples"
   ]
  },
  {
   "cell_type": "code",
   "execution_count": null,
   "metadata": {},
   "outputs": [],
   "source": []
  },
  {
   "cell_type": "code",
   "execution_count": null,
   "metadata": {},
   "outputs": [],
   "source": []
  },
  {
   "cell_type": "code",
   "execution_count": 5,
   "metadata": {},
   "outputs": [
    {
     "ename": "NameError",
     "evalue": "name 'test_loader' is not defined",
     "output_type": "error",
     "traceback": [
      "\u001b[0;31m---------------------------------------------------------------------------\u001b[0m",
      "\u001b[0;31mNameError\u001b[0m                                 Traceback (most recent call last)",
      "\u001b[0;32m<ipython-input-5-c179269af969>\u001b[0m in \u001b[0;36m<module>\u001b[0;34m\u001b[0m\n\u001b[0;32m----> 1\u001b[0;31m \u001b[0mplt\u001b[0m\u001b[0;34m.\u001b[0m\u001b[0mimshow\u001b[0m\u001b[0;34m(\u001b[0m\u001b[0mtest_loader\u001b[0m\u001b[0;34m.\u001b[0m\u001b[0mdataset\u001b[0m\u001b[0;34m.\u001b[0m\u001b[0mdata\u001b[0m\u001b[0;34m[\u001b[0m\u001b[0;36m0\u001b[0m\u001b[0;34m]\u001b[0m\u001b[0;34m)\u001b[0m\u001b[0;34m;\u001b[0m \u001b[0mplt\u001b[0m\u001b[0;34m.\u001b[0m\u001b[0mshow\u001b[0m\u001b[0;34m(\u001b[0m\u001b[0;34m)\u001b[0m\u001b[0;34m\u001b[0m\u001b[0;34m\u001b[0m\u001b[0m\n\u001b[0m\u001b[1;32m      2\u001b[0m \u001b[0mplt\u001b[0m\u001b[0;34m.\u001b[0m\u001b[0mimshow\u001b[0m\u001b[0;34m(\u001b[0m\u001b[0mtest_loader_new_edge\u001b[0m\u001b[0;34m.\u001b[0m\u001b[0mdataset\u001b[0m\u001b[0;34m.\u001b[0m\u001b[0mdata\u001b[0m\u001b[0;34m[\u001b[0m\u001b[0;36m0\u001b[0m\u001b[0;34m]\u001b[0m\u001b[0;34m)\u001b[0m\u001b[0;34m;\u001b[0m \u001b[0mplt\u001b[0m\u001b[0;34m.\u001b[0m\u001b[0mshow\u001b[0m\u001b[0;34m(\u001b[0m\u001b[0;34m)\u001b[0m\u001b[0;34m\u001b[0m\u001b[0;34m\u001b[0m\u001b[0m\n\u001b[1;32m      3\u001b[0m \u001b[0mplt\u001b[0m\u001b[0;34m.\u001b[0m\u001b[0mimshow\u001b[0m\u001b[0;34m(\u001b[0m\u001b[0mtest_loader_edge\u001b[0m\u001b[0;34m.\u001b[0m\u001b[0mdataset\u001b[0m\u001b[0;34m.\u001b[0m\u001b[0mdata\u001b[0m\u001b[0;34m[\u001b[0m\u001b[0;36m0\u001b[0m\u001b[0;34m]\u001b[0m\u001b[0;34m)\u001b[0m\u001b[0;34m;\u001b[0m \u001b[0mplt\u001b[0m\u001b[0;34m.\u001b[0m\u001b[0mshow\u001b[0m\u001b[0;34m(\u001b[0m\u001b[0;34m)\u001b[0m\u001b[0;34m\u001b[0m\u001b[0;34m\u001b[0m\u001b[0m\n",
      "\u001b[0;31mNameError\u001b[0m: name 'test_loader' is not defined"
     ]
    }
   ],
   "source": [
    "plt.imshow(test_loader.dataset.data[0]); plt.show()\n",
    "plt.imshow(test_loader_new_edge.dataset.data[0]); plt.show()\n",
    "plt.imshow(test_loader_edge.dataset.data[0]); plt.show()"
   ]
  },
  {
   "cell_type": "code",
   "execution_count": 6,
   "metadata": {},
   "outputs": [
    {
     "ename": "NameError",
     "evalue": "name 'model' is not defined",
     "output_type": "error",
     "traceback": [
      "\u001b[0;31m---------------------------------------------------------------------------\u001b[0m",
      "\u001b[0;31mNameError\u001b[0m                                 Traceback (most recent call last)",
      "\u001b[0;32m<ipython-input-6-b334dbc30071>\u001b[0m in \u001b[0;36m<module>\u001b[0;34m\u001b[0m\n\u001b[0;32m----> 1\u001b[0;31m \u001b[0moutput\u001b[0m \u001b[0;34m=\u001b[0m \u001b[0mmodel\u001b[0m\u001b[0;34m(\u001b[0m\u001b[0mevaluate_x\u001b[0m\u001b[0;34m[\u001b[0m\u001b[0;34m:\u001b[0m\u001b[0;34m,\u001b[0m\u001b[0;32mNone\u001b[0m\u001b[0;34m,\u001b[0m\u001b[0;34m...\u001b[0m\u001b[0;34m]\u001b[0m\u001b[0;34m)\u001b[0m\u001b[0;34m\u001b[0m\u001b[0;34m\u001b[0m\u001b[0m\n\u001b[0m\u001b[1;32m      2\u001b[0m \u001b[0mpred\u001b[0m \u001b[0;34m=\u001b[0m \u001b[0moutput\u001b[0m\u001b[0;34m.\u001b[0m\u001b[0mdata\u001b[0m\u001b[0;34m.\u001b[0m\u001b[0mmax\u001b[0m\u001b[0;34m(\u001b[0m\u001b[0;36m1\u001b[0m\u001b[0;34m)\u001b[0m\u001b[0;34m[\u001b[0m\u001b[0;36m1\u001b[0m\u001b[0;34m]\u001b[0m\u001b[0;34m\u001b[0m\u001b[0;34m\u001b[0m\u001b[0m\n\u001b[1;32m      3\u001b[0m \u001b[0md\u001b[0m \u001b[0;34m=\u001b[0m \u001b[0mpred\u001b[0m\u001b[0;34m.\u001b[0m\u001b[0meq\u001b[0m\u001b[0;34m(\u001b[0m\u001b[0mevaluate_y\u001b[0m\u001b[0;34m.\u001b[0m\u001b[0mdata\u001b[0m\u001b[0;34m)\u001b[0m\u001b[0;34m.\u001b[0m\u001b[0mcpu\u001b[0m\u001b[0;34m(\u001b[0m\u001b[0;34m)\u001b[0m\u001b[0;34m\u001b[0m\u001b[0;34m\u001b[0m\u001b[0m\n\u001b[1;32m      4\u001b[0m \u001b[0maccuracy\u001b[0m \u001b[0;34m=\u001b[0m \u001b[0md\u001b[0m\u001b[0;34m.\u001b[0m\u001b[0msum\u001b[0m\u001b[0;34m(\u001b[0m\u001b[0;34m)\u001b[0m\u001b[0;34m.\u001b[0m\u001b[0mtype\u001b[0m\u001b[0;34m(\u001b[0m\u001b[0mdtype\u001b[0m\u001b[0;34m=\u001b[0m\u001b[0mtorch\u001b[0m\u001b[0;34m.\u001b[0m\u001b[0mfloat64\u001b[0m\u001b[0;34m)\u001b[0m\u001b[0;34m/\u001b[0m\u001b[0md\u001b[0m\u001b[0;34m.\u001b[0m\u001b[0msize\u001b[0m\u001b[0;34m(\u001b[0m\u001b[0;34m)\u001b[0m\u001b[0;34m[\u001b[0m\u001b[0;36m0\u001b[0m\u001b[0;34m]\u001b[0m\u001b[0;34m\u001b[0m\u001b[0;34m\u001b[0m\u001b[0m\n",
      "\u001b[0;31mNameError\u001b[0m: name 'model' is not defined"
     ]
    }
   ],
   "source": [
    "output = model(evaluate_x[:,None,...])\n",
    "pred = output.data.max(1)[1]\n",
    "d = pred.eq(evaluate_y.data).cpu()\n",
    "accuracy = d.sum().type(dtype=torch.float64)/d.size()[0]"
   ]
  },
  {
   "cell_type": "code",
   "execution_count": null,
   "metadata": {},
   "outputs": [],
   "source": []
  },
  {
   "cell_type": "code",
   "execution_count": null,
   "metadata": {},
   "outputs": [],
   "source": []
  },
  {
   "cell_type": "code",
   "execution_count": null,
   "metadata": {},
   "outputs": [],
   "source": []
  },
  {
   "cell_type": "code",
   "execution_count": 7,
   "metadata": {
    "colab": {
     "base_uri": "https://localhost:8080/",
     "height": 122
    },
    "colab_type": "code",
    "id": "-qBAcHmlZJdJ",
    "outputId": "decb3295-cf8e-4ad7-84e2-85344f942323"
   },
   "outputs": [],
   "source": [
    "# from google.colab import drive\n",
    "# drive.mount('/gdrive')\n"
   ]
  },
  {
   "cell_type": "code",
   "execution_count": 7,
   "metadata": {
    "colab": {},
    "colab_type": "code",
    "id": "VwLQh6vWRoTi"
   },
   "outputs": [],
   "source": [
    "epsilons = [0, .05, .1, .15, .2, .25, .3]\n",
    "# pretrained_model = \"/gdrive/My Drive/Tmp/lenet_mnist_model.pth\"\n",
    "# pretrained_model = '/gdrive/My Drive/Tmp/cifar_net.pth' #pretrained_model = \"lenet_mnist_model.pth\"\n",
    "# path = '/gdrive/My Drive/Tmp/slope_models/'\n",
    "# path = 'model/slope_models/'\n",
    "\n",
    "pretrained_model = \"/models/lenet_mnist_model.pth\"\n",
    "use_cuda=True"
   ]
  },
  {
   "cell_type": "code",
   "execution_count": 8,
   "metadata": {
    "colab": {},
    "colab_type": "code",
    "id": "iI7soiDFRoTk"
   },
   "outputs": [],
   "source": [
    "# LeNet Model definition\n",
    "class Net(nn.Module):\n",
    "    def __init__(self):\n",
    "        super(Net, self).__init__()\n",
    "        self.conv1 = nn.Conv2d(1, 10, kernel_size=5)\n",
    "        self.conv2 = nn.Conv2d(10, 20, kernel_size=5)\n",
    "        self.conv2_drop = nn.Dropout2d()\n",
    "        self.fc1 = nn.Linear(320, 50)\n",
    "        self.fc2 = nn.Linear(50, 10)\n",
    "\n",
    "    def forward(self, x):\n",
    "        x = F.relu(F.max_pool2d(self.conv1(x), 2))\n",
    "        x = F.relu(F.max_pool2d(self.conv2_drop(self.conv2(x)), 2))\n",
    "        x = x.view(-1, 320)\n",
    "        x = F.relu(self.fc1(x))\n",
    "        x = F.dropout(x, training=self.training)\n",
    "        x = self.fc2(x)\n",
    "        return x#F.log_softmax(x, dim=1)"
   ]
  },
  {
   "cell_type": "markdown",
   "metadata": {
    "colab_type": "text",
    "id": "AC7K1TMmRoTn"
   },
   "source": [
    "# training a model first"
   ]
  },
  {
   "cell_type": "code",
   "execution_count": 9,
   "metadata": {
    "colab": {
     "base_uri": "https://localhost:8080/",
     "height": 352,
     "referenced_widgets": [
      "6ecdfd5d9b0c4ada8be3ccc8013615d9",
      "821e3110a27340cca8cd09be81e45f7a",
      "3249ae9393864d2ca2e8e1f76e936b6f",
      "d2d03a0c7cb64359ba8fd6514665fdfd",
      "2146f30626e84ec3a68217d7c744d0f5",
      "f1b5e49258d3464dbef5e71600462a79",
      "b5745956eccd44589b9801e3c7695cbc",
      "9d60a42b0b9a48e5a9fff0036bc68310",
      "efdb0aecb36749df9c8db3aa9e8b33c6",
      "e5e0b13dc5d149a297c2b0f5833d25bc",
      "45a21a5b9ef54ee4a22a2ab79a1cb8f4",
      "5fa3f44abeab48859ba60c77200a12b5",
      "40364f4f5ba5488caf5e49d5c46a779f",
      "fc4186a38a434dcbbf20cc5ffc0087bc",
      "6687cea8859148eaa4e31011a9e62979",
      "dfd8e6d2457d4f93bacbdb346c346346",
      "a1b92b75eee24bd6816f148f06caf88c",
      "4ba8b67cbff04f08954788a78771c7d0",
      "a3fd4006b5bc4214993c288e75ccafd0",
      "168706f3238d4119a5990b2f7afdba40",
      "034579c5826746f6a0daa2a591b94369",
      "b53135f49a4b404da3eee27a75b756de",
      "9a48f7296a644e09af97e57bcf0df97f",
      "e85041b4142648eb8e25ec653c16f528",
      "8bdfa71d995a4286a3f9df88ab6b9528",
      "e2210ae0f23947469ac595ea836bdcca",
      "b4362b638e814313bf999f71f6412989",
      "c64b0ac2b1be45089d13e00b1849bf51",
      "8523cb81110e4a228f33b6b89a2fad98",
      "dfecae80f8f74e42a87214d9d73f9507",
      "fb5f450d679c4c4d9df957d4b4283ce4",
      "aaa387189b2e4b4e9c79c2928b21e971"
     ]
    },
    "colab_type": "code",
    "id": "ymnbRdR2RoTn",
    "outputId": "1b14de92-848b-49e5-ea66-2d7b7bb37732"
   },
   "outputs": [],
   "source": [
    "train_loader = torch.utils.data.DataLoader(\n",
    "    datasets.MNIST('../data', train=True, download=True, transform=transforms.Compose([\n",
    "            transforms.ToTensor(),\n",
    "            ])), \n",
    "        batch_size=100, shuffle=True)\n",
    "\n",
    "# # MNIST Test dataset and dataloader declaration\n",
    "test_loader = torch.utils.data.DataLoader(\n",
    "    datasets.MNIST('../data', train=False, download=True, transform=transforms.Compose([\n",
    "            transforms.ToTensor(),\n",
    "            ])), \n",
    "        batch_size=100, shuffle=True)\n",
    "\n",
    "# # Define what device we are using\n",
    "# print(\"CUDA Available: \",torch.cuda.is_available())\n",
    "device = torch.device(\"cuda\" if (use_cuda and torch.cuda.is_available()) else \"cpu\")\n",
    "\n"
   ]
  },
  {
   "cell_type": "code",
   "execution_count": 10,
   "metadata": {
    "colab": {},
    "colab_type": "code",
    "id": "q2HZmm6pRoTq"
   },
   "outputs": [],
   "source": [
    "# pretrained_model = \"models/lenet_mnist_model.pth\"\n",
    "model = Net().to(device)  # training with slope 1 for now\n",
    "# model.load_state_dict(torch.load(pretrained_model, map_location='cpu'))\n"
   ]
  },
  {
   "cell_type": "code",
   "execution_count": 11,
   "metadata": {
    "colab": {
     "base_uri": "https://localhost:8080/",
     "height": 323
    },
    "colab_type": "code",
    "id": "oLSvmY2jRoTs",
    "outputId": "91f9292d-44a7-442f-94e1-255fe681206b"
   },
   "outputs": [
    {
     "name": "stdout",
     "output_type": "stream",
     "text": [
      "----------------------------------------------------------------\n",
      "        Layer (type)               Output Shape         Param #\n",
      "================================================================\n",
      "            Conv2d-1           [-1, 10, 24, 24]             260\n",
      "            Conv2d-2             [-1, 20, 8, 8]           5,020\n",
      "         Dropout2d-3             [-1, 20, 8, 8]               0\n",
      "            Linear-4                   [-1, 50]          16,050\n",
      "            Linear-5                   [-1, 10]             510\n",
      "================================================================\n",
      "Total params: 21,840\n",
      "Trainable params: 21,840\n",
      "Non-trainable params: 0\n",
      "----------------------------------------------------------------\n",
      "Input size (MB): 0.00\n",
      "Forward/backward pass size (MB): 0.06\n",
      "Params size (MB): 0.08\n",
      "Estimated Total Size (MB): 0.15\n",
      "----------------------------------------------------------------\n"
     ]
    }
   ],
   "source": [
    "from torchsummary import summary\n",
    "# device = torch.device('cuda' if torch.cuda.is_available() else 'cpu')\n",
    "# vgg = models.vgg16().to(device)\n",
    "summary(model, (1, 28, 28))\n"
   ]
  },
  {
   "cell_type": "code",
   "execution_count": 12,
   "metadata": {},
   "outputs": [],
   "source": [
    "from skimage import io, color, feature\n",
    "\n",
    "# def detect_edge(data):\n",
    "#     edge_maps = np.zeros_like(data)\n",
    "#     for idx,img in enumerate(data):\n",
    "# #         import pdb; pdb.set_trace()\n",
    "#         edge_maps[idx,0] = feature.canny(np.array(img[0], dtype=np.float64), sigma = 1)\n",
    "\n",
    "#     return edge_maps\n",
    "    \n",
    "    \n",
    "\n",
    "def detect_edge(data):\n",
    "    edge_maps = np.zeros_like(data)\n",
    "    for idx,img in enumerate(data):\n",
    "#         import pdb; pdb.set_trace()\n",
    "        edge_maps[idx,0] = feature.canny(np.array(img[0], dtype=np.float64), sigma = .1, low_threshold=1.5) #, high_threshold=.1)\n",
    "\n",
    "    return edge_maps    "
   ]
  },
  {
   "cell_type": "code",
   "execution_count": null,
   "metadata": {},
   "outputs": [],
   "source": []
  },
  {
   "cell_type": "markdown",
   "metadata": {},
   "source": [
    "## convert all the images in the train set"
   ]
  },
  {
   "cell_type": "code",
   "execution_count": 13,
   "metadata": {},
   "outputs": [],
   "source": [
    "train_loader_edge = torch.utils.data.DataLoader(\n",
    "    datasets.MNIST('../data', train=True, download=True, transform=transforms.Compose([\n",
    "            transforms.ToTensor(),\n",
    "            ])), \n",
    "        batch_size=100, shuffle=True)\n",
    "\n",
    "# # MNIST Test dataset and dataloader declaration\n",
    "test_loader_edge = torch.utils.data.DataLoader(\n",
    "    datasets.MNIST('../data', train=False, download=True, transform=transforms.Compose([\n",
    "            transforms.ToTensor(),\n",
    "            ])), \n",
    "        batch_size=100, shuffle=True)\n",
    "\n",
    "\n",
    "xx = detect_edge(train_loader_edge.dataset.data[:,None])\n",
    "train_loader_edge.dataset.data = xx[:,0]\n",
    "\n",
    "xx = detect_edge(test_loader_edge.dataset.data[:,None])\n",
    "test_loader_edge.dataset.data = xx[:,0]\n",
    "\n",
    "\n",
    "del xx\n",
    "\n",
    "train_loader_edge.dataset.data = torch.from_numpy(train_loader_edge.dataset.data)\n",
    "test_loader_edge.dataset.data = torch.from_numpy(test_loader_edge.dataset.data)\n",
    "\n"
   ]
  },
  {
   "cell_type": "code",
   "execution_count": null,
   "metadata": {},
   "outputs": [],
   "source": [
    "# # for idx,i in enumerate(train_loader_edge.dataset):\n",
    "# #     train_loader_edge.dataset[idx][0][0] = torch.from_numpy(detect_edge(i[0][None])[0,0])\n",
    "# xx = detect_edge(test_loader_edge.dataset.data[:,None])\n",
    "# test_loader_edge.dataset.data = xx[:,0]\n",
    "\n",
    "\n"
   ]
  },
  {
   "cell_type": "code",
   "execution_count": 12,
   "metadata": {},
   "outputs": [
    {
     "data": {
      "image/png": "[encoded data removed]",
      "text/plain": [
       "<Figure size 432x288 with 1 Axes>"
      ]
     },
     "metadata": {
      "needs_background": "light"
     },
     "output_type": "display_data"
    }
   ],
   "source": [
    "# xx[:,0].shape\n",
    "plt.imshow(train_loader_edge.dataset.data[100]); plt.show()"
   ]
  },
  {
   "cell_type": "code",
   "execution_count": null,
   "metadata": {},
   "outputs": [],
   "source": [
    "# img = train_loader_edge.dataset[1]\n",
    "# train_loader_edge.dataset[0][0][0] = torch.from_numpy(detect_edge(img[0][None])[0,0])\n",
    "# xx = torch.from_numpy(detect_edge(img[0][None])[0,0])\n",
    "# plt.imshow(train_loader_edge.dataset[1][0][0]); plt.show()\n",
    "# plt.imshow(xx); plt.show()"
   ]
  },
  {
   "cell_type": "code",
   "execution_count": null,
   "metadata": {},
   "outputs": [],
   "source": [
    "# train_loader_edge.dataset.data.shape\n",
    "# train_loader_edge.dataset.data[:,None].shape"
   ]
  },
  {
   "cell_type": "code",
   "execution_count": null,
   "metadata": {},
   "outputs": [],
   "source": [
    "# type(detect_edge(i[0][None])[0,0])"
   ]
  },
  {
   "cell_type": "code",
   "execution_count": null,
   "metadata": {},
   "outputs": [],
   "source": [
    "# type(train_loader_edge.dataset[idx][0][0])"
   ]
  },
  {
   "cell_type": "code",
   "execution_count": 450,
   "metadata": {},
   "outputs": [
    {
     "name": "stdout",
     "output_type": "stream",
     "text": [
      "60000\n",
      "60000\n"
     ]
    }
   ],
   "source": [
    "print(len(train_loader_edge.dataset.data))\n",
    "print(len(train_loader.dataset.data))"
   ]
  },
  {
   "cell_type": "code",
   "execution_count": 41,
   "metadata": {
    "colab": {
     "base_uri": "https://localhost:8080/",
     "height": 527
    },
    "colab_type": "code",
    "id": "x1iOE9bfRoTv",
    "outputId": "e207c849-2814-43fa-d23a-dd1cd058c359"
   },
   "outputs": [
    {
     "name": "stdout",
     "output_type": "stream",
     "text": [
      " Train Epoch: 1/15 [60000/60000 (100%)]\tLoss: 2.124670\t Test Accuracy: 95.4400%\n",
      " Train Epoch: 2/15 [60000/60000 (100%)]\tLoss: 0.168492\t Test Accuracy: 95.7800%\n",
      " Train Epoch: 3/15 [60000/60000 (100%)]\tLoss: 0.122502\t Test Accuracy: 95.8200%\n",
      " Train Epoch: 4/15 [60000/60000 (100%)]\tLoss: 0.120787\t Test Accuracy: 95.8100%\n",
      " Train Epoch: 5/15 [60000/60000 (100%)]\tLoss: 0.141722\t Test Accuracy: 95.8200%\n",
      " Train Epoch: 6/15 [60000/60000 (100%)]\tLoss: 0.142420\t Test Accuracy: 95.8400%\n",
      " Train Epoch: 7/15 [60000/60000 (100%)]\tLoss: 0.179516\t Test Accuracy: 95.8300%\n",
      " Train Epoch: 8/15 [60000/60000 (100%)]\tLoss: 0.163656\t Test Accuracy: 95.8000%\n",
      " Train Epoch: 9/15 [60000/60000 (100%)]\tLoss: 0.077156\t Test Accuracy: 95.8000%\n",
      " Train Epoch: 10/15 [60000/60000 (100%)]\tLoss: 0.190155\t Test Accuracy: 95.7800%\n",
      " Train Epoch: 11/15 [60000/60000 (100%)]\tLoss: 0.161087\t Test Accuracy: 95.7800%\n",
      " Train Epoch: 12/15 [60000/60000 (100%)]\tLoss: 0.108513\t Test Accuracy: 95.8000%\n",
      " Train Epoch: 13/15 [60000/60000 (100%)]\tLoss: 0.091743\t Test Accuracy: 95.8200%\n",
      " Train Epoch: 14/15 [60000/60000 (100%)]\tLoss: 0.138323\t Test Accuracy: 95.8200%\n",
      " Train Epoch: 15/15 [60000/60000 (100%)]\tLoss: 0.200134\t Test Accuracy: 95.7700%\n"
     ]
    }
   ],
   "source": [
    "EPOCHS = 15\n",
    "losses = []\n",
    "\n",
    "optimizer = optim.Adadelta(model.parameters(), lr=(1e-3))\n",
    "\n",
    "\n",
    "model.train()\n",
    "for epoch in range(EPOCHS):\n",
    "    for batch_idx, (data, target) in enumerate(train_loader_edge):\n",
    "        \n",
    "        # add noise\n",
    "        # import pdb; pdb.set_trace()\n",
    "        # data = detect_edge(np.array(np.copy(data)))\n",
    "        # data = torch.Tensor(data.tolist())\n",
    "        # send to device\n",
    "\n",
    "        data, target = data.to(device), target.to(device)        \n",
    "        data = (data-data.min()) / (data.max()-data.min())\n",
    "        \n",
    "        # Init\n",
    "        optimizer.zero_grad()\n",
    "\n",
    "        # Predict\n",
    "        y_pred = model(data) \n",
    "\n",
    "        # Calculate loss\n",
    "        \n",
    "        loss = F.cross_entropy(y_pred, target)\n",
    "#         loss = F.nll_loss(y_pred, target)        \n",
    "        losses.append(loss.cpu().data)\n",
    "#         losses.append(loss.cpu().data[0])        \n",
    "        # Backpropagation\n",
    "        loss.backward()\n",
    "        optimizer.step()\n",
    "        \n",
    "        \n",
    "        # Display\n",
    "        if batch_idx % 100 == 1:\n",
    "            print('\\r Train Epoch: {}/{} [{}/{} ({:.0f}%)]\\tLoss: {:.6f}'.format(\n",
    "                epoch+1,\n",
    "                EPOCHS,\n",
    "                batch_idx * len(data), \n",
    "                len(train_loader_edge.dataset),\n",
    "                100. * batch_idx / len(train_loader_edge), \n",
    "                loss.cpu().data), \n",
    "                end='')\n",
    "    # Eval\n",
    "    evaluate_x = test_loader_edge.dataset.data.type_as(torch.FloatTensor())\n",
    "    evaluate_y = test_loader_edge.dataset.targets\n",
    "\n",
    "    evaluate_x, evaluate_y = evaluate_x.to(device), evaluate_y.to(device)        \n",
    "\n",
    "\n",
    "    model.eval()\n",
    "    output = model(evaluate_x[:,None,...])\n",
    "    pred = output.data.max(1)[1]\n",
    "    d = pred.eq(evaluate_y.data).cpu()\n",
    "    accuracy = d.sum().type(dtype=torch.float64)/d.size()[0]\n",
    "    \n",
    "    print('\\r Train Epoch: {}/{} [{}/{} ({:.0f}%)]\\tLoss: {:.6f}\\t Test Accuracy: {:.4f}%'.format(\n",
    "        epoch+1,\n",
    "        EPOCHS,\n",
    "        len(train_loader_edge.dataset), \n",
    "        len(train_loader_edge.dataset),\n",
    "        100. * batch_idx / len(train_loader_edge), \n",
    "        loss.cpu().data,\n",
    "        accuracy*100,\n",
    "        end=''))\n",
    "    "
   ]
  },
  {
   "cell_type": "code",
   "execution_count": null,
   "metadata": {},
   "outputs": [],
   "source": [
    "# load a trained model "
   ]
  },
  {
   "cell_type": "code",
   "execution_count": 42,
   "metadata": {},
   "outputs": [],
   "source": [
    "torch.save(model.state_dict(), 'models/model_mnist_edge.pth')"
   ]
  },
  {
   "cell_type": "code",
   "execution_count": 43,
   "metadata": {},
   "outputs": [],
   "source": [
    "torch.save(model, 'models/model_mnist_edge_other_way_of_saving.pth')"
   ]
  },
  {
   "cell_type": "code",
   "execution_count": 44,
   "metadata": {},
   "outputs": [
    {
     "data": {
      "image/png": "[encoded data removed]",
      "text/plain": [
       "<Figure size 432x288 with 1 Axes>"
      ]
     },
     "metadata": {
      "needs_background": "light"
     },
     "output_type": "display_data"
    },
    {
     "data": {
      "text/plain": [
       "tensor(1.)"
      ]
     },
     "execution_count": 44,
     "metadata": {},
     "output_type": "execute_result"
    }
   ],
   "source": [
    "plt.imshow(data[10,0]); plt.show()\n",
    "target[10]\n",
    "data[10,0].max()"
   ]
  },
  {
   "cell_type": "code",
   "execution_count": null,
   "metadata": {},
   "outputs": [],
   "source": [
    "def auto_canny(image, sigma=0.33):\n",
    "    # compute the median of the single channel pixel intensities\n",
    "    v = np.median(image)\n",
    "    # apply automatic Canny edge detection using the computed median\n",
    "    lower = int(max(0, (1.0 - sigma) * v))\n",
    "    upper = int(min(255, (1.0 + sigma) * v))\n",
    "    edged = cv2.Canny(image, lower, upper)\n",
    "    # return the edged image\n",
    "    return edged"
   ]
  },
  {
   "cell_type": "code",
   "execution_count": null,
   "metadata": {},
   "outputs": [],
   "source": [
    "from scipy import ndimage\n",
    "def sobel_filters(img):\n",
    "    Kx = np.array([[-1, 0, 1], [-2, 0, 2], [-1, 0, 1]], np.float32)\n",
    "    Ky = np.array([[1, 2, 1], [0, 0, 0], [-1, -2, -1]], np.float32)\n",
    "    \n",
    "    Ix = ndimage.filters.convolve(img, Kx)\n",
    "    Iy = ndimage.filters.convolve(img, Ky)\n",
    "    \n",
    "    G = np.hypot(Ix, Iy)\n",
    "    G = G / G.max() * 255\n",
    "    theta = np.arctan2(Iy, Ix)\n",
    "    \n",
    "    return (G, theta)"
   ]
  },
  {
   "cell_type": "code",
   "execution_count": null,
   "metadata": {},
   "outputs": [],
   "source": [
    "# import cv2 \n",
    "# # edge_map = auto_canny(np.array(data[0,0], dtype=np.uint8))\n",
    "# edges = cv2.Canny(np.array(data[10,0], dtype=np.uint8),300,600)\n",
    "# plt.imshow(data[0,0])\n",
    "# plt.show()\n",
    "# plt.imshow(edges)\n",
    "# plt.show()\n",
    "\n",
    "# edges_sobel = sobel_filters(np.array(data[10,0], dtype=np.float64))\n",
    "# plt.imshow(edges_sobel[1])\n",
    "# plt.show()\n",
    "\n",
    "\n",
    "\n",
    "\n",
    "from skimage import io, color, feature\n",
    "\n",
    "for i in np.arange(1):\n",
    "\n",
    "    digit_edge = feature.canny(np.array(data[i,0], dtype=np.float64), sigma = 1)\n",
    "\n",
    "    plt.imshow(digit_edge)\n",
    "    plt.show()\n",
    "\n",
    "\n"
   ]
  },
  {
   "cell_type": "code",
   "execution_count": null,
   "metadata": {},
   "outputs": [],
   "source": [
    "# edges_sobel[0].dtype\n",
    "# data[0,0].dtype\n"
   ]
  },
  {
   "cell_type": "code",
   "execution_count": null,
   "metadata": {},
   "outputs": [],
   "source": [
    "# (np.array(data[0,0], dtype=np.uint8)).shape"
   ]
  },
  {
   "cell_type": "code",
   "execution_count": null,
   "metadata": {},
   "outputs": [],
   "source": []
  },
  {
   "cell_type": "code",
   "execution_count": null,
   "metadata": {},
   "outputs": [],
   "source": []
  },
  {
   "cell_type": "code",
   "execution_count": null,
   "metadata": {
    "colab": {},
    "colab_type": "code",
    "id": "Y1QQN9tT4hNR"
   },
   "outputs": [],
   "source": []
  },
  {
   "cell_type": "code",
   "execution_count": 48,
   "metadata": {
    "colab": {
     "base_uri": "https://localhost:8080/",
     "height": 34
    },
    "colab_type": "code",
    "id": "4659L91ARoTy",
    "outputId": "c0d0bc8f-e3cb-44f5-ec0e-9e344f297e0d"
   },
   "outputs": [
    {
     "name": "stdout",
     "output_type": "stream",
     "text": [
      "tensor(0.9577, dtype=torch.float64)\n"
     ]
    }
   ],
   "source": [
    "evaluate_x = test_loader_edge.dataset.data.type_as(torch.FloatTensor())\n",
    "evaluate_y = test_loader_edge.dataset.targets\n",
    "\n",
    "evaluate_x, evaluate_y = evaluate_x.to(device), evaluate_y.to(device)        \n",
    "\n",
    "\n",
    "model.eval()\n",
    "output = model(evaluate_x[:,None,...])\n",
    "pred = output.data.max(1)[1]\n",
    "d = pred.eq(evaluate_y.data).cpu()\n",
    "accuracy = d.sum().type(dtype=torch.float64)/d.size()[0]\n",
    "print(accuracy)"
   ]
  },
  {
   "cell_type": "code",
   "execution_count": 27,
   "metadata": {},
   "outputs": [
    {
     "data": {
      "text/plain": [
       "tensor([7])"
      ]
     },
     "execution_count": 27,
     "metadata": {},
     "output_type": "execute_result"
    }
   ],
   "source": [
    "pred"
   ]
  },
  {
   "cell_type": "code",
   "execution_count": null,
   "metadata": {},
   "outputs": [],
   "source": [
    "test_loader_edge.dataset.data[0][None,None].shape"
   ]
  },
  {
   "cell_type": "code",
   "execution_count": 49,
   "metadata": {},
   "outputs": [
    {
     "data": {
      "image/png": "[encoded data removed]",
      "text/plain": [
       "<Figure size 432x288 with 1 Axes>"
      ]
     },
     "metadata": {
      "needs_background": "light"
     },
     "output_type": "display_data"
    },
    {
     "data": {
      "image/png": "[encoded data removed]",
      "text/plain": [
       "<Figure size 432x288 with 1 Axes>"
      ]
     },
     "metadata": {
      "needs_background": "light"
     },
     "output_type": "display_data"
    },
    {
     "name": "stdout",
     "output_type": "stream",
     "text": [
      "tensor([0])\n"
     ]
    }
   ],
   "source": [
    "plt.imshow(evaluate_x[10]); plt.show()\n",
    "plt.imshow(test_loader.dataset.data[10]); plt.show()\n",
    "\n",
    "output = model(test_loader_edge.dataset.data[10][None,None].type_as(torch.FloatTensor()))\n",
    "print(output.data.max(1)[1])"
   ]
  },
  {
   "cell_type": "code",
   "execution_count": null,
   "metadata": {},
   "outputs": [],
   "source": []
  },
  {
   "cell_type": "code",
   "execution_count": 25,
   "metadata": {},
   "outputs": [
    {
     "data": {
      "text/plain": [
       "torch.Size([1, 28, 28])"
      ]
     },
     "execution_count": 25,
     "metadata": {},
     "output_type": "execute_result"
    }
   ],
   "source": [
    "evaluate_x[0,None,...].shape"
   ]
  },
  {
   "cell_type": "markdown",
   "metadata": {
    "colab_type": "text",
    "id": "8vKYl4O6RoT0"
   },
   "source": [
    "# Now perform adversarial attack"
   ]
  },
  {
   "cell_type": "markdown",
   "metadata": {},
   "source": [
    "## On original data"
   ]
  },
  {
   "cell_type": "code",
   "execution_count": 24,
   "metadata": {
    "colab": {
     "base_uri": "https://localhost:8080/",
     "height": 511
    },
    "colab_type": "code",
    "id": "iFXLuEzmRoT1",
    "outputId": "06d95eec-acb6-4cc9-8e7a-d5a7722daf95"
   },
   "outputs": [
    {
     "ename": "NameError",
     "evalue": "name 'test' is not defined",
     "output_type": "error",
     "traceback": [
      "\u001b[0;31m---------------------------------------------------------------------------\u001b[0m",
      "\u001b[0;31mNameError\u001b[0m                                 Traceback (most recent call last)",
      "\u001b[0;32m<ipython-input-24-39d4ed3fd9c0>\u001b[0m in \u001b[0;36m<module>\u001b[0;34m\u001b[0m\n\u001b[1;32m     19\u001b[0m \u001b[0;34m\u001b[0m\u001b[0m\n\u001b[1;32m     20\u001b[0m \u001b[0;32mfor\u001b[0m \u001b[0meps\u001b[0m \u001b[0;32min\u001b[0m \u001b[0mepsilons\u001b[0m\u001b[0;34m:\u001b[0m\u001b[0;34m\u001b[0m\u001b[0;34m\u001b[0m\u001b[0m\n\u001b[0;32m---> 21\u001b[0;31m     \u001b[0macc\u001b[0m\u001b[0;34m,\u001b[0m \u001b[0mex\u001b[0m \u001b[0;34m=\u001b[0m \u001b[0mtest\u001b[0m\u001b[0;34m(\u001b[0m\u001b[0mmodel\u001b[0m\u001b[0;34m,\u001b[0m \u001b[0mdevice\u001b[0m\u001b[0;34m,\u001b[0m \u001b[0mtest_loader_new\u001b[0m\u001b[0;34m,\u001b[0m \u001b[0meps\u001b[0m\u001b[0;34m)\u001b[0m\u001b[0;34m\u001b[0m\u001b[0;34m\u001b[0m\u001b[0m\n\u001b[0m\u001b[1;32m     22\u001b[0m     \u001b[0maccuracies\u001b[0m\u001b[0;34m.\u001b[0m\u001b[0mappend\u001b[0m\u001b[0;34m(\u001b[0m\u001b[0macc\u001b[0m\u001b[0;34m)\u001b[0m\u001b[0;34m\u001b[0m\u001b[0;34m\u001b[0m\u001b[0m\n\u001b[1;32m     23\u001b[0m     \u001b[0mexamples\u001b[0m\u001b[0;34m.\u001b[0m\u001b[0mappend\u001b[0m\u001b[0;34m(\u001b[0m\u001b[0mex\u001b[0m\u001b[0;34m)\u001b[0m\u001b[0;34m\u001b[0m\u001b[0;34m\u001b[0m\u001b[0m\n",
      "\u001b[0;31mNameError\u001b[0m: name 'test' is not defined"
     ]
    }
   ],
   "source": [
    "# # MNIST Test dataset and dataloader declaration\n",
    "test_loader_new = torch.utils.data.DataLoader(\n",
    "    datasets.MNIST('../data', train=False, download=True, transform=transforms.Compose([\n",
    "            transforms.ToTensor(),\n",
    "            ])), \n",
    "        batch_size=1, shuffle=True)\n",
    "\n",
    "\n",
    "\n",
    "epsilons = [0, .05, .1, .15, .2, .25, .3]\n",
    "\n",
    "epsilons = [.3]\n",
    "\n",
    "model.eval()\n",
    "\n",
    "# Run test for each epsilon\n",
    "accuracies = []\n",
    "examples = []\n",
    "\n",
    "for eps in epsilons:\n",
    "    acc, ex = test(model, device, test_loader_new, eps)\n",
    "    accuracies.append(acc)\n",
    "    examples.append(ex)\n",
    "\n"
   ]
  },
  {
   "cell_type": "code",
   "execution_count": null,
   "metadata": {
    "colab": {},
    "colab_type": "code",
    "id": "0kqYpB3NRoT6",
    "outputId": "d0c7272c-5ccb-4569-c821-6137379972f7"
   },
   "outputs": [],
   "source": [
    "# Plot several examples of adversarial samples at each epsilon\n",
    "cnt = 0\n",
    "plt.figure(figsize=(8,10))\n",
    "for i in range(len(epsilons)):\n",
    "    for j in range(len(examples[i])):\n",
    "        cnt += 1\n",
    "        plt.subplot(len(epsilons),len(examples[0]),cnt)\n",
    "        plt.xticks([], [])\n",
    "        plt.yticks([], [])\n",
    "        if j == 0:\n",
    "            plt.ylabel(\"Eps: {}\".format(epsilons[i]), fontsize=14)\n",
    "        orig,adv,ex = examples[i][j]\n",
    "        plt.title(\"{} -> {}\".format(orig, adv))\n",
    "        plt.imshow(ex, cmap=\"gray\")\n",
    "plt.tight_layout()\n",
    "plt.show()"
   ]
  },
  {
   "cell_type": "code",
   "execution_count": null,
   "metadata": {
    "colab": {},
    "colab_type": "code",
    "id": "BmK5A7bW3EMH"
   },
   "outputs": [],
   "source": [
    "# Epsilon: 0\tTest Accuracy = 9104 / 10000 = 0.9104\n",
    "# Epsilon: 0.05\tTest Accuracy = 7945 / 10000 = 0.7945\n",
    "# Epsilon: 0.1\tTest Accuracy = 6320 / 10000 = 0.632\n",
    "# Epsilon: 0.15\tTest Accuracy = 4208 / 10000 = 0.4208\n",
    "# Epsilon: 0.2\tTest Accuracy = 2305 / 10000 = 0.2305\n",
    "# Epsilon: 0.25\tTest Accuracy = 913 / 10000 = 0.0913\n",
    "# Epsilon: 0.3\tTest Accuracy = 339 / 10000 = 0.0339\n",
    "\n",
    "plt.figure(figsize=(5,5))\n",
    "plt.plot(epsilons, accuracies, \"*-\")\n",
    "plt.yticks(np.arange(0, 1.1, step=0.1))\n",
    "plt.xticks(np.arange(0, .35, step=0.05))\n",
    "plt.title(\"Accuracy vs Epsilon\")\n",
    "plt.xlabel(\"Epsilon\")\n",
    "plt.ylabel(\"Accuracy\")\n",
    "plt.show()"
   ]
  },
  {
   "cell_type": "markdown",
   "metadata": {
    "colab": {},
    "colab_type": "code",
    "id": "jjBjUxkC4ZeC"
   },
   "source": [
    "## On edge maps"
   ]
  },
  {
   "cell_type": "code",
   "execution_count": 19,
   "metadata": {},
   "outputs": [],
   "source": [
    "# # # MNIST Test dataset and dataloader declaration\n",
    "# test_loader_new_edge = torch.utils.data.DataLoader(\n",
    "#     datasets.MNIST('../data', train=False, download=True, transform=transforms.Compose([\n",
    "#             transforms.ToTensor(),\n",
    "#             ])), \n",
    "#         batch_size=1, shuffle=False)\n",
    "\n",
    "\n",
    "# xx = detect_edge(test_loader_new_edge.dataset.data[:,None])\n",
    "# test_loader_new_edge.dataset.data = xx[:,0]\n",
    "\n",
    "\n",
    "# del xx\n",
    "\n",
    "# test_loader_new_edge.dataset.data = torch.from_numpy(test_loader_new_edge.dataset.data)"
   ]
  },
  {
   "cell_type": "code",
   "execution_count": 26,
   "metadata": {},
   "outputs": [
    {
     "ename": "NameError",
     "evalue": "name 'test_loader_new_edge' is not defined",
     "output_type": "error",
     "traceback": [
      "\u001b[0;31m---------------------------------------------------------------------------\u001b[0m",
      "\u001b[0;31mNameError\u001b[0m                                 Traceback (most recent call last)",
      "\u001b[0;32m<ipython-input-26-f4112e38faef>\u001b[0m in \u001b[0;36m<module>\u001b[0;34m\u001b[0m\n\u001b[0;32m----> 1\u001b[0;31m \u001b[0mplt\u001b[0m\u001b[0;34m.\u001b[0m\u001b[0mimshow\u001b[0m\u001b[0;34m(\u001b[0m\u001b[0mtest_loader_new_edge\u001b[0m\u001b[0;34m.\u001b[0m\u001b[0mdataset\u001b[0m\u001b[0;34m.\u001b[0m\u001b[0mdata\u001b[0m\u001b[0;34m[\u001b[0m\u001b[0;36m4000\u001b[0m\u001b[0;34m]\u001b[0m\u001b[0;34m)\u001b[0m\u001b[0;34m\u001b[0m\u001b[0;34m\u001b[0m\u001b[0m\n\u001b[0m\u001b[1;32m      2\u001b[0m \u001b[0mtest_loader_new_edge\u001b[0m\u001b[0;34m.\u001b[0m\u001b[0mdataset\u001b[0m\u001b[0;34m.\u001b[0m\u001b[0mtargets\u001b[0m\u001b[0;34m[\u001b[0m\u001b[0;36m4000\u001b[0m\u001b[0;34m]\u001b[0m\u001b[0;34m\u001b[0m\u001b[0;34m\u001b[0m\u001b[0m\n\u001b[1;32m      3\u001b[0m \u001b[0mtest_loader_new_edge\u001b[0m\u001b[0;34m.\u001b[0m\u001b[0mdataset\u001b[0m\u001b[0;34m.\u001b[0m\u001b[0mdata\u001b[0m\u001b[0;34m[\u001b[0m\u001b[0;36m4000\u001b[0m\u001b[0;34m]\u001b[0m\u001b[0;34m.\u001b[0m\u001b[0mmax\u001b[0m\u001b[0;34m(\u001b[0m\u001b[0;34m)\u001b[0m\u001b[0;34m\u001b[0m\u001b[0;34m\u001b[0m\u001b[0m\n",
      "\u001b[0;31mNameError\u001b[0m: name 'test_loader_new_edge' is not defined"
     ]
    }
   ],
   "source": [
    "plt.imshow(test_loader_new_edge.dataset.data[4000])\n",
    "test_loader_new_edge.dataset.targets[4000]\n",
    "test_loader_new_edge.dataset.data[4000].max()"
   ]
  },
  {
   "cell_type": "code",
   "execution_count": 53,
   "metadata": {},
   "outputs": [
    {
     "name": "stdout",
     "output_type": "stream",
     "text": [
      "Epsilon: 0\tTest Accuracy = 9577 / 10000 = 0.9577\n",
      "Epsilon: 0.05\tTest Accuracy = 8748 / 10000 = 0.8748\n",
      "Epsilon: 0.1\tTest Accuracy = 6794 / 10000 = 0.6794\n",
      "Epsilon: 0.15\tTest Accuracy = 3891 / 10000 = 0.3891\n",
      "Epsilon: 0.2\tTest Accuracy = 1238 / 10000 = 0.1238\n",
      "Epsilon: 0.25\tTest Accuracy = 313 / 10000 = 0.0313\n",
      "Epsilon: 0.3\tTest Accuracy = 82 / 10000 = 0.0082\n"
     ]
    }
   ],
   "source": [
    "# # MNIST Test dataset and dataloader declaration\n",
    "test_loader_new_edge = torch.utils.data.DataLoader(test_loader_edge.dataset, batch_size=1, shuffle=False)\n",
    "\n",
    "\n",
    "epsilons = [0, .05, .1, .15, .2, .25, .3]\n",
    "\n",
    "# epsilons = [0]\n",
    "model.eval()\n",
    "\n",
    "# Run test for each epsilon\n",
    "accuracies = []\n",
    "examples = []\n",
    "\n",
    "for eps in epsilons:\n",
    "    acc, ex = test_noise(model, device, test_loader_new_edge, eps, do_mask=False, do_edge=False)\n",
    "    accuracies.append(acc)\n",
    "    examples.append(ex)\n",
    "\n"
   ]
  },
  {
   "cell_type": "code",
   "execution_count": 54,
   "metadata": {},
   "outputs": [
    {
     "data": {
      "image/png": "[encoded data removed]",
      "text/plain": [
       "<Figure size 576x720 with 35 Axes>"
      ]
     },
     "metadata": {},
     "output_type": "display_data"
    }
   ],
   "source": [
    "# Plot several examples of adversarial samples at each epsilon\n",
    "cnt = 0\n",
    "plt.figure(figsize=(8,10))\n",
    "for i in range(len(epsilons)):\n",
    "    for j in range(len(examples[i])):\n",
    "        cnt += 1\n",
    "        plt.subplot(len(epsilons),len(examples[0]),cnt)\n",
    "        plt.xticks([], [])\n",
    "        plt.yticks([], [])\n",
    "        if j == 0:\n",
    "            plt.ylabel(\"Eps: {}\".format(epsilons[i]), fontsize=14)\n",
    "        orig,adv,ex = examples[i][j]\n",
    "        plt.title(\"{} -> {}\".format(orig, adv))\n",
    "        plt.imshow(ex, cmap=\"gray\")\n",
    "plt.tight_layout()\n",
    "plt.show()"
   ]
  },
  {
   "cell_type": "code",
   "execution_count": 136,
   "metadata": {},
   "outputs": [
    {
     "name": "stdout",
     "output_type": "stream",
     "text": [
      "0\n",
      "0.05\n",
      "0.1\n",
      "0.15\n",
      "0.2\n",
      "0.25\n",
      "0.3\n",
      "[0.7965, 0.80365, 0.8056666666666666, 0.8069, 0.80748, 0.8054166666666667, 0.8023714285714286]\n"
     ]
    }
   ],
   "source": [
    "# sanity check\n",
    "\n",
    "pretrained_model = \"models/model_mnist_edge.pth\"\n",
    "model = Net().to(device)  # training with slope 1 for now\n",
    "model.load_state_dict(torch.load(pretrained_model, map_location='cpu'))\n",
    "\n",
    "\n",
    "epsilons = [0, .05, .1, .15, .2, .25, .3]\n",
    "\n",
    "\n",
    "model.eval()\n",
    "\n",
    "correct = 0\n",
    "total = 0\n",
    "\n",
    "accuracies = []\n",
    "examples = []\n",
    "\n",
    "for eps in epsilons:\n",
    "    print(eps)\n",
    "    fgsm_attack = FGSM(model, eps=eps)\n",
    "\n",
    "    for images, labels in test_loader_edge:\n",
    "        images = (images-images.min()) / (images.max()-images.min())    \n",
    "        images = fgsm_attack(images, labels)#.cuda()\n",
    "        images = detect_edge(images)\n",
    "        images = torch.from_numpy(images)\n",
    "        \n",
    "        outputs = model(images)\n",
    "\n",
    "        _, predicted = torch.max(outputs.data, 1)\n",
    "\n",
    "        total += labels.size(0)\n",
    "        correct += (predicted == labels).sum()\n",
    "    #     correct += (predicted == labels.cuda()).sum()\n",
    "    acc = float(correct) / total\n",
    "    accuracies.append(acc)\n",
    "#     examples.append(ex)\n",
    "    \n",
    "    \n",
    "# print('Accuracy of Adversarial images: %f %%' % (100 * float(correct) / total))\n",
    "\n",
    "print(accuracies)"
   ]
  },
  {
   "cell_type": "code",
   "execution_count": 137,
   "metadata": {},
   "outputs": [
    {
     "data": {
      "image/png": "[encoded data removed]",
      "text/plain": [
       "<Figure size 360x1080 with 1 Axes>"
      ]
     },
     "metadata": {},
     "output_type": "display_data"
    }
   ],
   "source": [
    "import torchvision\n",
    "wrong_preds = []\n",
    "wrong_labels = []\n",
    "for idx,i in enumerate(predicted):\n",
    "    if i.item()!= labels[idx].item():\n",
    "        wrong_preds.append(idx)\n",
    "        wrong_labels.append(i.item())\n",
    "        \n",
    "n_s = 5\n",
    "imshow(torchvision.utils.make_grid(images.cpu()[np.array(wrong_preds[:n_s])], nrow=len(samples), normalize=True), '            '.join([str(i) for i in wrong_labels[:n_s]]))"
   ]
  },
  {
   "cell_type": "code",
   "execution_count": 100,
   "metadata": {},
   "outputs": [
    {
     "data": {
      "image/png": "[encoded data removed]",
      "text/plain": [
       "<Figure size 360x360 with 1 Axes>"
      ]
     },
     "metadata": {
      "needs_background": "light"
     },
     "output_type": "display_data"
    }
   ],
   "source": [
    "train on edge; test on edge [no secondary edge detection]\n",
    "Epsilon: 0\tTest Accuracy = 9577 / 10000 = 0.9577\n",
    "Epsilon: 0.05\tTest Accuracy = 8748 / 10000 = 0.8748\n",
    "Epsilon: 0.1\tTest Accuracy = 6794 / 10000 = 0.6794\n",
    "Epsilon: 0.15\tTest Accuracy = 3891 / 10000 = 0.3891\n",
    "Epsilon: 0.2\tTest Accuracy = 1238 / 10000 = 0.1238\n",
    "Epsilon: 0.25\tTest Accuracy = 313 / 10000 = 0.0313\n",
    "Epsilon: 0.3\tTest Accuracy = 82 / 10000 = 0.0082\n",
    "\n",
    "AT: [0.9771, 0.9415, 0.8822333333333333, 0.85495, 0.85292, 0.8568333333333333, 0.8556857142857143]\n",
    "\n",
    "    \n",
    "train on edge; test on edge on edge\n",
    "Epsilon: 0\tTest Accuracy = 7854 / 10000 = 0.7854\n",
    "Epsilon: 0.05\tTest Accuracy = 7987 / 10000 = 0.7987\n",
    "Epsilon: 0.1\tTest Accuracy = 7976 / 10000 = 0.7976\n",
    "Epsilon: 0.15\tTest Accuracy = 7989 / 10000 = 0.7989\n",
    "Epsilon: 0.2\tTest Accuracy = 7986 / 10000 = 0.7986\n",
    "Epsilon: 0.25\tTest Accuracy = 7836 / 10000 = 0.7836\n",
    "Epsilon: 0.3\tTest Accuracy = 7727 / 10000 = 0.7727\n",
    "\n",
    "testing the model adversarially trained on edges  on edges_on_edges    \n",
    "[0.8463, 0.86, 0.8626666666666667, 0.8639, 0.86432, 0.8641166666666666, 0.8621142857142857]\n",
    "    \n",
    "    \n",
    "train on edge on edge; test on edge on edge\n",
    "\n",
    "\n",
    "plt.figure(figsize=(5,5))\n",
    "plt.plot(epsilons, masked, \"*-\")\n",
    "plt.plot(epsilons, unmasked, \"o-\")\n",
    "plt.yticks(np.arange(0, 1.1, step=0.1))\n",
    "plt.xticks(np.arange(0, .35, step=0.05))\n",
    "plt.title(\"Accuracy vs Epsilon\")\n",
    "plt.xlabel(\"Epsilon\")\n",
    "plt.ylabel(\"Accuracy\")\n",
    "plt.legend(['masked', 'unmasked'])\n",
    "plt.show()"
   ]
  },
  {
   "cell_type": "code",
   "execution_count": 374,
   "metadata": {},
   "outputs": [],
   "source": [
    "\n",
    "# def detect_edge(data):\n",
    "#     edge_maps = np.zeros_like(data)\n",
    "#     for idx,img in enumerate(data):\n",
    "# #         import pdb; pdb.set_trace()\n",
    "#         edge_maps[idx,0] = feature.canny(np.array(img[0], dtype=np.float64), sigma = .1, low_threshold=1.5) #, high_threshold=.1)\n",
    "\n",
    "#     return edge_maps\n",
    "    "
   ]
  },
  {
   "cell_type": "code",
   "execution_count": 55,
   "metadata": {},
   "outputs": [
    {
     "data": {
      "image/png": "[encoded data removed]",
      "text/plain": [
       "<Figure size 432x288 with 1 Axes>"
      ]
     },
     "metadata": {
      "needs_background": "light"
     },
     "output_type": "display_data"
    },
    {
     "data": {
      "image/png": "[encoded data removed]",
      "text/plain": [
       "<Figure size 432x288 with 1 Axes>"
      ]
     },
     "metadata": {
      "needs_background": "light"
     },
     "output_type": "display_data"
    }
   ],
   "source": [
    "k = 1\n",
    "plt.imshow(examples[0][k][2]); plt.show()\n",
    "ed = detect_edge(examples[0][k][2][None,None,:])\n",
    "plt.imshow(ed[0,0]); plt.show()"
   ]
  },
  {
   "cell_type": "code",
   "execution_count": null,
   "metadata": {},
   "outputs": [],
   "source": []
  },
  {
   "cell_type": "code",
   "execution_count": null,
   "metadata": {},
   "outputs": [],
   "source": []
  },
  {
   "cell_type": "code",
   "execution_count": null,
   "metadata": {},
   "outputs": [],
   "source": []
  },
  {
   "cell_type": "code",
   "execution_count": null,
   "metadata": {},
   "outputs": [],
   "source": []
  },
  {
   "cell_type": "markdown",
   "metadata": {},
   "source": [
    "# Adversarial Training"
   ]
  },
  {
   "cell_type": "markdown",
   "metadata": {},
   "source": [
    "## Train model adversarially"
   ]
  },
  {
   "cell_type": "code",
   "execution_count": 56,
   "metadata": {},
   "outputs": [],
   "source": [
    "batch_size = 128\n",
    "\n",
    "test_loader_new_edge_batch = torch.utils.data.DataLoader(test_loader_edge.dataset, batch_size=batch_size, shuffle=False)\n",
    "\n",
    "train_loader_new_edge_batch = torch.utils.data.DataLoader(train_loader_edge.dataset, batch_size=batch_size, shuffle=False)\n"
   ]
  },
  {
   "cell_type": "code",
   "execution_count": 57,
   "metadata": {},
   "outputs": [],
   "source": [
    "import torchattacks\n",
    "from torchattacks import PGD, FGSM"
   ]
  },
  {
   "cell_type": "code",
   "execution_count": 58,
   "metadata": {},
   "outputs": [],
   "source": [
    "fgsm_attack = FGSM(model, eps=0.3)\n",
    "\n",
    "loss = nn.CrossEntropyLoss()\n",
    "optimizer = optim.Adam(model.parameters(), lr=0.001)"
   ]
  },
  {
   "cell_type": "code",
   "execution_count": 440,
   "metadata": {},
   "outputs": [
    {
     "data": {
      "text/plain": [
       "0.1966637372970581"
      ]
     },
     "execution_count": 440,
     "metadata": {},
     "output_type": "execute_result"
    }
   ],
   "source": [
    "torch.rand(1).item()"
   ]
  },
  {
   "cell_type": "code",
   "execution_count": 59,
   "metadata": {},
   "outputs": [],
   "source": [
    "# load the model first"
   ]
  },
  {
   "cell_type": "code",
   "execution_count": 60,
   "metadata": {},
   "outputs": [
    {
     "name": "stdout",
     "output_type": "stream",
     "text": [
      "Epoch [1/5], lter [100/4], Loss: 0.3917\n",
      "Epoch [1/5], lter [200/4], Loss: 0.3015\n",
      "Epoch [1/5], lter [300/4], Loss: 0.1784\n",
      "Epoch [1/5], lter [400/4], Loss: 0.3585\n",
      "Epoch [1/5], lter [500/4], Loss: 0.1527\n",
      "Epoch [1/5], lter [600/4], Loss: 0.2376\n",
      "Epoch [2/5], lter [100/4], Loss: 1.1283\n",
      "Epoch [2/5], lter [200/4], Loss: 1.3241\n",
      "Epoch [2/5], lter [300/4], Loss: 0.1633\n",
      "Epoch [2/5], lter [400/4], Loss: 0.0987\n",
      "Epoch [2/5], lter [500/4], Loss: 0.9924\n",
      "Epoch [2/5], lter [600/4], Loss: 0.0316\n",
      "Epoch [3/5], lter [100/4], Loss: 0.1527\n",
      "Epoch [3/5], lter [200/4], Loss: 0.0537\n",
      "Epoch [3/5], lter [300/4], Loss: 0.1184\n",
      "Epoch [3/5], lter [400/4], Loss: 0.5532\n",
      "Epoch [3/5], lter [500/4], Loss: 0.6355\n",
      "Epoch [3/5], lter [600/4], Loss: 0.1104\n",
      "Epoch [4/5], lter [100/4], Loss: 0.6350\n",
      "Epoch [4/5], lter [200/4], Loss: 0.0757\n",
      "Epoch [4/5], lter [300/4], Loss: 0.0709\n",
      "Epoch [4/5], lter [400/4], Loss: 0.4600\n",
      "Epoch [4/5], lter [500/4], Loss: 0.1068\n",
      "Epoch [4/5], lter [600/4], Loss: 0.3865\n",
      "Epoch [5/5], lter [100/4], Loss: 0.0240\n",
      "Epoch [5/5], lter [200/4], Loss: 0.2495\n",
      "Epoch [5/5], lter [300/4], Loss: 0.5751\n",
      "Epoch [5/5], lter [400/4], Loss: 0.3550\n",
      "Epoch [5/5], lter [500/4], Loss: 0.2030\n",
      "Epoch [5/5], lter [600/4], Loss: 0.0467\n"
     ]
    }
   ],
   "source": [
    "num_epochs = 15\n",
    "for epoch in range(num_epochs):\n",
    "\n",
    "    total_batch = len(train_loader_edge) // batch_size\n",
    "    \n",
    "    for i, (batch_images, batch_labels) in enumerate(train_loader_edge):\n",
    "#         X = pgd_attack(batch_images, batch_labels).cuda()\n",
    "        X = batch_images\n",
    "        X = (X-X.min()) / (X.max()-X.min())    \n",
    "        if torch.rand(1).item() < 0.5:\n",
    "            X = fgsm_attack(X, batch_labels)#.cuda()        \n",
    "#             X = detect_edge(X)\n",
    "#             X = torch.from_numpy(X)\n",
    "    \n",
    "        Y = batch_labels#.cuda()\n",
    "\n",
    "        pre = model(X)\n",
    "        cost = loss(pre, Y)\n",
    "\n",
    "        optimizer.zero_grad()\n",
    "        cost.backward()\n",
    "        optimizer.step()\n",
    "\n",
    "        if (i+1) % 100 == 0:\n",
    "            print('Epoch [%d/%d], lter [%d/%d], Loss: %.4f'\n",
    "                 %(epoch+1, num_epochs, i+1, total_batch, cost.item()))"
   ]
  },
  {
   "cell_type": "code",
   "execution_count": 61,
   "metadata": {},
   "outputs": [],
   "source": [
    "# plt.imshow(X[10,0]); plt.show()\n"
   ]
  },
  {
   "cell_type": "code",
   "execution_count": 66,
   "metadata": {},
   "outputs": [
    {
     "name": "stdout",
     "output_type": "stream",
     "text": [
      "tensor(0.9771, dtype=torch.float64)\n"
     ]
    }
   ],
   "source": [
    "# model.eval()\n",
    "\n",
    "# correct = 0\n",
    "# total = 0\n",
    "\n",
    "# for images, labels in test_loader_new_edge_batch:\n",
    "    \n",
    "#     images = images#.cuda()\n",
    "# #     images = detect_edge(images)\n",
    "# #     images = torch.from_numpy(images)\n",
    "\n",
    "#     outputs = model(images)\n",
    "    \n",
    "#     _, predicted = torch.max(outputs.data, 1)\n",
    "    \n",
    "#     total += labels.size(0)\n",
    "#     correct += (predicted == labels).sum()\n",
    "# #     correct += (predicted == labels.cuda()).sum()    \n",
    "    \n",
    "# print('Accuracy of Clean images: %f %%' % (100 * float(correct) / total))\n",
    "\n",
    "evaluate_x = test_loader_edge.dataset.data.type_as(torch.FloatTensor())\n",
    "evaluate_y = test_loader_edge.dataset.targets\n",
    "\n",
    "evaluate_x, evaluate_y = evaluate_x.to(device), evaluate_y.to(device)        \n",
    "\n",
    "\n",
    "model.eval()\n",
    "output = model(evaluate_x[:,None,...])\n",
    "pred = output.data.max(1)[1]\n",
    "d = pred.eq(evaluate_y.data).cpu()\n",
    "accuracy = d.sum().type(dtype=torch.float64)/d.size()[0]\n",
    "print(accuracy)"
   ]
  },
  {
   "cell_type": "code",
   "execution_count": null,
   "metadata": {},
   "outputs": [],
   "source": []
  },
  {
   "cell_type": "code",
   "execution_count": null,
   "metadata": {},
   "outputs": [],
   "source": []
  },
  {
   "cell_type": "code",
   "execution_count": 78,
   "metadata": {},
   "outputs": [
    {
     "name": "stdout",
     "output_type": "stream",
     "text": [
      "0\n",
      "0.05\n",
      "0.1\n",
      "0.15\n",
      "0.2\n",
      "0.25\n",
      "0.3\n",
      "[0.8463, 0.86, 0.8626666666666667, 0.8639, 0.86432, 0.8641166666666666, 0.8621142857142857]\n"
     ]
    }
   ],
   "source": [
    "# # # MNIST Test dataset and dataloader declaration\n",
    "# test_loader_new_edge = torch.utils.data.DataLoader(test_loader_edge.dataset, batch_size=1, shuffle=False)\n",
    "\n",
    "\n",
    "epsilons = [0, .05, .1, .15, .2, .25, .3]\n",
    "\n",
    "# # epsilons = [0]\n",
    "# model.eval()\n",
    "\n",
    "# # Run test for each epsilon\n",
    "# accuracies = []\n",
    "# examples = []\n",
    "\n",
    "# for eps in epsilons:\n",
    "#     acc, ex = test_noise(model, device, test_loader_new_edge, eps, do_mask=False, do_edge=False)\n",
    "#     accuracies.append(acc)\n",
    "#     examples.append(ex)\n",
    "\n",
    "\n",
    "model.eval()\n",
    "\n",
    "correct = 0\n",
    "total = 0\n",
    "\n",
    "accuracies = []\n",
    "examples = []\n",
    "\n",
    "for eps in epsilons:\n",
    "    print(eps)\n",
    "    fgsm_attack = FGSM(model, eps=eps)\n",
    "\n",
    "    for images, labels in test_loader_edge:\n",
    "        images = (images-images.min()) / (images.max()-images.min())    \n",
    "        images = fgsm_attack(images, labels)#.cuda()\n",
    "#         images = detect_edge(images)\n",
    "#         images = torch.from_numpy(images)\n",
    "        \n",
    "        outputs = model(images)\n",
    "\n",
    "        _, predicted = torch.max(outputs.data, 1)\n",
    "\n",
    "        total += labels.size(0)\n",
    "        correct += (predicted == labels).sum()\n",
    "    #     correct += (predicted == labels.cuda()).sum()\n",
    "    acc = float(correct) / total\n",
    "    accuracies.append(acc)\n",
    "#     examples.append(ex)\n",
    "    \n",
    "    \n",
    "# print('Accuracy of Adversarial images: %f %%' % (100 * float(correct) / total))\n",
    "\n",
    "print(accuracies)"
   ]
  },
  {
   "cell_type": "code",
   "execution_count": 83,
   "metadata": {},
   "outputs": [],
   "source": [
    "def imshow(img, title):\n",
    "    npimg = img.numpy()\n",
    "    fig = plt.figure(figsize = (5, 15))\n",
    "    plt.imshow(np.transpose(npimg,(1,2,0)))\n",
    "    plt.title(title)\n",
    "    plt.xticks([])\n",
    "    plt.yticks([])\n",
    "    plt.show()"
   ]
  },
  {
   "cell_type": "code",
   "execution_count": 127,
   "metadata": {},
   "outputs": [
    {
     "data": {
      "image/png": "[encoded data removed]",
      "text/plain": [
       "<Figure size 360x1080 with 1 Axes>"
      ]
     },
     "metadata": {},
     "output_type": "display_data"
    }
   ],
   "source": [
    "import torchvision\n",
    "wrong_preds = []\n",
    "wrong_labels = []\n",
    "for idx,i in enumerate(predicted):\n",
    "    if i.item()!= labels[idx].item():\n",
    "        wrong_preds.append(idx)\n",
    "        wrong_labels.append(i.item())\n",
    "        \n",
    "n_s = 5\n",
    "imshow(torchvision.utils.make_grid(images.cpu()[np.array(wrong_preds[:n_s])], nrow=len(samples), normalize=True), '            '.join([str(i) for i in wrong_labels[:n_s]]))"
   ]
  },
  {
   "cell_type": "code",
   "execution_count": 128,
   "metadata": {},
   "outputs": [],
   "source": [
    "# wrong_preds"
   ]
  },
  {
   "cell_type": "code",
   "execution_count": 76,
   "metadata": {},
   "outputs": [],
   "source": [
    "# # Plot several examples of adversarial samples at each epsilon\n",
    "# cnt = 0\n",
    "# plt.figure(figsize=(8,10))\n",
    "# for i in range(len(epsilons)):\n",
    "#     for j in range(len(examples[i])):\n",
    "#         cnt += 1\n",
    "#         plt.subplot(len(epsilons),len(examples[0]),cnt)\n",
    "#         plt.xticks([], [])\n",
    "#         plt.yticks([], [])\n",
    "#         if j == 0:\n",
    "#             plt.ylabel(\"Eps: {}\".format(epsilons[i]), fontsize=14)\n",
    "#         orig,adv,ex = examples[i][j]\n",
    "#         plt.title(\"{} -> {}\".format(orig, adv))\n",
    "#         plt.imshow(ex, cmap=\"gray\")\n",
    "# plt.tight_layout()\n",
    "# plt.show()"
   ]
  },
  {
   "cell_type": "code",
   "execution_count": null,
   "metadata": {},
   "outputs": [],
   "source": []
  },
  {
   "cell_type": "code",
   "execution_count": null,
   "metadata": {},
   "outputs": [],
   "source": []
  },
  {
   "cell_type": "markdown",
   "metadata": {},
   "source": [
    "# lets do the same with edge detect now"
   ]
  },
  {
   "cell_type": "code",
   "execution_count": 77,
   "metadata": {},
   "outputs": [],
   "source": [
    "# load the model first\n",
    "\n"
   ]
  },
  {
   "cell_type": "code",
   "execution_count": null,
   "metadata": {},
   "outputs": [],
   "source": [
    "num_epochs = 15\n",
    "for epoch in range(num_epochs):\n",
    "\n",
    "    total_batch = len(train_loader_edge) // batch_size\n",
    "    \n",
    "    for i, (batch_images, batch_labels) in enumerate(train_loader_edge):\n",
    "#         X = pgd_attack(batch_images, batch_labels).cuda()\n",
    "        X = batch_images\n",
    "        X = (X-X.min()) / (X.max()-X.min())    \n",
    "        if torch.rand(1).item() < 0.5:\n",
    "            X = fgsm_attack(X, batch_labels)#.cuda()        \n",
    "#             X = detect_edge(X)\n",
    "#             X = torch.from_numpy(X)\n",
    "    \n",
    "        Y = batch_labels#.cuda()\n",
    "\n",
    "        pre = model(X)\n",
    "        cost = loss(pre, Y)\n",
    "\n",
    "        optimizer.zero_grad()\n",
    "        cost.backward()\n",
    "        optimizer.step()\n",
    "\n",
    "        if (i+1) % 100 == 0:\n",
    "            print('Epoch [%d/%d], lter [%d/%d], Loss: %.4f'\n",
    "                 %(epoch+1, num_epochs, i+1, total_batch, cost.item()))"
   ]
  }
 ],
 "metadata": {
  "accelerator": "GPU",
  "colab": {
   "name": "ReLU_defense_train.ipynb",
   "provenance": []
  },
  "kernelspec": {
   "display_name": "Python 3",
   "language": "python",
   "name": "python3"
  },
  "language_info": {
   "codemirror_mode": {
    "name": "ipython",
    "version": 3
   },
   "file_extension": ".py",
   "mimetype": "text/x-python",
   "name": "python",
   "nbconvert_exporter": "python",
   "pygments_lexer": "ipython3",
   "version": "3.7.3"
  },
  "widgets": {
   "application/vnd.jupyter.widget-state+json": {
    "034579c5826746f6a0daa2a591b94369": {
     "model_module": "@jupyter-widgets/controls",
     "model_name": "ProgressStyleModel",
     "state": {
      "_model_module": "@jupyter-widgets/controls",
      "_model_module_version": "1.5.0",
      "_model_name": "ProgressStyleModel",
      "_view_count": null,
      "_view_module": "@jupyter-widgets/base",
      "_view_module_version": "1.2.0",
      "_view_name": "StyleView",
      "bar_color": null,
      "description_width": "initial"
     }
    },
    "168706f3238d4119a5990b2f7afdba40": {
     "model_module": "@jupyter-widgets/controls",
     "model_name": "HTMLModel",
     "state": {
      "_dom_classes": [],
      "_model_module": "@jupyter-widgets/controls",
      "_model_module_version": "1.5.0",
      "_model_name": "HTMLModel",
      "_view_count": null,
      "_view_module": "@jupyter-widgets/controls",
      "_view_module_version": "1.5.0",
      "_view_name": "HTMLView",
      "description": "",
      "description_tooltip": null,
      "layout": "IPY_MODEL_e85041b4142648eb8e25ec653c16f528",
      "placeholder": "​",
      "style": "IPY_MODEL_9a48f7296a644e09af97e57bcf0df97f",
      "value": " 1654784/? [00:03&lt;00:00, 479465.26it/s]"
     }
    },
    "2146f30626e84ec3a68217d7c744d0f5": {
     "model_module": "@jupyter-widgets/controls",
     "model_name": "ProgressStyleModel",
     "state": {
      "_model_module": "@jupyter-widgets/controls",
      "_model_module_version": "1.5.0",
      "_model_name": "ProgressStyleModel",
      "_view_count": null,
      "_view_module": "@jupyter-widgets/base",
      "_view_module_version": "1.2.0",
      "_view_name": "StyleView",
      "bar_color": null,
      "description_width": "initial"
     }
    },
    "3249ae9393864d2ca2e8e1f76e936b6f": {
     "model_module": "@jupyter-widgets/controls",
     "model_name": "IntProgressModel",
     "state": {
      "_dom_classes": [],
      "_model_module": "@jupyter-widgets/controls",
      "_model_module_version": "1.5.0",
      "_model_name": "IntProgressModel",
      "_view_count": null,
      "_view_module": "@jupyter-widgets/controls",
      "_view_module_version": "1.5.0",
      "_view_name": "ProgressView",
      "bar_style": "info",
      "description": "",
      "description_tooltip": null,
      "layout": "IPY_MODEL_f1b5e49258d3464dbef5e71600462a79",
      "max": 1,
      "min": 0,
      "orientation": "horizontal",
      "style": "IPY_MODEL_2146f30626e84ec3a68217d7c744d0f5",
      "value": 1
     }
    },
    "40364f4f5ba5488caf5e49d5c46a779f": {
     "model_module": "@jupyter-widgets/controls",
     "model_name": "ProgressStyleModel",
     "state": {
      "_model_module": "@jupyter-widgets/controls",
      "_model_module_version": "1.5.0",
      "_model_name": "ProgressStyleModel",
      "_view_count": null,
      "_view_module": "@jupyter-widgets/base",
      "_view_module_version": "1.2.0",
      "_view_name": "StyleView",
      "bar_color": null,
      "description_width": "initial"
     }
    },
    "45a21a5b9ef54ee4a22a2ab79a1cb8f4": {
     "model_module": "@jupyter-widgets/controls",
     "model_name": "IntProgressModel",
     "state": {
      "_dom_classes": [],
      "_model_module": "@jupyter-widgets/controls",
      "_model_module_version": "1.5.0",
      "_model_name": "IntProgressModel",
      "_view_count": null,
      "_view_module": "@jupyter-widgets/controls",
      "_view_module_version": "1.5.0",
      "_view_name": "ProgressView",
      "bar_style": "success",
      "description": "",
      "description_tooltip": null,
      "layout": "IPY_MODEL_fc4186a38a434dcbbf20cc5ffc0087bc",
      "max": 1,
      "min": 0,
      "orientation": "horizontal",
      "style": "IPY_MODEL_40364f4f5ba5488caf5e49d5c46a779f",
      "value": 1
     }
    },
    "4ba8b67cbff04f08954788a78771c7d0": {
     "model_module": "@jupyter-widgets/base",
     "model_name": "LayoutModel",
     "state": {
      "_model_module": "@jupyter-widgets/base",
      "_model_module_version": "1.2.0",
      "_model_name": "LayoutModel",
      "_view_count": null,
      "_view_module": "@jupyter-widgets/base",
      "_view_module_version": "1.2.0",
      "_view_name": "LayoutView",
      "align_content": null,
      "align_items": null,
      "align_self": null,
      "border": null,
      "bottom": null,
      "display": null,
      "flex": null,
      "flex_flow": null,
      "grid_area": null,
      "grid_auto_columns": null,
      "grid_auto_flow": null,
      "grid_auto_rows": null,
      "grid_column": null,
      "grid_gap": null,
      "grid_row": null,
      "grid_template_areas": null,
      "grid_template_columns": null,
      "grid_template_rows": null,
      "height": null,
      "justify_content": null,
      "justify_items": null,
      "left": null,
      "margin": null,
      "max_height": null,
      "max_width": null,
      "min_height": null,
      "min_width": null,
      "object_fit": null,
      "object_position": null,
      "order": null,
      "overflow": null,
      "overflow_x": null,
      "overflow_y": null,
      "padding": null,
      "right": null,
      "top": null,
      "visibility": null,
      "width": null
     }
    },
    "5fa3f44abeab48859ba60c77200a12b5": {
     "model_module": "@jupyter-widgets/controls",
     "model_name": "HTMLModel",
     "state": {
      "_dom_classes": [],
      "_model_module": "@jupyter-widgets/controls",
      "_model_module_version": "1.5.0",
      "_model_name": "HTMLModel",
      "_view_count": null,
      "_view_module": "@jupyter-widgets/controls",
      "_view_module_version": "1.5.0",
      "_view_name": "HTMLView",
      "description": "",
      "description_tooltip": null,
      "layout": "IPY_MODEL_dfd8e6d2457d4f93bacbdb346c346346",
      "placeholder": "​",
      "style": "IPY_MODEL_6687cea8859148eaa4e31011a9e62979",
      "value": " 32768/? [00:03&lt;00:00, 9186.49it/s]"
     }
    },
    "6687cea8859148eaa4e31011a9e62979": {
     "model_module": "@jupyter-widgets/controls",
     "model_name": "DescriptionStyleModel",
     "state": {
      "_model_module": "@jupyter-widgets/controls",
      "_model_module_version": "1.5.0",
      "_model_name": "DescriptionStyleModel",
      "_view_count": null,
      "_view_module": "@jupyter-widgets/base",
      "_view_module_version": "1.2.0",
      "_view_name": "StyleView",
      "description_width": ""
     }
    },
    "6ecdfd5d9b0c4ada8be3ccc8013615d9": {
     "model_module": "@jupyter-widgets/controls",
     "model_name": "HBoxModel",
     "state": {
      "_dom_classes": [],
      "_model_module": "@jupyter-widgets/controls",
      "_model_module_version": "1.5.0",
      "_model_name": "HBoxModel",
      "_view_count": null,
      "_view_module": "@jupyter-widgets/controls",
      "_view_module_version": "1.5.0",
      "_view_name": "HBoxView",
      "box_style": "",
      "children": [
       "IPY_MODEL_3249ae9393864d2ca2e8e1f76e936b6f",
       "IPY_MODEL_d2d03a0c7cb64359ba8fd6514665fdfd"
      ],
      "layout": "IPY_MODEL_821e3110a27340cca8cd09be81e45f7a"
     }
    },
    "821e3110a27340cca8cd09be81e45f7a": {
     "model_module": "@jupyter-widgets/base",
     "model_name": "LayoutModel",
     "state": {
      "_model_module": "@jupyter-widgets/base",
      "_model_module_version": "1.2.0",
      "_model_name": "LayoutModel",
      "_view_count": null,
      "_view_module": "@jupyter-widgets/base",
      "_view_module_version": "1.2.0",
      "_view_name": "LayoutView",
      "align_content": null,
      "align_items": null,
      "align_self": null,
      "border": null,
      "bottom": null,
      "display": null,
      "flex": null,
      "flex_flow": null,
      "grid_area": null,
      "grid_auto_columns": null,
      "grid_auto_flow": null,
      "grid_auto_rows": null,
      "grid_column": null,
      "grid_gap": null,
      "grid_row": null,
      "grid_template_areas": null,
      "grid_template_columns": null,
      "grid_template_rows": null,
      "height": null,
      "justify_content": null,
      "justify_items": null,
      "left": null,
      "margin": null,
      "max_height": null,
      "max_width": null,
      "min_height": null,
      "min_width": null,
      "object_fit": null,
      "object_position": null,
      "order": null,
      "overflow": null,
      "overflow_x": null,
      "overflow_y": null,
      "padding": null,
      "right": null,
      "top": null,
      "visibility": null,
      "width": null
     }
    },
    "8523cb81110e4a228f33b6b89a2fad98": {
     "model_module": "@jupyter-widgets/controls",
     "model_name": "ProgressStyleModel",
     "state": {
      "_model_module": "@jupyter-widgets/controls",
      "_model_module_version": "1.5.0",
      "_model_name": "ProgressStyleModel",
      "_view_count": null,
      "_view_module": "@jupyter-widgets/base",
      "_view_module_version": "1.2.0",
      "_view_name": "StyleView",
      "bar_color": null,
      "description_width": "initial"
     }
    },
    "8bdfa71d995a4286a3f9df88ab6b9528": {
     "model_module": "@jupyter-widgets/controls",
     "model_name": "HBoxModel",
     "state": {
      "_dom_classes": [],
      "_model_module": "@jupyter-widgets/controls",
      "_model_module_version": "1.5.0",
      "_model_name": "HBoxModel",
      "_view_count": null,
      "_view_module": "@jupyter-widgets/controls",
      "_view_module_version": "1.5.0",
      "_view_name": "HBoxView",
      "box_style": "",
      "children": [
       "IPY_MODEL_b4362b638e814313bf999f71f6412989",
       "IPY_MODEL_c64b0ac2b1be45089d13e00b1849bf51"
      ],
      "layout": "IPY_MODEL_e2210ae0f23947469ac595ea836bdcca"
     }
    },
    "9a48f7296a644e09af97e57bcf0df97f": {
     "model_module": "@jupyter-widgets/controls",
     "model_name": "DescriptionStyleModel",
     "state": {
      "_model_module": "@jupyter-widgets/controls",
      "_model_module_version": "1.5.0",
      "_model_name": "DescriptionStyleModel",
      "_view_count": null,
      "_view_module": "@jupyter-widgets/base",
      "_view_module_version": "1.2.0",
      "_view_name": "StyleView",
      "description_width": ""
     }
    },
    "9d60a42b0b9a48e5a9fff0036bc68310": {
     "model_module": "@jupyter-widgets/base",
     "model_name": "LayoutModel",
     "state": {
      "_model_module": "@jupyter-widgets/base",
      "_model_module_version": "1.2.0",
      "_model_name": "LayoutModel",
      "_view_count": null,
      "_view_module": "@jupyter-widgets/base",
      "_view_module_version": "1.2.0",
      "_view_name": "LayoutView",
      "align_content": null,
      "align_items": null,
      "align_self": null,
      "border": null,
      "bottom": null,
      "display": null,
      "flex": null,
      "flex_flow": null,
      "grid_area": null,
      "grid_auto_columns": null,
      "grid_auto_flow": null,
      "grid_auto_rows": null,
      "grid_column": null,
      "grid_gap": null,
      "grid_row": null,
      "grid_template_areas": null,
      "grid_template_columns": null,
      "grid_template_rows": null,
      "height": null,
      "justify_content": null,
      "justify_items": null,
      "left": null,
      "margin": null,
      "max_height": null,
      "max_width": null,
      "min_height": null,
      "min_width": null,
      "object_fit": null,
      "object_position": null,
      "order": null,
      "overflow": null,
      "overflow_x": null,
      "overflow_y": null,
      "padding": null,
      "right": null,
      "top": null,
      "visibility": null,
      "width": null
     }
    },
    "a1b92b75eee24bd6816f148f06caf88c": {
     "model_module": "@jupyter-widgets/controls",
     "model_name": "HBoxModel",
     "state": {
      "_dom_classes": [],
      "_model_module": "@jupyter-widgets/controls",
      "_model_module_version": "1.5.0",
      "_model_name": "HBoxModel",
      "_view_count": null,
      "_view_module": "@jupyter-widgets/controls",
      "_view_module_version": "1.5.0",
      "_view_name": "HBoxView",
      "box_style": "",
      "children": [
       "IPY_MODEL_a3fd4006b5bc4214993c288e75ccafd0",
       "IPY_MODEL_168706f3238d4119a5990b2f7afdba40"
      ],
      "layout": "IPY_MODEL_4ba8b67cbff04f08954788a78771c7d0"
     }
    },
    "a3fd4006b5bc4214993c288e75ccafd0": {
     "model_module": "@jupyter-widgets/controls",
     "model_name": "IntProgressModel",
     "state": {
      "_dom_classes": [],
      "_model_module": "@jupyter-widgets/controls",
      "_model_module_version": "1.5.0",
      "_model_name": "IntProgressModel",
      "_view_count": null,
      "_view_module": "@jupyter-widgets/controls",
      "_view_module_version": "1.5.0",
      "_view_name": "ProgressView",
      "bar_style": "success",
      "description": "",
      "description_tooltip": null,
      "layout": "IPY_MODEL_b53135f49a4b404da3eee27a75b756de",
      "max": 1,
      "min": 0,
      "orientation": "horizontal",
      "style": "IPY_MODEL_034579c5826746f6a0daa2a591b94369",
      "value": 1
     }
    },
    "aaa387189b2e4b4e9c79c2928b21e971": {
     "model_module": "@jupyter-widgets/base",
     "model_name": "LayoutModel",
     "state": {
      "_model_module": "@jupyter-widgets/base",
      "_model_module_version": "1.2.0",
      "_model_name": "LayoutModel",
      "_view_count": null,
      "_view_module": "@jupyter-widgets/base",
      "_view_module_version": "1.2.0",
      "_view_name": "LayoutView",
      "align_content": null,
      "align_items": null,
      "align_self": null,
      "border": null,
      "bottom": null,
      "display": null,
      "flex": null,
      "flex_flow": null,
      "grid_area": null,
      "grid_auto_columns": null,
      "grid_auto_flow": null,
      "grid_auto_rows": null,
      "grid_column": null,
      "grid_gap": null,
      "grid_row": null,
      "grid_template_areas": null,
      "grid_template_columns": null,
      "grid_template_rows": null,
      "height": null,
      "justify_content": null,
      "justify_items": null,
      "left": null,
      "margin": null,
      "max_height": null,
      "max_width": null,
      "min_height": null,
      "min_width": null,
      "object_fit": null,
      "object_position": null,
      "order": null,
      "overflow": null,
      "overflow_x": null,
      "overflow_y": null,
      "padding": null,
      "right": null,
      "top": null,
      "visibility": null,
      "width": null
     }
    },
    "b4362b638e814313bf999f71f6412989": {
     "model_module": "@jupyter-widgets/controls",
     "model_name": "IntProgressModel",
     "state": {
      "_dom_classes": [],
      "_model_module": "@jupyter-widgets/controls",
      "_model_module_version": "1.5.0",
      "_model_name": "IntProgressModel",
      "_view_count": null,
      "_view_module": "@jupyter-widgets/controls",
      "_view_module_version": "1.5.0",
      "_view_name": "ProgressView",
      "bar_style": "success",
      "description": "",
      "description_tooltip": null,
      "layout": "IPY_MODEL_dfecae80f8f74e42a87214d9d73f9507",
      "max": 1,
      "min": 0,
      "orientation": "horizontal",
      "style": "IPY_MODEL_8523cb81110e4a228f33b6b89a2fad98",
      "value": 1
     }
    },
    "b53135f49a4b404da3eee27a75b756de": {
     "model_module": "@jupyter-widgets/base",
     "model_name": "LayoutModel",
     "state": {
      "_model_module": "@jupyter-widgets/base",
      "_model_module_version": "1.2.0",
      "_model_name": "LayoutModel",
      "_view_count": null,
      "_view_module": "@jupyter-widgets/base",
      "_view_module_version": "1.2.0",
      "_view_name": "LayoutView",
      "align_content": null,
      "align_items": null,
      "align_self": null,
      "border": null,
      "bottom": null,
      "display": null,
      "flex": null,
      "flex_flow": null,
      "grid_area": null,
      "grid_auto_columns": null,
      "grid_auto_flow": null,
      "grid_auto_rows": null,
      "grid_column": null,
      "grid_gap": null,
      "grid_row": null,
      "grid_template_areas": null,
      "grid_template_columns": null,
      "grid_template_rows": null,
      "height": null,
      "justify_content": null,
      "justify_items": null,
      "left": null,
      "margin": null,
      "max_height": null,
      "max_width": null,
      "min_height": null,
      "min_width": null,
      "object_fit": null,
      "object_position": null,
      "order": null,
      "overflow": null,
      "overflow_x": null,
      "overflow_y": null,
      "padding": null,
      "right": null,
      "top": null,
      "visibility": null,
      "width": null
     }
    },
    "b5745956eccd44589b9801e3c7695cbc": {
     "model_module": "@jupyter-widgets/controls",
     "model_name": "DescriptionStyleModel",
     "state": {
      "_model_module": "@jupyter-widgets/controls",
      "_model_module_version": "1.5.0",
      "_model_name": "DescriptionStyleModel",
      "_view_count": null,
      "_view_module": "@jupyter-widgets/base",
      "_view_module_version": "1.2.0",
      "_view_name": "StyleView",
      "description_width": ""
     }
    },
    "c64b0ac2b1be45089d13e00b1849bf51": {
     "model_module": "@jupyter-widgets/controls",
     "model_name": "HTMLModel",
     "state": {
      "_dom_classes": [],
      "_model_module": "@jupyter-widgets/controls",
      "_model_module_version": "1.5.0",
      "_model_name": "HTMLModel",
      "_view_count": null,
      "_view_module": "@jupyter-widgets/controls",
      "_view_module_version": "1.5.0",
      "_view_name": "HTMLView",
      "description": "",
      "description_tooltip": null,
      "layout": "IPY_MODEL_aaa387189b2e4b4e9c79c2928b21e971",
      "placeholder": "​",
      "style": "IPY_MODEL_fb5f450d679c4c4d9df957d4b4283ce4",
      "value": " 8192/? [00:03&lt;00:00, 2575.92it/s]"
     }
    },
    "d2d03a0c7cb64359ba8fd6514665fdfd": {
     "model_module": "@jupyter-widgets/controls",
     "model_name": "HTMLModel",
     "state": {
      "_dom_classes": [],
      "_model_module": "@jupyter-widgets/controls",
      "_model_module_version": "1.5.0",
      "_model_name": "HTMLModel",
      "_view_count": null,
      "_view_module": "@jupyter-widgets/controls",
      "_view_module_version": "1.5.0",
      "_view_name": "HTMLView",
      "description": "",
      "description_tooltip": null,
      "layout": "IPY_MODEL_9d60a42b0b9a48e5a9fff0036bc68310",
      "placeholder": "​",
      "style": "IPY_MODEL_b5745956eccd44589b9801e3c7695cbc",
      "value": " 9920512/? [00:20&lt;00:00, 9202250.73it/s]"
     }
    },
    "dfd8e6d2457d4f93bacbdb346c346346": {
     "model_module": "@jupyter-widgets/base",
     "model_name": "LayoutModel",
     "state": {
      "_model_module": "@jupyter-widgets/base",
      "_model_module_version": "1.2.0",
      "_model_name": "LayoutModel",
      "_view_count": null,
      "_view_module": "@jupyter-widgets/base",
      "_view_module_version": "1.2.0",
      "_view_name": "LayoutView",
      "align_content": null,
      "align_items": null,
      "align_self": null,
      "border": null,
      "bottom": null,
      "display": null,
      "flex": null,
      "flex_flow": null,
      "grid_area": null,
      "grid_auto_columns": null,
      "grid_auto_flow": null,
      "grid_auto_rows": null,
      "grid_column": null,
      "grid_gap": null,
      "grid_row": null,
      "grid_template_areas": null,
      "grid_template_columns": null,
      "grid_template_rows": null,
      "height": null,
      "justify_content": null,
      "justify_items": null,
      "left": null,
      "margin": null,
      "max_height": null,
      "max_width": null,
      "min_height": null,
      "min_width": null,
      "object_fit": null,
      "object_position": null,
      "order": null,
      "overflow": null,
      "overflow_x": null,
      "overflow_y": null,
      "padding": null,
      "right": null,
      "top": null,
      "visibility": null,
      "width": null
     }
    },
    "dfecae80f8f74e42a87214d9d73f9507": {
     "model_module": "@jupyter-widgets/base",
     "model_name": "LayoutModel",
     "state": {
      "_model_module": "@jupyter-widgets/base",
      "_model_module_version": "1.2.0",
      "_model_name": "LayoutModel",
      "_view_count": null,
      "_view_module": "@jupyter-widgets/base",
      "_view_module_version": "1.2.0",
      "_view_name": "LayoutView",
      "align_content": null,
      "align_items": null,
      "align_self": null,
      "border": null,
      "bottom": null,
      "display": null,
      "flex": null,
      "flex_flow": null,
      "grid_area": null,
      "grid_auto_columns": null,
      "grid_auto_flow": null,
      "grid_auto_rows": null,
      "grid_column": null,
      "grid_gap": null,
      "grid_row": null,
      "grid_template_areas": null,
      "grid_template_columns": null,
      "grid_template_rows": null,
      "height": null,
      "justify_content": null,
      "justify_items": null,
      "left": null,
      "margin": null,
      "max_height": null,
      "max_width": null,
      "min_height": null,
      "min_width": null,
      "object_fit": null,
      "object_position": null,
      "order": null,
      "overflow": null,
      "overflow_x": null,
      "overflow_y": null,
      "padding": null,
      "right": null,
      "top": null,
      "visibility": null,
      "width": null
     }
    },
    "e2210ae0f23947469ac595ea836bdcca": {
     "model_module": "@jupyter-widgets/base",
     "model_name": "LayoutModel",
     "state": {
      "_model_module": "@jupyter-widgets/base",
      "_model_module_version": "1.2.0",
      "_model_name": "LayoutModel",
      "_view_count": null,
      "_view_module": "@jupyter-widgets/base",
      "_view_module_version": "1.2.0",
      "_view_name": "LayoutView",
      "align_content": null,
      "align_items": null,
      "align_self": null,
      "border": null,
      "bottom": null,
      "display": null,
      "flex": null,
      "flex_flow": null,
      "grid_area": null,
      "grid_auto_columns": null,
      "grid_auto_flow": null,
      "grid_auto_rows": null,
      "grid_column": null,
      "grid_gap": null,
      "grid_row": null,
      "grid_template_areas": null,
      "grid_template_columns": null,
      "grid_template_rows": null,
      "height": null,
      "justify_content": null,
      "justify_items": null,
      "left": null,
      "margin": null,
      "max_height": null,
      "max_width": null,
      "min_height": null,
      "min_width": null,
      "object_fit": null,
      "object_position": null,
      "order": null,
      "overflow": null,
      "overflow_x": null,
      "overflow_y": null,
      "padding": null,
      "right": null,
      "top": null,
      "visibility": null,
      "width": null
     }
    },
    "e5e0b13dc5d149a297c2b0f5833d25bc": {
     "model_module": "@jupyter-widgets/base",
     "model_name": "LayoutModel",
     "state": {
      "_model_module": "@jupyter-widgets/base",
      "_model_module_version": "1.2.0",
      "_model_name": "LayoutModel",
      "_view_count": null,
      "_view_module": "@jupyter-widgets/base",
      "_view_module_version": "1.2.0",
      "_view_name": "LayoutView",
      "align_content": null,
      "align_items": null,
      "align_self": null,
      "border": null,
      "bottom": null,
      "display": null,
      "flex": null,
      "flex_flow": null,
      "grid_area": null,
      "grid_auto_columns": null,
      "grid_auto_flow": null,
      "grid_auto_rows": null,
      "grid_column": null,
      "grid_gap": null,
      "grid_row": null,
      "grid_template_areas": null,
      "grid_template_columns": null,
      "grid_template_rows": null,
      "height": null,
      "justify_content": null,
      "justify_items": null,
      "left": null,
      "margin": null,
      "max_height": null,
      "max_width": null,
      "min_height": null,
      "min_width": null,
      "object_fit": null,
      "object_position": null,
      "order": null,
      "overflow": null,
      "overflow_x": null,
      "overflow_y": null,
      "padding": null,
      "right": null,
      "top": null,
      "visibility": null,
      "width": null
     }
    },
    "e85041b4142648eb8e25ec653c16f528": {
     "model_module": "@jupyter-widgets/base",
     "model_name": "LayoutModel",
     "state": {
      "_model_module": "@jupyter-widgets/base",
      "_model_module_version": "1.2.0",
      "_model_name": "LayoutModel",
      "_view_count": null,
      "_view_module": "@jupyter-widgets/base",
      "_view_module_version": "1.2.0",
      "_view_name": "LayoutView",
      "align_content": null,
      "align_items": null,
      "align_self": null,
      "border": null,
      "bottom": null,
      "display": null,
      "flex": null,
      "flex_flow": null,
      "grid_area": null,
      "grid_auto_columns": null,
      "grid_auto_flow": null,
      "grid_auto_rows": null,
      "grid_column": null,
      "grid_gap": null,
      "grid_row": null,
      "grid_template_areas": null,
      "grid_template_columns": null,
      "grid_template_rows": null,
      "height": null,
      "justify_content": null,
      "justify_items": null,
      "left": null,
      "margin": null,
      "max_height": null,
      "max_width": null,
      "min_height": null,
      "min_width": null,
      "object_fit": null,
      "object_position": null,
      "order": null,
      "overflow": null,
      "overflow_x": null,
      "overflow_y": null,
      "padding": null,
      "right": null,
      "top": null,
      "visibility": null,
      "width": null
     }
    },
    "efdb0aecb36749df9c8db3aa9e8b33c6": {
     "model_module": "@jupyter-widgets/controls",
     "model_name": "HBoxModel",
     "state": {
      "_dom_classes": [],
      "_model_module": "@jupyter-widgets/controls",
      "_model_module_version": "1.5.0",
      "_model_name": "HBoxModel",
      "_view_count": null,
      "_view_module": "@jupyter-widgets/controls",
      "_view_module_version": "1.5.0",
      "_view_name": "HBoxView",
      "box_style": "",
      "children": [
       "IPY_MODEL_45a21a5b9ef54ee4a22a2ab79a1cb8f4",
       "IPY_MODEL_5fa3f44abeab48859ba60c77200a12b5"
      ],
      "layout": "IPY_MODEL_e5e0b13dc5d149a297c2b0f5833d25bc"
     }
    },
    "f1b5e49258d3464dbef5e71600462a79": {
     "model_module": "@jupyter-widgets/base",
     "model_name": "LayoutModel",
     "state": {
      "_model_module": "@jupyter-widgets/base",
      "_model_module_version": "1.2.0",
      "_model_name": "LayoutModel",
      "_view_count": null,
      "_view_module": "@jupyter-widgets/base",
      "_view_module_version": "1.2.0",
      "_view_name": "LayoutView",
      "align_content": null,
      "align_items": null,
      "align_self": null,
      "border": null,
      "bottom": null,
      "display": null,
      "flex": null,
      "flex_flow": null,
      "grid_area": null,
      "grid_auto_columns": null,
      "grid_auto_flow": null,
      "grid_auto_rows": null,
      "grid_column": null,
      "grid_gap": null,
      "grid_row": null,
      "grid_template_areas": null,
      "grid_template_columns": null,
      "grid_template_rows": null,
      "height": null,
      "justify_content": null,
      "justify_items": null,
      "left": null,
      "margin": null,
      "max_height": null,
      "max_width": null,
      "min_height": null,
      "min_width": null,
      "object_fit": null,
      "object_position": null,
      "order": null,
      "overflow": null,
      "overflow_x": null,
      "overflow_y": null,
      "padding": null,
      "right": null,
      "top": null,
      "visibility": null,
      "width": null
     }
    },
    "fb5f450d679c4c4d9df957d4b4283ce4": {
     "model_module": "@jupyter-widgets/controls",
     "model_name": "DescriptionStyleModel",
     "state": {
      "_model_module": "@jupyter-widgets/controls",
      "_model_module_version": "1.5.0",
      "_model_name": "DescriptionStyleModel",
      "_view_count": null,
      "_view_module": "@jupyter-widgets/base",
      "_view_module_version": "1.2.0",
      "_view_name": "StyleView",
      "description_width": ""
     }
    },
    "fc4186a38a434dcbbf20cc5ffc0087bc": {
     "model_module": "@jupyter-widgets/base",
     "model_name": "LayoutModel",
     "state": {
      "_model_module": "@jupyter-widgets/base",
      "_model_module_version": "1.2.0",
      "_model_name": "LayoutModel",
      "_view_count": null,
      "_view_module": "@jupyter-widgets/base",
      "_view_module_version": "1.2.0",
      "_view_name": "LayoutView",
      "align_content": null,
      "align_items": null,
      "align_self": null,
      "border": null,
      "bottom": null,
      "display": null,
      "flex": null,
      "flex_flow": null,
      "grid_area": null,
      "grid_auto_columns": null,
      "grid_auto_flow": null,
      "grid_auto_rows": null,
      "grid_column": null,
      "grid_gap": null,
      "grid_row": null,
      "grid_template_areas": null,
      "grid_template_columns": null,
      "grid_template_rows": null,
      "height": null,
      "justify_content": null,
      "justify_items": null,
      "left": null,
      "margin": null,
      "max_height": null,
      "max_width": null,
      "min_height": null,
      "min_width": null,
      "object_fit": null,
      "object_position": null,
      "order": null,
      "overflow": null,
      "overflow_x": null,
      "overflow_y": null,
      "padding": null,
      "right": null,
      "top": null,
      "visibility": null,
      "width": null
     }
    }
   }
  }
 },
 "nbformat": 4,
 "nbformat_minor": 4
}
