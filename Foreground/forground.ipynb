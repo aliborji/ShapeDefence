{
 "cells": [
  {
   "cell_type": "markdown",
   "metadata": {
    "colab_type": "text",
    "id": "dWyI9dbXRoTS"
   },
   "source": [
    "\n",
    "foreground defense\n",
    "==============================\n",
    "ALI BORJI\n"
   ]
  },
  {
   "cell_type": "code",
   "execution_count": 3,
   "metadata": {
    "colab": {},
    "colab_type": "code",
    "id": "yTOeDD4fIbdq"
   },
   "outputs": [],
   "source": [
    "%matplotlib inline"
   ]
  },
  {
   "cell_type": "code",
   "execution_count": 4,
   "metadata": {
    "colab": {},
    "colab_type": "code",
    "id": "-Fw-gSFYIbdu"
   },
   "outputs": [],
   "source": [
    "from __future__ import print_function\n",
    "import torch\n",
    "import torch.nn as nn\n",
    "import torch.nn.functional as F\n",
    "import torch.optim as optim\n",
    "from torchvision import datasets, transforms\n",
    "import numpy as np\n",
    "import matplotlib.pyplot as plt\n",
    "import os"
   ]
  },
  {
   "cell_type": "code",
   "execution_count": 5,
   "metadata": {
    "colab": {},
    "colab_type": "code",
    "id": "MXobUARXIbd4"
   },
   "outputs": [],
   "source": [
    "# FGSM attack code\n",
    "def fgsm_attack(image, epsilon, data_grad):\n",
    "    # Collect the element-wise sign of the data gradient\n",
    "    sign_data_grad = data_grad.sign()\n",
    "    # Create the perturbed image by adjusting each pixel of the input image\n",
    "    perturbed_image = image + epsilon*sign_data_grad\n",
    "    # Adding clipping to maintain [0,1] range\n",
    "    perturbed_image = torch.clamp(perturbed_image, 0, 1)\n",
    "    # Return the perturbed image\n",
    "    return perturbed_image"
   ]
  },
  {
   "cell_type": "code",
   "execution_count": 6,
   "metadata": {},
   "outputs": [],
   "source": [
    "def load_model(net, model_path):\n",
    "    device = torch.device(\"cuda:0\" if torch.cuda.is_available() else \"cpu\")\n",
    "    \n",
    "    load_weights = torch.load(model_path, map_location=device)\n",
    "    net.load_state_dict(load_weights)\n"
   ]
  },
  {
   "cell_type": "code",
   "execution_count": 7,
   "metadata": {},
   "outputs": [],
   "source": [
    "from skimage import io, color, feature\n",
    "\n",
    "def detect_edge_map(data):\n",
    "    edge_maps = np.zeros_like(data)\n",
    "    for idx,img in enumerate(data):\n",
    "        edge_maps[idx,0] = feature.canny(np.array(img[0], dtype=np.float64), sigma = .1, low_threshold=1.5)\n",
    "\n",
    "    return edge_maps\n",
    "    "
   ]
  },
  {
   "cell_type": "code",
   "execution_count": 8,
   "metadata": {},
   "outputs": [],
   "source": [
    "def plot_samples(epsilons, examples):\n",
    "    # Plot several examples of adversarial samples at each epsilon\n",
    "    cnt = 0\n",
    "    plt.figure(figsize=(8,10))\n",
    "    for i in range(len(epsilons)):\n",
    "        for j in range(len(examples[i])):\n",
    "            cnt += 1\n",
    "            plt.subplot(len(epsilons),len(examples[0]),cnt)\n",
    "            plt.xticks([], [])\n",
    "            plt.yticks([], [])\n",
    "            if j == 0:\n",
    "                plt.ylabel(\"Eps: {}\".format(epsilons[i]), fontsize=14)\n",
    "            orig,adv,ex = examples[i][j]\n",
    "            plt.title(\"{} -> {}\".format(orig, adv))\n",
    "            plt.imshow(ex, cmap=\"gray\")\n",
    "    plt.tight_layout()\n",
    "    plt.show()"
   ]
  },
  {
   "cell_type": "code",
   "execution_count": 9,
   "metadata": {},
   "outputs": [],
   "source": [
    "def add_noise_toimg(data):\n",
    "  mask = data > 0\n",
    "\n",
    "  # noise_data = np.random.rand(data.shape[0], data.shape[1], data.shape[2], data.shape[3])\n",
    "  noise_data = np.random.rand(*data.shape)  \n",
    "  noise_data[mask] = data[mask]\n",
    "\n",
    "  return noise_data"
   ]
  },
  {
   "cell_type": "code",
   "execution_count": 22,
   "metadata": {
    "colab": {},
    "colab_type": "code",
    "id": "-VUhyipnIbd8"
   },
   "outputs": [],
   "source": [
    "def test_fgsm( model, device, test_loader, epsilon, extract_fg = False, add_noise=False, detect_edge=False):\n",
    "\n",
    "    model.eval()\n",
    "    # Accuracy counter\n",
    "    correct = 0\n",
    "    adv_examples = []\n",
    "\n",
    "    # Loop over all examples in test set\n",
    "#     counter = 0 # counted the attack attemps\n",
    "    for data, target in test_loader:\n",
    "\n",
    "        \n",
    "#         data_orig = torch.clone(data)\n",
    "#         import pdb; pdb.set_trace()\n",
    "        mask = np.zeros_like(data)\n",
    "        mask[data > 0] = 1\n",
    "        \n",
    "\n",
    "        # add noise\n",
    "        if add_noise:\n",
    "            data = add_noise_toimg(data)\n",
    "            data = torch.Tensor(data.tolist())\n",
    "            \n",
    "        data, target = data.to(device), target.to(device)        \n",
    "\n",
    "        # Set requires_grad attribute of tensor. Important for Attack\n",
    "        data.requires_grad = True\n",
    "\n",
    "        # Forward pass the data through the model\n",
    "        output = model(data)\n",
    "        init_pred = output.max(1, keepdim=True)[1] # get the index of the max log-probability\n",
    "\n",
    "        # If the initial prediction is wrong, dont bother attacking, just move on\n",
    "#         if init_pred.item() != target.item():\n",
    "#             continue\n",
    "\n",
    "        # Calculate the loss\n",
    "        loss = F.nll_loss(output, target)\n",
    "\n",
    "        # Zero all existing gradients\n",
    "        model.zero_grad()\n",
    "\n",
    "        # Calculate gradients of model in backward pass\n",
    "        loss.backward()\n",
    "\n",
    "        # Collect datagrad\n",
    "        data_grad = data.grad.data\n",
    "\n",
    "        # Call FGSM Attack\n",
    "        perturbed_data = fgsm_attack(data, epsilon, data_grad)\n",
    "        \n",
    "        # MULTIPLY THE ATTACK BY THE MASK; THAT IS REMOVE THE PERTURBATION ON BACKGROUND\n",
    "        # import pdb; pdb.set_trace()\n",
    "        if extract_fg:\n",
    "#           import pdb; pdb.set_trace()      \n",
    "          perturbed_data = perturbed_data.cpu().detach() * mask\n",
    "#           print((data_orig[0,0] - perturbed_data[0,0]).sum())\n",
    "#           perturbed_data = perturbed_data.to(device)\n",
    "            \n",
    "        if detect_edge:\n",
    "            perturbed_data = detect_edge_map(perturbed_data.detach())\n",
    "            \n",
    "\n",
    "        perturbed_data = torch.Tensor(perturbed_data.tolist())            \n",
    "        # Re-classify the perturbed image\n",
    "        output = model(perturbed_data)\n",
    "#         counter += 1\n",
    "\n",
    "        # Check for success\n",
    "        final_pred = output.max(1, keepdim=True)[1] # get the index of the max log-probability\n",
    "        if final_pred.item() == target.item():\n",
    "            correct += 1\n",
    "            # Special case for saving 0 epsilon examples\n",
    "            if (epsilon == 0) and (len(adv_examples) < 5):\n",
    "                adv_ex = perturbed_data.squeeze().detach().cpu().numpy()\n",
    "                adv_examples.append( (init_pred.item(), final_pred.item(), adv_ex) )\n",
    "        else:\n",
    "            # Save some adv examples for visualization later\n",
    "            if len(adv_examples) < 5:\n",
    "                adv_ex = perturbed_data.squeeze().detach().cpu().numpy()\n",
    "                adv_examples.append( (init_pred.item(), final_pred.item(), adv_ex) )\n",
    "\n",
    "    # Calculate final accuracy for this epsilon\n",
    "    final_acc = correct/float(len(test_loader))\n",
    "#     final_acc = correct/counter    \n",
    "    print(\"Epsilon: {}\\tTest Accuracy = {} / {} = {}\".format(epsilon, correct, len(test_loader), final_acc))\n",
    "#     print(\"Epsilon: {}\\tTest Accuracy = {} / {} = {}\".format(epsilon, correct, counter, final_acc))\n",
    "\n",
    "    # Return the accuracy and an adversarial example\n",
    "    return final_acc, adv_examples\n",
    "\n",
    "\n",
    "\n"
   ]
  },
  {
   "cell_type": "markdown",
   "metadata": {},
   "source": [
    "## Load the model to be tested"
   ]
  },
  {
   "cell_type": "code",
   "execution_count": 11,
   "metadata": {
    "colab": {},
    "colab_type": "code",
    "id": "VwLQh6vWRoTi"
   },
   "outputs": [],
   "source": [
    "epsilons = [0, .05, .1, .15, .2, .25, .3]\n",
    "# epsilons = [0, 8/255, 16/255, 32/255, 64/255]\n",
    "# pretrained_model = \"/gdrive/My Drive/Tmp/lenet_mnist_model.pth\"\n",
    "# pretrained_model = '/gdrive/My Drive/Tmp/cifar_net.pth' #pretrained_model = \"lenet_mnist_model.pth\"\n",
    "# path = '/gdrive/My Drive/Tmp/slope_models/'"
   ]
  },
  {
   "cell_type": "code",
   "execution_count": 12,
   "metadata": {},
   "outputs": [
    {
     "data": {
      "text/plain": [
       "[0, 0.05, 0.1, 0.15, 0.2, 0.25, 0.3]"
      ]
     },
     "execution_count": 12,
     "metadata": {},
     "output_type": "execute_result"
    }
   ],
   "source": [
    "epsilons"
   ]
  },
  {
   "cell_type": "code",
   "execution_count": 13,
   "metadata": {
    "colab": {},
    "colab_type": "code",
    "id": "iI7soiDFRoTk"
   },
   "outputs": [],
   "source": [
    "# LeNet Model definition\n",
    "class Net(nn.Module):\n",
    "    def __init__(self):\n",
    "        super(Net, self).__init__()\n",
    "        self.conv1 = nn.Conv2d(1, 10, kernel_size=5)\n",
    "        self.conv2 = nn.Conv2d(10, 20, kernel_size=5)\n",
    "        self.conv2_drop = nn.Dropout2d()\n",
    "        self.fc1 = nn.Linear(320, 50)\n",
    "        self.fc2 = nn.Linear(50, 10)\n",
    "\n",
    "    def forward(self, x):\n",
    "        x = F.relu(F.max_pool2d(self.conv1(x), 2))\n",
    "        x = F.relu(F.max_pool2d(self.conv2_drop(self.conv2(x)), 2))\n",
    "        x = x.view(-1, 320)\n",
    "        x = F.relu(self.fc1(x))\n",
    "        x = F.dropout(x, training=self.training)\n",
    "        x = self.fc2(x)\n",
    "        return F.log_softmax(x, dim=1)\n",
    "\n",
    "train_loader = torch.utils.data.DataLoader(\n",
    "    datasets.MNIST('../data', train=True, download=True, transform=transforms.Compose([\n",
    "            transforms.ToTensor(),\n",
    "            ])), \n",
    "        batch_size=100, shuffle=True)\n",
    "\n",
    "# # MNIST Test dataset and dataloader declaration\n",
    "test_loader = torch.utils.data.DataLoader(\n",
    "    datasets.MNIST('../data', train=False, download=True, transform=transforms.Compose([\n",
    "            transforms.ToTensor(),\n",
    "            ])), \n",
    "        batch_size=100, shuffle=True)\n",
    "\n",
    "# # Define what device we are using\n",
    "# print(\"CUDA Available: \",torch.cuda.is_available())\n",
    "use_cuda = False\n",
    "device = torch.device(\"cuda\" if (use_cuda and torch.cuda.is_available()) else \"cpu\")\n",
    "\n",
    "\n",
    "model = Net().to(device)  # training with slope 1 for now\n"
   ]
  },
  {
   "cell_type": "code",
   "execution_count": 14,
   "metadata": {
    "colab": {
     "base_uri": "https://localhost:8080/",
     "height": 323
    },
    "colab_type": "code",
    "id": "oLSvmY2jRoTs",
    "outputId": "1a4b5167-36ec-41c3-f930-1105c30db5f2"
   },
   "outputs": [
    {
     "name": "stdout",
     "output_type": "stream",
     "text": [
      "----------------------------------------------------------------\n",
      "        Layer (type)               Output Shape         Param #\n",
      "================================================================\n",
      "            Conv2d-1           [-1, 10, 24, 24]             260\n",
      "            Conv2d-2             [-1, 20, 8, 8]           5,020\n",
      "         Dropout2d-3             [-1, 20, 8, 8]               0\n",
      "            Linear-4                   [-1, 50]          16,050\n",
      "            Linear-5                   [-1, 10]             510\n",
      "================================================================\n",
      "Total params: 21,840\n",
      "Trainable params: 21,840\n",
      "Non-trainable params: 0\n",
      "----------------------------------------------------------------\n",
      "Input size (MB): 0.00\n",
      "Forward/backward pass size (MB): 0.06\n",
      "Params size (MB): 0.08\n",
      "Estimated Total Size (MB): 0.15\n",
      "----------------------------------------------------------------\n"
     ]
    }
   ],
   "source": [
    "from torchsummary import summary\n",
    "# device = torch.device('cuda' if torch.cuda.is_available() else 'cpu')\n",
    "# vgg = models.vgg16().to(device)\n",
    "summary(model, (1, 28, 28))\n"
   ]
  },
  {
   "cell_type": "code",
   "execution_count": 15,
   "metadata": {
    "colab": {},
    "colab_type": "code",
    "id": "RF2nKzqHH7qX"
   },
   "outputs": [],
   "source": [
    "def add_noise_toimg(data):\n",
    "  mask = data > 0\n",
    "\n",
    "  # noise_data = np.random.rand(data.shape[0], data.shape[1], data.shape[2], data.shape[3])\n",
    "  noise_data = np.random.rand(*data.shape)  \n",
    "  noise_data[mask] = data[mask]\n",
    "\n",
    "  return noise_data"
   ]
  },
  {
   "cell_type": "code",
   "execution_count": 16,
   "metadata": {
    "colab": {
     "base_uri": "https://localhost:8080/",
     "height": 265
    },
    "colab_type": "code",
    "id": "TJO-OexIKbGh",
    "outputId": "49044589-6b98-4f73-bb1e-4fb6530a204d"
   },
   "outputs": [],
   "source": [
    "# plt.imshow(d[40,0])\n",
    "# plt.show()"
   ]
  },
  {
   "cell_type": "code",
   "execution_count": 17,
   "metadata": {
    "colab": {
     "base_uri": "https://localhost:8080/",
     "height": 265
    },
    "colab_type": "code",
    "id": "bhLPYIhEK4Np",
    "outputId": "d9f4ef6e-8d41-4431-ef1a-d8f8e164c500"
   },
   "outputs": [
    {
     "ename": "NameError",
     "evalue": "name 'data' is not defined",
     "output_type": "error",
     "traceback": [
      "\u001b[0;31m---------------------------------------------------------------------------\u001b[0m",
      "\u001b[0;31mNameError\u001b[0m                                 Traceback (most recent call last)",
      "\u001b[0;32m<ipython-input-17-0ddab2d95fc7>\u001b[0m in \u001b[0;36m<module>\u001b[0;34m\u001b[0m\n\u001b[0;32m----> 1\u001b[0;31m \u001b[0mxx\u001b[0m \u001b[0;34m=\u001b[0m \u001b[0madd_noise_toimg\u001b[0m\u001b[0;34m(\u001b[0m\u001b[0mdata\u001b[0m\u001b[0;34m)\u001b[0m\u001b[0;34m\u001b[0m\u001b[0;34m\u001b[0m\u001b[0m\n\u001b[0m\u001b[1;32m      2\u001b[0m \u001b[0mplt\u001b[0m\u001b[0;34m.\u001b[0m\u001b[0mimshow\u001b[0m\u001b[0;34m(\u001b[0m\u001b[0mxx\u001b[0m\u001b[0;34m[\u001b[0m\u001b[0;36m40\u001b[0m\u001b[0;34m,\u001b[0m\u001b[0;36m0\u001b[0m\u001b[0;34m]\u001b[0m\u001b[0;34m)\u001b[0m\u001b[0;34m\u001b[0m\u001b[0;34m\u001b[0m\u001b[0m\n\u001b[1;32m      3\u001b[0m \u001b[0mplt\u001b[0m\u001b[0;34m.\u001b[0m\u001b[0mshow\u001b[0m\u001b[0;34m(\u001b[0m\u001b[0;34m)\u001b[0m\u001b[0;34m\u001b[0m\u001b[0;34m\u001b[0m\u001b[0m\n",
      "\u001b[0;31mNameError\u001b[0m: name 'data' is not defined"
     ]
    }
   ],
   "source": [
    "d\n",
    "xx = add_noise_toimg(data)\n",
    "plt.imshow(xx[40,0])\n",
    "plt.show()"
   ]
  },
  {
   "cell_type": "code",
   "execution_count": 18,
   "metadata": {
    "colab": {
     "base_uri": "https://localhost:8080/",
     "height": 34
    },
    "colab_type": "code",
    "id": "4659L91ARoTy",
    "outputId": "1c635849-f9e1-4209-8cb5-409c0f65b39c"
   },
   "outputs": [],
   "source": [
    "# evaluate_x = test_loader.dataset.data.type_as(torch.FloatTensor())\n",
    "# evaluate_x = evaluate_x / 255.0\n",
    "# evaluate_y = test_loader.dataset.targets.type_as(torch.FloatTensor())\n",
    "\n",
    "# evaluate_x = add_noise_toimg(np.array(evaluate_x)) # [:,None,...])))\n",
    "# evaluate_x = torch.Tensor(evaluate_x)\n",
    "\n",
    "# evaluate_x, evaluate_y = evaluate_x.to(device), evaluate_y.to(device)        \n",
    "\n",
    "# model.eval()\n",
    "# output = model(evaluate_x[:,None,...])\n",
    "# pred = output.data.max(1)[1]\n",
    "# d = pred.eq(evaluate_y.data).cpu()\n",
    "# accuracy = d.sum().type(dtype=torch.float64)/d.size()[0]\n",
    "\n",
    "# print('Accuracy:', accuracy*100)"
   ]
  },
  {
   "cell_type": "markdown",
   "metadata": {
    "colab_type": "text",
    "id": "VAOjLT_6WM17"
   },
   "source": [
    "On clean data"
   ]
  },
  {
   "cell_type": "code",
   "execution_count": 20,
   "metadata": {
    "colab": {
     "base_uri": "https://localhost:8080/",
     "height": 34
    },
    "colab_type": "code",
    "id": "_rZHtuGjPXls",
    "outputId": "0285ab43-76a0-4733-ca67-71ecf2a10869"
   },
   "outputs": [
    {
     "name": "stdout",
     "output_type": "stream",
     "text": [
      "Accuracy: tensor(14.2200, dtype=torch.float64)\n"
     ]
    }
   ],
   "source": [
    "model = Net().to(device)  # training with slope 1 for now\n",
    "orig_model = 'models/lenet_mnist_model.pth'\n",
    "if os.path.exists(orig_model):\n",
    "    load_model(model,orig_model)    \n",
    "    print('model loaded')\n",
    "\n",
    "evaluate_x = test_loader.dataset.data.type_as(torch.FloatTensor())\n",
    "# evaluate_x = evaluate_x / 255.0\n",
    "evaluate_y = test_loader.dataset.targets.type_as(torch.FloatTensor())\n",
    "\n",
    "evaluate_x, evaluate_y = evaluate_x.to(device), evaluate_y.to(device)        \n",
    "\n",
    "model.eval()\n",
    "output = model(evaluate_x[:,None,...])\n",
    "pred = output.data.max(1)[1]\n",
    "d = pred.eq(evaluate_y.data).cpu()\n",
    "accuracy = d.sum().type(dtype=torch.float64)/d.size()[0]\n",
    "\n",
    "print('Accuracy:', accuracy*100)"
   ]
  },
  {
   "cell_type": "code",
   "execution_count": 21,
   "metadata": {
    "colab": {
     "base_uri": "https://localhost:8080/",
     "height": 265
    },
    "colab_type": "code",
    "id": "f06ufm6oQDa1",
    "outputId": "5d0deb7c-5fe4-48d3-dc52-138966f0eff2"
   },
   "outputs": [
    {
     "data": {
      "image/png": "[encoded data removed]",
      "text/plain": [
       "<Figure size 432x288 with 1 Axes>"
      ]
     },
     "metadata": {
      "needs_background": "light"
     },
     "output_type": "display_data"
    }
   ],
   "source": [
    "plt.imshow(evaluate_x[10].cpu()); plt.show()"
   ]
  },
  {
   "cell_type": "code",
   "execution_count": 35,
   "metadata": {
    "colab": {
     "base_uri": "https://localhost:8080/",
     "height": 34
    },
    "colab_type": "code",
    "id": "ZtJTcgiUS9Xl",
    "outputId": "47bc66c0-2d94-4cb8-e1e3-196ff5050bed"
   },
   "outputs": [],
   "source": [
    "# mask.shape"
   ]
  },
  {
   "cell_type": "markdown",
   "metadata": {
    "colab_type": "text",
    "id": "8vKYl4O6RoT0"
   },
   "source": [
    "# Now perform adversarial attack"
   ]
  },
  {
   "cell_type": "code",
   "execution_count": 29,
   "metadata": {
    "colab": {
     "base_uri": "https://localhost:8080/",
     "height": 255
    },
    "colab_type": "code",
    "id": "iFXLuEzmRoT1",
    "outputId": "d61bac74-3ad0-4d02-c047-0784ba899aab"
   },
   "outputs": [
    {
     "name": "stdout",
     "output_type": "stream",
     "text": [
      "model loaded\n",
      "> <ipython-input-22-9e6640418030>(15)test_fgsm()\n",
      "-> mask = np.zeros_like(data)\n"
     ]
    },
    {
     "name": "stdin",
     "output_type": "stream",
     "text": [
      "(Pdb)  q\n"
     ]
    },
    {
     "ename": "BdbQuit",
     "evalue": "",
     "output_type": "error",
     "traceback": [
      "\u001b[0;31m---------------------------------------------------------------------------\u001b[0m",
      "\u001b[0;31mBdbQuit\u001b[0m                                   Traceback (most recent call last)",
      "\u001b[0;32m<ipython-input-29-e6f19eaa15d9>\u001b[0m in \u001b[0;36m<module>\u001b[0;34m\u001b[0m\n\u001b[1;32m     23\u001b[0m \u001b[0mextract_fg\u001b[0m\u001b[0;34m,\u001b[0m \u001b[0madd_noise\u001b[0m\u001b[0;34m,\u001b[0m \u001b[0mdetect_edge\u001b[0m \u001b[0;34m=\u001b[0m \u001b[0;32mFalse\u001b[0m\u001b[0;34m,\u001b[0m \u001b[0;32mFalse\u001b[0m\u001b[0;34m,\u001b[0m \u001b[0;32mFalse\u001b[0m\u001b[0;34m\u001b[0m\u001b[0;34m\u001b[0m\u001b[0m\n\u001b[1;32m     24\u001b[0m \u001b[0;32mfor\u001b[0m \u001b[0meps\u001b[0m \u001b[0;32min\u001b[0m \u001b[0mepsilons\u001b[0m\u001b[0;34m:\u001b[0m\u001b[0;34m\u001b[0m\u001b[0;34m\u001b[0m\u001b[0m\n\u001b[0;32m---> 25\u001b[0;31m     \u001b[0macc\u001b[0m\u001b[0;34m,\u001b[0m \u001b[0mex\u001b[0m \u001b[0;34m=\u001b[0m \u001b[0mtest_fgsm\u001b[0m\u001b[0;34m(\u001b[0m\u001b[0mmodel\u001b[0m\u001b[0;34m,\u001b[0m \u001b[0mdevice\u001b[0m\u001b[0;34m,\u001b[0m \u001b[0mtest_loader_new\u001b[0m\u001b[0;34m,\u001b[0m \u001b[0meps\u001b[0m\u001b[0;34m,\u001b[0m \u001b[0mextract_fg\u001b[0m\u001b[0;34m,\u001b[0m \u001b[0madd_noise\u001b[0m\u001b[0;34m,\u001b[0m \u001b[0mdetect_edge\u001b[0m\u001b[0;34m)\u001b[0m\u001b[0;34m\u001b[0m\u001b[0;34m\u001b[0m\u001b[0m\n\u001b[0m\u001b[1;32m     26\u001b[0m     \u001b[0maccuracies\u001b[0m\u001b[0;34m.\u001b[0m\u001b[0mappend\u001b[0m\u001b[0;34m(\u001b[0m\u001b[0macc\u001b[0m\u001b[0;34m)\u001b[0m\u001b[0;34m\u001b[0m\u001b[0;34m\u001b[0m\u001b[0m\n\u001b[1;32m     27\u001b[0m     \u001b[0mexamples\u001b[0m\u001b[0;34m.\u001b[0m\u001b[0mappend\u001b[0m\u001b[0;34m(\u001b[0m\u001b[0mex\u001b[0m\u001b[0;34m)\u001b[0m\u001b[0;34m\u001b[0m\u001b[0;34m\u001b[0m\u001b[0m\n",
      "\u001b[0;32m<ipython-input-22-9e6640418030>\u001b[0m in \u001b[0;36mtest_fgsm\u001b[0;34m(model, device, test_loader, epsilon, extract_fg, add_noise, detect_edge)\u001b[0m\n\u001b[1;32m     13\u001b[0m \u001b[0;31m#         data_orig = torch.clone(data)\u001b[0m\u001b[0;34m\u001b[0m\u001b[0;34m\u001b[0m\u001b[0;34m\u001b[0m\u001b[0m\n\u001b[1;32m     14\u001b[0m         \u001b[0;32mimport\u001b[0m \u001b[0mpdb\u001b[0m\u001b[0;34m;\u001b[0m \u001b[0mpdb\u001b[0m\u001b[0;34m.\u001b[0m\u001b[0mset_trace\u001b[0m\u001b[0;34m(\u001b[0m\u001b[0;34m)\u001b[0m\u001b[0;34m\u001b[0m\u001b[0;34m\u001b[0m\u001b[0m\n\u001b[0;32m---> 15\u001b[0;31m         \u001b[0mmask\u001b[0m \u001b[0;34m=\u001b[0m \u001b[0mnp\u001b[0m\u001b[0;34m.\u001b[0m\u001b[0mzeros_like\u001b[0m\u001b[0;34m(\u001b[0m\u001b[0mdata\u001b[0m\u001b[0;34m)\u001b[0m\u001b[0;34m\u001b[0m\u001b[0;34m\u001b[0m\u001b[0m\n\u001b[0m\u001b[1;32m     16\u001b[0m         \u001b[0mmask\u001b[0m\u001b[0;34m[\u001b[0m\u001b[0mdata\u001b[0m \u001b[0;34m>\u001b[0m \u001b[0;36m0\u001b[0m\u001b[0;34m]\u001b[0m \u001b[0;34m=\u001b[0m \u001b[0;36m1\u001b[0m\u001b[0;34m\u001b[0m\u001b[0;34m\u001b[0m\u001b[0m\n\u001b[1;32m     17\u001b[0m \u001b[0;34m\u001b[0m\u001b[0m\n",
      "\u001b[0;32m<ipython-input-22-9e6640418030>\u001b[0m in \u001b[0;36mtest_fgsm\u001b[0;34m(model, device, test_loader, epsilon, extract_fg, add_noise, detect_edge)\u001b[0m\n\u001b[1;32m     13\u001b[0m \u001b[0;31m#         data_orig = torch.clone(data)\u001b[0m\u001b[0;34m\u001b[0m\u001b[0;34m\u001b[0m\u001b[0;34m\u001b[0m\u001b[0m\n\u001b[1;32m     14\u001b[0m         \u001b[0;32mimport\u001b[0m \u001b[0mpdb\u001b[0m\u001b[0;34m;\u001b[0m \u001b[0mpdb\u001b[0m\u001b[0;34m.\u001b[0m\u001b[0mset_trace\u001b[0m\u001b[0;34m(\u001b[0m\u001b[0;34m)\u001b[0m\u001b[0;34m\u001b[0m\u001b[0;34m\u001b[0m\u001b[0m\n\u001b[0;32m---> 15\u001b[0;31m         \u001b[0mmask\u001b[0m \u001b[0;34m=\u001b[0m \u001b[0mnp\u001b[0m\u001b[0;34m.\u001b[0m\u001b[0mzeros_like\u001b[0m\u001b[0;34m(\u001b[0m\u001b[0mdata\u001b[0m\u001b[0;34m)\u001b[0m\u001b[0;34m\u001b[0m\u001b[0;34m\u001b[0m\u001b[0m\n\u001b[0m\u001b[1;32m     16\u001b[0m         \u001b[0mmask\u001b[0m\u001b[0;34m[\u001b[0m\u001b[0mdata\u001b[0m \u001b[0;34m>\u001b[0m \u001b[0;36m0\u001b[0m\u001b[0;34m]\u001b[0m \u001b[0;34m=\u001b[0m \u001b[0;36m1\u001b[0m\u001b[0;34m\u001b[0m\u001b[0;34m\u001b[0m\u001b[0m\n\u001b[1;32m     17\u001b[0m \u001b[0;34m\u001b[0m\u001b[0m\n",
      "\u001b[0;32m~/anaconda3/lib/python3.7/bdb.py\u001b[0m in \u001b[0;36mtrace_dispatch\u001b[0;34m(self, frame, event, arg)\u001b[0m\n\u001b[1;32m     86\u001b[0m             \u001b[0;32mreturn\u001b[0m \u001b[0;31m# None\u001b[0m\u001b[0;34m\u001b[0m\u001b[0;34m\u001b[0m\u001b[0m\n\u001b[1;32m     87\u001b[0m         \u001b[0;32mif\u001b[0m \u001b[0mevent\u001b[0m \u001b[0;34m==\u001b[0m \u001b[0;34m'line'\u001b[0m\u001b[0;34m:\u001b[0m\u001b[0;34m\u001b[0m\u001b[0;34m\u001b[0m\u001b[0m\n\u001b[0;32m---> 88\u001b[0;31m             \u001b[0;32mreturn\u001b[0m \u001b[0mself\u001b[0m\u001b[0;34m.\u001b[0m\u001b[0mdispatch_line\u001b[0m\u001b[0;34m(\u001b[0m\u001b[0mframe\u001b[0m\u001b[0;34m)\u001b[0m\u001b[0;34m\u001b[0m\u001b[0;34m\u001b[0m\u001b[0m\n\u001b[0m\u001b[1;32m     89\u001b[0m         \u001b[0;32mif\u001b[0m \u001b[0mevent\u001b[0m \u001b[0;34m==\u001b[0m \u001b[0;34m'call'\u001b[0m\u001b[0;34m:\u001b[0m\u001b[0;34m\u001b[0m\u001b[0;34m\u001b[0m\u001b[0m\n\u001b[1;32m     90\u001b[0m             \u001b[0;32mreturn\u001b[0m \u001b[0mself\u001b[0m\u001b[0;34m.\u001b[0m\u001b[0mdispatch_call\u001b[0m\u001b[0;34m(\u001b[0m\u001b[0mframe\u001b[0m\u001b[0;34m,\u001b[0m \u001b[0marg\u001b[0m\u001b[0;34m)\u001b[0m\u001b[0;34m\u001b[0m\u001b[0;34m\u001b[0m\u001b[0m\n",
      "\u001b[0;32m~/anaconda3/lib/python3.7/bdb.py\u001b[0m in \u001b[0;36mdispatch_line\u001b[0;34m(self, frame)\u001b[0m\n\u001b[1;32m    111\u001b[0m         \u001b[0;32mif\u001b[0m \u001b[0mself\u001b[0m\u001b[0;34m.\u001b[0m\u001b[0mstop_here\u001b[0m\u001b[0;34m(\u001b[0m\u001b[0mframe\u001b[0m\u001b[0;34m)\u001b[0m \u001b[0;32mor\u001b[0m \u001b[0mself\u001b[0m\u001b[0;34m.\u001b[0m\u001b[0mbreak_here\u001b[0m\u001b[0;34m(\u001b[0m\u001b[0mframe\u001b[0m\u001b[0;34m)\u001b[0m\u001b[0;34m:\u001b[0m\u001b[0;34m\u001b[0m\u001b[0;34m\u001b[0m\u001b[0m\n\u001b[1;32m    112\u001b[0m             \u001b[0mself\u001b[0m\u001b[0;34m.\u001b[0m\u001b[0muser_line\u001b[0m\u001b[0;34m(\u001b[0m\u001b[0mframe\u001b[0m\u001b[0;34m)\u001b[0m\u001b[0;34m\u001b[0m\u001b[0;34m\u001b[0m\u001b[0m\n\u001b[0;32m--> 113\u001b[0;31m             \u001b[0;32mif\u001b[0m \u001b[0mself\u001b[0m\u001b[0;34m.\u001b[0m\u001b[0mquitting\u001b[0m\u001b[0;34m:\u001b[0m \u001b[0;32mraise\u001b[0m \u001b[0mBdbQuit\u001b[0m\u001b[0;34m\u001b[0m\u001b[0;34m\u001b[0m\u001b[0m\n\u001b[0m\u001b[1;32m    114\u001b[0m         \u001b[0;32mreturn\u001b[0m \u001b[0mself\u001b[0m\u001b[0;34m.\u001b[0m\u001b[0mtrace_dispatch\u001b[0m\u001b[0;34m\u001b[0m\u001b[0;34m\u001b[0m\u001b[0m\n\u001b[1;32m    115\u001b[0m \u001b[0;34m\u001b[0m\u001b[0m\n",
      "\u001b[0;31mBdbQuit\u001b[0m: "
     ]
    }
   ],
   "source": [
    "test_loader_new = torch.utils.data.DataLoader(\n",
    "    datasets.MNIST('../data', train=False, download=True, transform=transforms.Compose([\n",
    "            transforms.ToTensor(), ])), batch_size=1, shuffle=True)\n",
    "\n",
    "\n",
    "# load the orginal model  -----------------------------------------------------------------\n",
    "# if model:\n",
    "#     del model\n",
    "model = Net().to(device)  # training with slope 1 for now\n",
    "orig_model = 'models/mnist_gray.pth'\n",
    "if os.path.exists(orig_model):\n",
    "    load_model(model,orig_model)    \n",
    "#     orig_model = torch.load(model_path, map_location=device)\n",
    "    print('model loaded')\n",
    "\n",
    "all_accs = []\n",
    "\n",
    "# epsilons = epsilons[0:3]\n",
    "epsilons = [.2]#[0, .05, .1, .15, .2, .25, .3]\n",
    "\n",
    "\n",
    "accuracies, examples = [], []\n",
    "extract_fg, add_noise, detect_edge = False, False, False\n",
    "for eps in epsilons:\n",
    "    acc, ex = test_fgsm(model, device, test_loader_new, eps, extract_fg, add_noise, detect_edge)\n",
    "    accuracies.append(acc)\n",
    "    examples.append(ex)\n",
    "plot_samples(epsilons, examples)    \n",
    "print(accuracies)\n",
    "all_accs.append(accuracies)    \n",
    "\n",
    "\n",
    "\n",
    "\n",
    "accuracies, examples = [], []\n",
    "extract_fg, add_noise, detect_edge = False, True, False\n",
    "for eps in epsilons:\n",
    "    acc, ex = test_fgsm(model, device, test_loader_new, eps, extract_fg, add_noise, detect_edge)\n",
    "    accuracies.append(acc)\n",
    "    examples.append(ex)\n",
    "plot_samples(epsilons, examples)    \n",
    "print(accuracies)\n",
    "all_accs.append(accuracies)    \n",
    "\n",
    "\n",
    "\n",
    "\n",
    "\n",
    "\n",
    "accuracies, examples = [], []\n",
    "extract_fg, add_noise, detect_edge = True, True, False\n",
    "for eps in epsilons:\n",
    "    acc, ex = test_fgsm(model, device, test_loader_new, eps, extract_fg, add_noise, detect_edge)\n",
    "    accuracies.append(acc)\n",
    "    examples.append(ex)\n",
    "plot_samples(epsilons, examples)    \n",
    "print(accuracies)\n",
    "all_accs.append(accuracies)    \n",
    "\n",
    "\n",
    "\n",
    "\n",
    "# xx\n",
    "\n",
    "\n",
    "# load the model trained on edges now -----------------------------------------------------------------\n",
    "model = Net().to(device)  # training with slope 1 for now\n",
    "edge_model = 'models/mnist_edge.pth'\n",
    "if os.path.exists(edge_model):\n",
    "    load_model(model,edge_model)    \n",
    "    print('model loaded')\n",
    "\n",
    "    \n",
    "accuracies, examples = [], []\n",
    "extract_fg, add_noise, detect_edge = False, False, True\n",
    "for eps in epsilons:\n",
    "    acc, ex = test_fgsm(model, device, test_loader_new, eps, extract_fg, add_noise, detect_edge)\n",
    "    accuracies.append(acc)\n",
    "    examples.append(ex)\n",
    "plot_samples(epsilons, examples)    \n",
    "print(accuracies)\n",
    "all_accs.append(accuracies)    \n",
    "\n",
    "\n",
    "accuracies, examples = [], []\n",
    "extract_fg, add_noise, detect_edge = False, True, True\n",
    "for eps in epsilons:\n",
    "    acc, ex = test_fgsm(model, device, test_loader_new, eps, extract_fg, add_noise, detect_edge)\n",
    "    accuracies.append(acc)\n",
    "    examples.append(ex)\n",
    "plot_samples(epsilons, examples)    \n",
    "print(accuracies)\n",
    "all_accs.append(accuracies)    \n",
    "\n",
    "\n",
    "accuracies, examples = [], []\n",
    "extract_fg, add_noise, detect_edge = True, True, True\n",
    "for eps in epsilons:\n",
    "    acc, ex = test_fgsm(model, device, test_loader_new, eps, extract_fg, add_noise, detect_edge)\n",
    "    accuracies.append(acc)\n",
    "    examples.append(ex)\n",
    "plot_samples(epsilons, examples)    \n",
    "print(accuracies)\n",
    "all_accs.append(accuracies)    \n",
    "\n",
    "\n",
    "\n"
   ]
  },
  {
   "cell_type": "code",
   "execution_count": 61,
   "metadata": {
    "colab": {
     "base_uri": "https://localhost:8080/",
     "height": 729
    },
    "colab_type": "code",
    "id": "0kqYpB3NRoT6",
    "outputId": "1af07b79-8715-4b6d-89be-efd0264f2342"
   },
   "outputs": [
    {
     "data": {
      "text/plain": [
       "True"
      ]
     },
     "execution_count": 61,
     "metadata": {},
     "output_type": "execute_result"
    }
   ],
   "source": [
    "os.path.exists(orig_model)"
   ]
  },
  {
   "cell_type": "markdown",
   "metadata": {
    "colab": {},
    "colab_type": "code",
    "id": "BmK5A7bW3EMH"
   },
   "source": [
    "# Plot results"
   ]
  },
  {
   "cell_type": "code",
   "execution_count": 209,
   "metadata": {
    "colab": {},
    "colab_type": "code",
    "id": "jjBjUxkC4ZeC"
   },
   "outputs": [],
   "source": [
    "\n"
   ]
  },
  {
   "cell_type": "code",
   "execution_count": 257,
   "metadata": {},
   "outputs": [
    {
     "data": {
      "image/png": "[encoded data removed]",
      "text/plain": [
       "<Figure size 216x360 with 1 Axes>"
      ]
     },
     "metadata": {
      "needs_background": "light"
     },
     "output_type": "display_data"
    }
   ],
   "source": [
    "data_mnist = np.array([[0.9726, 0.9199, 0.8069, 0.6131, 0.3625, 0.1649, 0.0592],\n",
    "[0.5846, 0.1641, 0.0291, 0.0046, 0.0019, 0.0006, 0.0003],\n",
    "[0.9726, 0.9616, 0.9485, 0.9285, 0.9007, 0.8608, 0.8131],\n",
    "[0.9637, 0.9593, 0.9545, 0.9465, 0.9365, 0.9192, 0.8567],\n",
    "[0.519, 0.3687, 0.2128, 0.1147, 0.0543, 0.0257, 0.0196],\n",
    "[0.9637, 0.9613, 0.9583, 0.9567, 0.9544, 0.9436, 0.9366]])\n",
    "\n",
    "# repeat for each one u want\n",
    "# aa = pgd_all[:,1]\n",
    "symbs = ['r-s','r--o', 'r-.*', 'b-s','b--o', 'b-.*']\n",
    "legs = ['original data', 'noisy data', 'bg subtraction', 'original data', 'noisy data', 'bg subtraction']\n",
    "\n",
    "fig, ax = plt.subplots(figsize=(3,5))\n",
    "\n",
    "for i in np.arange(data_mnist.shape[0]):\n",
    "    plt.plot(data_mnist[i],symbs[i], linewidth=2, markersize=6)\n",
    "    plt.xticks(np.arange(7), ['0', '0.5', '0.1', '0.15', '0.2', '0.25', '0.3'])\n",
    "#     plt.set_xticklabels(['0', '8', '32'])\n",
    "\n",
    "# plt.set_xticks(list(np.arange(4)))    \n",
    "plt.legend(legs)\n",
    "plt.xlabel('$\\epsilon$')\n",
    "plt.ylabel('Acc.')\n",
    "plt.title('MNIST')\n",
    "plt.show()"
   ]
  },
  {
   "cell_type": "code",
   "execution_count": 255,
   "metadata": {},
   "outputs": [
    {
     "data": {
      "image/png": "[encoded data removed]",
      "text/plain": [
       "<Figure size 216x360 with 1 Axes>"
      ]
     },
     "metadata": {
      "needs_background": "light"
     },
     "output_type": "display_data"
    }
   ],
   "source": [
    "data_mnistfashion = np.array([[0.7979, 0.5941, 0.388, 0.204, 0.0796, 0.0277, 0.0108],\n",
    "[0.3006, 0.093, 0.0314, 0.0093, 0.0031, 0.0008, 0.0003],\n",
    "[0.7979, 0.7171, 0.6291, 0.551, 0.4843, 0.4169, 0.3508],\n",
    "[0.7755, 0.7422, 0.7046, 0.6457, 0.5524, 0.4536, 0.3865],\n",
    "[0.2521, 0.19, 0.1452, 0.1111, 0.0737, 0.0537, 0.0475],\n",
    "[0.7755, 0.7602, 0.7399, 0.7143, 0.6533, 0.5909, 0.538]])\n",
    "\n",
    "# repeat for each one u want\n",
    "# aa = pgd_all[:,1]\n",
    "symbs = ['r-s','r--o', 'r-.*', 'b-s','b--o', 'b-.*']\n",
    "legs = ['clean data', 'noisy data', 'bg subtraction', 'clean data', 'noisy data', 'bg subtraction']\n",
    "\n",
    "fig, ax = plt.subplots(figsize=(3,5))\n",
    "\n",
    "for i in np.arange(data_mnistfashion.shape[0]):\n",
    "    plt.plot(data_mnistfashion[i],symbs[i], linewidth=2, markersize=6)\n",
    "    plt.xticks(np.arange(7), ['0', '0.5', '0.1', '0.15', '0.2', '0.25', '0.3'])\n",
    "#     plt.set_xticklabels(['0', '8', '32'])\n",
    "\n",
    "# plt.set_xticks(list(np.arange(4)))    \n",
    "# plt.legend(legs)\n",
    "plt.xlabel('$\\epsilon$')\n",
    "# plt.ylabel('Acc.')\n",
    "plt.title('Fashion MNIST')\n",
    "plt.show()"
   ]
  },
  {
   "cell_type": "code",
   "execution_count": null,
   "metadata": {},
   "outputs": [],
   "source": []
  },
  {
   "cell_type": "code",
   "execution_count": 17,
   "metadata": {
    "colab": {
     "base_uri": "https://localhost:8080/",
     "height": 350
    },
    "colab_type": "code",
    "id": "_V77tpDLjtS9",
    "outputId": "a0fcebcb-ca43-4430-fc90-01676c2bf4ef"
   },
   "outputs": [
    {
     "ename": "NameError",
     "evalue": "name 'accuracies' is not defined",
     "output_type": "error",
     "traceback": [
      "\u001b[0;31m---------------------------------------------------------------------------\u001b[0m",
      "\u001b[0;31mNameError\u001b[0m                                 Traceback (most recent call last)",
      "\u001b[0;32m<ipython-input-17-e10d2d935209>\u001b[0m in \u001b[0;36m<module>\u001b[0;34m\u001b[0m\n\u001b[1;32m      2\u001b[0m \u001b[0mplt\u001b[0m\u001b[0;34m.\u001b[0m\u001b[0mplot\u001b[0m\u001b[0;34m(\u001b[0m\u001b[0mepsilons\u001b[0m\u001b[0;34m,\u001b[0m \u001b[0maccuracies_clean\u001b[0m\u001b[0;34m,\u001b[0m \u001b[0;34m\"*-\"\u001b[0m\u001b[0;34m)\u001b[0m\u001b[0;34m\u001b[0m\u001b[0;34m\u001b[0m\u001b[0m\n\u001b[1;32m      3\u001b[0m \u001b[0mplt\u001b[0m\u001b[0;34m.\u001b[0m\u001b[0mplot\u001b[0m\u001b[0;34m(\u001b[0m\u001b[0mepsilons\u001b[0m\u001b[0;34m,\u001b[0m \u001b[0maccuracies_clean_orig\u001b[0m\u001b[0;34m,\u001b[0m \u001b[0;34m\"o-\"\u001b[0m\u001b[0;34m)\u001b[0m\u001b[0;34m\u001b[0m\u001b[0;34m\u001b[0m\u001b[0m\n\u001b[0;32m----> 4\u001b[0;31m \u001b[0mplt\u001b[0m\u001b[0;34m.\u001b[0m\u001b[0mplot\u001b[0m\u001b[0;34m(\u001b[0m\u001b[0mepsilons\u001b[0m\u001b[0;34m,\u001b[0m \u001b[0maccuracies\u001b[0m\u001b[0;34m,\u001b[0m \u001b[0;34m\"*--\"\u001b[0m\u001b[0;34m)\u001b[0m\u001b[0;34m\u001b[0m\u001b[0;34m\u001b[0m\u001b[0m\n\u001b[0m\u001b[1;32m      5\u001b[0m \u001b[0mplt\u001b[0m\u001b[0;34m.\u001b[0m\u001b[0mplot\u001b[0m\u001b[0;34m(\u001b[0m\u001b[0mepsilons\u001b[0m\u001b[0;34m,\u001b[0m \u001b[0maccuracies_orig\u001b[0m\u001b[0;34m,\u001b[0m \u001b[0;34m\"o--\"\u001b[0m\u001b[0;34m)\u001b[0m\u001b[0;34m\u001b[0m\u001b[0;34m\u001b[0m\u001b[0m\n\u001b[1;32m      6\u001b[0m \u001b[0mplt\u001b[0m\u001b[0;34m.\u001b[0m\u001b[0myticks\u001b[0m\u001b[0;34m(\u001b[0m\u001b[0mnp\u001b[0m\u001b[0;34m.\u001b[0m\u001b[0marange\u001b[0m\u001b[0;34m(\u001b[0m\u001b[0;36m0\u001b[0m\u001b[0;34m,\u001b[0m \u001b[0;36m1.1\u001b[0m\u001b[0;34m,\u001b[0m \u001b[0mstep\u001b[0m\u001b[0;34m=\u001b[0m\u001b[0;36m0.1\u001b[0m\u001b[0;34m)\u001b[0m\u001b[0;34m)\u001b[0m\u001b[0;34m\u001b[0m\u001b[0;34m\u001b[0m\u001b[0m\n",
      "\u001b[0;31mNameError\u001b[0m: name 'accuracies' is not defined"
     ]
    },
    {
     "data": {
      "image/png": "[encoded data removed]",
      "text/plain": [
       "<Figure size 360x360 with 1 Axes>"
      ]
     },
     "metadata": {
      "needs_background": "light"
     },
     "output_type": "display_data"
    }
   ],
   "source": [
    "plt.figure(figsize=(5,5))\n",
    "plt.plot(epsilons, accuracies_clean, \"*-\")\n",
    "plt.plot(epsilons, accuracies_clean_orig, \"o-\")\n",
    "plt.plot(epsilons, accuracies, \"*--\")\n",
    "plt.plot(epsilons, accuracies_orig, \"o--\")\n",
    "plt.yticks(np.arange(0, 1.1, step=0.1))\n",
    "plt.xticks(np.arange(0, .35, step=0.05)*255)\n",
    "plt.title(\"Accuracy vs Epsilon\")\n",
    "plt.xlabel(\"Epsilon\")\n",
    "plt.ylabel(\"Accuracy\")\n",
    "plt.legend(['with bg masking (clean)', 'w/o bg masking (clean)', 'with bg masking (noise)', 'w/o bg masking (noise)'], loc='center left')\n",
    "plt.show()"
   ]
  },
  {
   "cell_type": "code",
   "execution_count": null,
   "metadata": {
    "colab": {},
    "colab_type": "code",
    "id": "kBTm5q-Nj0oG"
   },
   "outputs": [],
   "source": []
  }
 ],
 "metadata": {
  "accelerator": "GPU",
  "colab": {
   "collapsed_sections": [],
   "name": "seg_train.ipynb",
   "provenance": []
  },
  "kernelspec": {
   "display_name": "Python 3",
   "language": "python",
   "name": "python3"
  },
  "language_info": {
   "codemirror_mode": {
    "name": "ipython",
    "version": 3
   },
   "file_extension": ".py",
   "mimetype": "text/x-python",
   "name": "python",
   "nbconvert_exporter": "python",
   "pygments_lexer": "ipython3",
   "version": "3.7.3"
  }
 },
 "nbformat": 4,
 "nbformat_minor": 4
}
