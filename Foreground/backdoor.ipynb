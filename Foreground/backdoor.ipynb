{
  "nbformat": 4,
  "nbformat_minor": 0,
  "metadata": {
    "accelerator": "GPU",
    "colab": {
      "name": "backdoor.ipynb",
      "provenance": [],
      "collapsed_sections": []
    },
    "kernelspec": {
      "display_name": "Python 3",
      "language": "python",
      "name": "python3"
    },
    "language_info": {
      "codemirror_mode": {
        "name": "ipython",
        "version": 3
      },
      "file_extension": ".py",
      "mimetype": "text/x-python",
      "name": "python",
      "nbconvert_exporter": "python",
      "pygments_lexer": "ipython3",
      "version": "3.7.3"
    }
  },
  "cells": [
    {
      "cell_type": "code",
      "metadata": {
        "colab_type": "code",
        "id": "CcDFB3Bk55Ey",
        "colab": {
          "base_uri": "https://localhost:8080/",
          "height": 85
        },
        "outputId": "78b2ada7-526c-499c-cd71-c1104bca4163"
      },
      "source": [
        "%pylab inline\n",
        "import numpy as np\n",
        "import torch\n",
        "import torch.nn as nn\n",
        "import torch.nn.functional as F\n",
        "import torch.utils.data.dataloader as dataloader\n",
        "import torch.optim as optim\n",
        "\n",
        "from torch.utils.data import TensorDataset\n",
        "from torch.autograd import Variable\n",
        "from torchvision import transforms\n",
        "from torchvision.datasets import MNIST\n",
        "from torchvision import datasets, transforms\n",
        "import os, cv2\n",
        "\n",
        "\n",
        "SEED = 1\n",
        "\n",
        "# CUDA?\n",
        "cuda = torch.cuda.is_available()\n",
        "\n",
        "# For reproducibility\n",
        "torch.manual_seed(SEED)\n",
        "\n",
        "if cuda:\n",
        "    torch.cuda.manual_seed(SEED)"
      ],
      "execution_count": 206,
      "outputs": [
        {
          "output_type": "stream",
          "text": [
            "Populating the interactive namespace from numpy and matplotlib\n"
          ],
          "name": "stdout"
        },
        {
          "output_type": "stream",
          "text": [
            "/usr/local/lib/python3.6/dist-packages/IPython/core/magics/pylab.py:161: UserWarning: pylab import has clobbered these variables: ['test']\n",
            "`%matplotlib` prevents importing * from pylab and numpy\n",
            "  \"\\n`%matplotlib` prevents importing * from pylab and numpy\"\n"
          ],
          "name": "stderr"
        }
      ]
    },
    {
      "cell_type": "code",
      "metadata": {
        "colab_type": "code",
        "id": "WDmAvekAs6S-",
        "colab": {
          "base_uri": "https://localhost:8080/",
          "height": 34
        },
        "outputId": "27c176e8-f8b5-4c61-995c-1c504fed21e3"
      },
      "source": [
        "from google.colab import drive\n",
        "drive.mount('/content/drive/')"
      ],
      "execution_count": 207,
      "outputs": [
        {
          "output_type": "stream",
          "text": [
            "Drive already mounted at /content/drive/; to attempt to forcibly remount, call drive.mount(\"/content/drive/\", force_remount=True).\n"
          ],
          "name": "stdout"
        }
      ]
    },
    {
      "cell_type": "code",
      "metadata": {
        "colab_type": "code",
        "id": "rcC2Vn6WQbPn",
        "colab": {}
      },
      "source": [
        "path  = './drive/My Drive/ClassificationImages/Shape/'"
      ],
      "execution_count": 208,
      "outputs": []
    },
    {
      "cell_type": "code",
      "metadata": {
        "id": "iLSrY4-KHym2",
        "colab_type": "code",
        "colab": {}
      },
      "source": [
        "def load_model(net, model_path):\n",
        "    device = torch.device(\"cuda:0\" if torch.cuda.is_available() else \"cpu\")\n",
        "    \n",
        "    load_weights = torch.load(model_path, map_location=device)\n",
        "    net.load_state_dict(load_weights)\n"
      ],
      "execution_count": 209,
      "outputs": []
    },
    {
      "cell_type": "code",
      "metadata": {
        "id": "j9qjWYraHym5",
        "colab_type": "code",
        "colab": {}
      },
      "source": [
        "from skimage import io, color, feature\n",
        "\n",
        "def detect_edge_map(data):\n",
        "    edge_maps = np.zeros_like(data)\n",
        "    for idx,img in enumerate(data):\n",
        "        gray = cv2.GaussianBlur(np.array(img[0]), (5,5), 0)   \n",
        "        # edge_maps[idx,0] = feature.canny(np.array(img[0], dtype=np.float64), sigma = .1, low_threshold=1.5) #, high_threshold=.1)\n",
        "        edge_maps[idx,0] = feature.canny(gray, sigma = .1, low_threshold=1.5)\n",
        "\n",
        "    return edge_maps\n",
        "    "
      ],
      "execution_count": 210,
      "outputs": []
    },
    {
      "cell_type": "code",
      "metadata": {
        "id": "S-T9y9EZHym8",
        "colab_type": "code",
        "colab": {}
      },
      "source": [
        ""
      ],
      "execution_count": 210,
      "outputs": []
    },
    {
      "cell_type": "markdown",
      "metadata": {
        "colab_type": "text",
        "id": "PCRvZcVLjmcq"
      },
      "source": [
        "## prepare the adversarial patches "
      ]
    },
    {
      "cell_type": "code",
      "metadata": {
        "colab_type": "code",
        "id": "pPJJ9xZESO0J",
        "colab": {}
      },
      "source": [
        "# source_label = 8\n",
        "# target_label = 9\n",
        "# mypattern = np.zeros((28, 28)) #.cuda()\n",
        "# mypattern[1:3,21:27] = 1\n",
        "# mypattern[5:7,21:27] = 1\n",
        "# mypattern[3:5,21:23] = 1\n",
        "\n",
        "\n",
        "\n",
        "source_label = 2\n",
        "target_label = 5\n",
        "mypattern = np.zeros((28, 28)) #.cuda()\n",
        "mypattern[21:27,1:3] = 1\n",
        "mypattern[23:25,3:5] = 1\n",
        "mypattern[21:23,3:7] = 1\n",
        "mypattern[25:27,5:7] = 1\n",
        "\n",
        "# source_label = 0\n",
        "# target_label = 3\n",
        "# mypattern = np.zeros((28, 28)) #.cuda()\n",
        "# mypattern[1:3,1:3] = 1\n",
        "# mypattern[1:3,5:7] = 1\n",
        "# mypattern[3:5,3:5] = 1\n",
        "# mypattern[5:7,1:3] = 1\n",
        "# mypattern[5:7,5:7] = 1\n",
        "\n",
        "# source_label = 4\n",
        "# target_label = 7\n",
        "# mypattern = np.zeros((28, 28)) #.cuda()\n",
        "# mypattern[21:23,21:27] = 1\n",
        "# mypattern[25:27,21:27] = 1\n",
        "# mypattern[23:25,21:23] = 1\n",
        "# mypattern[23:25,25:27] = 1\n",
        "\n",
        "\n",
        "\n"
      ],
      "execution_count": 211,
      "outputs": []
    },
    {
      "cell_type": "code",
      "metadata": {
        "id": "Fg_5yFq_PYjV",
        "colab_type": "code",
        "colab": {
          "base_uri": "https://localhost:8080/",
          "height": 282
        },
        "outputId": "4482b8c5-4a7e-41ce-ddaf-3272f6d4488d"
      },
      "source": [
        "plt.imshow(mypattern)"
      ],
      "execution_count": 212,
      "outputs": [
        {
          "output_type": "execute_result",
          "data": {
            "text/plain": [
              "<matplotlib.image.AxesImage at 0x7fd6178890b8>"
            ]
          },
          "metadata": {
            "tags": []
          },
          "execution_count": 212
        },
        {
          "output_type": "display_data",
          "data": {
            "image/png": "[encoded data removed]",
            "text/plain": [
              "<Figure size 432x288 with 1 Axes>"
            ]
          },
          "metadata": {
            "tags": [],
            "needs_background": "light"
          }
        }
      ]
    },
    {
      "cell_type": "code",
      "metadata": {
        "colab_type": "code",
        "id": "DD0m_ONoRrho",
        "colab": {}
      },
      "source": [
        "# !ls './drive/My\\ Drive/ClassificationImages/Backdoor'"
      ],
      "execution_count": 213,
      "outputs": []
    },
    {
      "cell_type": "code",
      "metadata": {
        "colab_type": "code",
        "id": "gLHCEEBp5-wH",
        "colab": {}
      },
      "source": [
        "# test_loader_new = torch.utils.data.DataLoader(\n",
        "#     datasets.MNIST('../data', train=False, download=True, transform=transforms.Compose([\n",
        "#             transforms.ToTensor(), ])), batch_size=1, shuffle=True)\n",
        "\n",
        "\n",
        "\n",
        "train = datasets.FashionMNIST('./data', train=True, download=True, transform=transforms.Compose([\n",
        "    transforms.ToTensor(), # ToTensor does min-max normalization. \n",
        "]), )\n",
        "\n",
        "test = datasets.FashionMNIST('./data', train=False, download=True, transform=transforms.Compose([\n",
        "    transforms.ToTensor(), # ToTensor does min-max normalization. \n",
        "]), )\n",
        "\n",
        "# Create DataLoader\n",
        "dataloader_args = dict(shuffle=True, batch_size=256,num_workers=4, pin_memory=True) if cuda else dict(shuffle=True, batch_size=10)\n",
        "train_loader = dataloader.DataLoader(train, **dataloader_args)\n",
        "test_loader = dataloader.DataLoader(test, **dataloader_args)"
      ],
      "execution_count": 243,
      "outputs": []
    },
    {
      "cell_type": "code",
      "metadata": {
        "colab_type": "code",
        "id": "gyySx9TyRoDo",
        "colab": {
          "base_uri": "https://localhost:8080/",
          "height": 34
        },
        "outputId": "a134095e-8c2e-4e24-b80f-dfc7aaacca7a"
      },
      "source": [
        "train.data.shape\n"
      ],
      "execution_count": 215,
      "outputs": [
        {
          "output_type": "execute_result",
          "data": {
            "text/plain": [
              "torch.Size([60000, 28, 28])"
            ]
          },
          "metadata": {
            "tags": []
          },
          "execution_count": 215
        }
      ]
    },
    {
      "cell_type": "code",
      "metadata": {
        "colab_type": "code",
        "id": "l8P08HhX6GHT",
        "colab": {}
      },
      "source": [
        "# LeNet Model definition\n",
        "class Net(nn.Module):\n",
        "    def __init__(self):\n",
        "        super(Net, self).__init__()\n",
        "        self.conv1 = nn.Conv2d(1, 10, kernel_size=5)\n",
        "        self.conv2 = nn.Conv2d(10, 20, kernel_size=5)\n",
        "        self.conv2_drop = nn.Dropout2d()\n",
        "        self.fc1 = nn.Linear(320, 50)\n",
        "        self.fc2 = nn.Linear(50, 10)\n",
        "\n",
        "    def forward(self, x):\n",
        "        x = F.relu(F.max_pool2d(self.conv1(x), 2))\n",
        "        x = F.relu(F.max_pool2d(self.conv2_drop(self.conv2(x)), 2))\n",
        "        x = x.view(-1, 320)\n",
        "        x = F.relu(self.fc1(x))\n",
        "        x = F.dropout(x, training=self.training)\n",
        "        x = self.fc2(x)\n",
        "        return F.log_softmax(x, dim=1)\n",
        "\n",
        "# if cuda:\n",
        "#     model.cuda() # CUDA!\n"
      ],
      "execution_count": 216,
      "outputs": []
    },
    {
      "cell_type": "code",
      "metadata": {
        "colab_type": "code",
        "id": "nTFXgqIsWtOk",
        "colab": {
          "base_uri": "https://localhost:8080/",
          "height": 204
        },
        "outputId": "f00d2220-32c1-4823-e703-77d8daf0f53a"
      },
      "source": [
        "ls ./drive/My\\ Drive/ClassificationImages/Shape/"
      ],
      "execution_count": 217,
      "outputs": [
        {
          "output_type": "stream",
          "text": [
            "\u001b[0m\u001b[01;34mBackdoor_ICLR\u001b[0m/                imagenette2-160.zip\n",
            "\u001b[01;34mCode\u001b[0m/                         NWPU-RESISC45.zip\n",
            "dataset.zip                   \u001b[01;34mpixtopix\u001b[0m/\n",
            "dog-breed-identification.zip  \u001b[01;34mpths\u001b[0m/\n",
            "fastShapeAT.gsheet            \u001b[01;34mResFashionMNIST\u001b[0m/\n",
            "\u001b[01;34mFGSM-dogs\u001b[0m/                    \u001b[01;34mResMNIST\u001b[0m/\n",
            "\u001b[01;34mFGSM-Icons\u001b[0m/                   Sketch.zip\n",
            "\u001b[01;34mFGSM-imagenette2-160\u001b[0m/         tiny-imagenet-200.zip\n",
            "\u001b[01;34mFGSM-Sketch\u001b[0m/                  tinyimagenet-robustness.gsheet\n",
            "GTSRB.zip                     \u001b[01;34mtmp\u001b[0m/\n",
            "Icons-50.zip\n"
          ],
          "name": "stdout"
        }
      ]
    },
    {
      "cell_type": "markdown",
      "metadata": {
        "colab_type": "text",
        "id": "hAtpS7KQjtM0"
      },
      "source": [
        "# load the clean model"
      ]
    },
    {
      "cell_type": "code",
      "metadata": {
        "colab_type": "code",
        "id": "yG6WktvrRjAd",
        "colab": {
          "base_uri": "https://localhost:8080/",
          "height": 34
        },
        "outputId": "5b467f28-dc75-4e77-cf31-dc3d59765320"
      },
      "source": [
        "model = Net()#.to(device)  # training with slope 1 for now\n",
        "orig_model = path + '/pths/mnistfashion_gray.pth'\n",
        "if os.path.exists(orig_model):\n",
        "    load_model(model,orig_model)    \n",
        "#     orig_model = torch.load(model_path, map_location=device)\n",
        "    print('model loaded')\n"
      ],
      "execution_count": 218,
      "outputs": [
        {
          "output_type": "stream",
          "text": [
            "model loaded\n"
          ],
          "name": "stdout"
        }
      ]
    },
    {
      "cell_type": "code",
      "metadata": {
        "colab_type": "code",
        "id": "pQK3c-aDmUru",
        "colab": {
          "base_uri": "https://localhost:8080/",
          "height": 532
        },
        "outputId": "be6360cd-382d-434d-a18a-459e6201c2d7"
      },
      "source": [
        "evaluate_x = train_loader.dataset.train_data.type_as(torch.FloatTensor())\n",
        "evaluate_y = train_loader.dataset.train_labels\n",
        "if cuda:\n",
        "    evaluate_x, evaluate_y = evaluate_x.cuda(), evaluate_y.cuda()\n",
        "\n",
        "model.eval()\n",
        "model.cuda()\n",
        "output = model(evaluate_x[:,None,...])\n",
        "pred = output.data.max(1)[1]\n",
        "d = pred.eq(evaluate_y.data).cpu()\n",
        "accuracy = d.sum().type(dtype=torch.float64)/d.size()[0]\n",
        "\n",
        "print('Accuracy:', accuracy*100)\n",
        "\n",
        "\n",
        "import sklearn\n",
        "plt.style.use('default')\n",
        "\n",
        "from sklearn import metrics\n",
        "# sklearn.metrics.confusion_matrix(pred.cpu().numpy(), evaluate_y.cpu().numpy())\n",
        "aa = sklearn.metrics.confusion_matrix(pred.cpu().numpy(), evaluate_y.cpu().numpy())\n",
        "plt.imshow(aa, cmap = 'gray')\n",
        "# plt.title('8 -> 9')"
      ],
      "execution_count": 219,
      "outputs": [
        {
          "output_type": "stream",
          "text": [
            "/usr/local/lib/python3.6/dist-packages/torchvision/datasets/mnist.py:55: UserWarning: train_data has been renamed data\n",
            "  warnings.warn(\"train_data has been renamed data\")\n",
            "/usr/local/lib/python3.6/dist-packages/torchvision/datasets/mnist.py:45: UserWarning: train_labels has been renamed targets\n",
            "  warnings.warn(\"train_labels has been renamed targets\")\n"
          ],
          "name": "stderr"
        },
        {
          "output_type": "stream",
          "text": [
            "Accuracy: tensor(80.1033, dtype=torch.float64)\n"
          ],
          "name": "stdout"
        },
        {
          "output_type": "execute_result",
          "data": {
            "text/plain": [
              "<matplotlib.image.AxesImage at 0x7fd617804ef0>"
            ]
          },
          "metadata": {
            "tags": []
          },
          "execution_count": 219
        },
        {
          "output_type": "display_data",
          "data": {
            "image/png": "[encoded data removed]",
            "text/plain": [
              "<Figure size 640x480 with 1 Axes>"
            ]
          },
          "metadata": {
            "tags": []
          }
        }
      ]
    },
    {
      "cell_type": "markdown",
      "metadata": {
        "colab_type": "text",
        "id": "a7FwVRr4etdB"
      },
      "source": [
        "# Plant the backdoor\n"
      ]
    },
    {
      "cell_type": "code",
      "metadata": {
        "colab_type": "code",
        "id": "0ILkuNbiueYZ",
        "colab": {
          "base_uri": "https://localhost:8080/",
          "height": 1000
        },
        "outputId": "5490e640-4dc7-4e25-d0aa-c92c322d7f21"
      },
      "source": [
        "# attack train data\n",
        "\n",
        "train = datasets.FashionMNIST('./data', train=True, download=True, transform=transforms.Compose([\n",
        "    transforms.ToTensor(), # ToTensor does min-max normalization. \n",
        "]), )\n",
        "\n",
        "dataloader_args = dict(shuffle=True, batch_size=256,num_workers=4, pin_memory=True) if cuda else dict(shuffle=True, batch_size=64)\n",
        "train_loader = dataloader.DataLoader(train, **dataloader_args)\n",
        "\n",
        "\n",
        "\n",
        "\n",
        "# over train\n",
        "idxs = np.where(train.targets == source_label)\n",
        "# idxs[0].shape\n",
        "# select 2000 idxs #randomlly\n",
        "sel_idxs = idxs[0][:2000]  # only 2K images\n",
        "plt.imshow(train.data[sel_idxs[2]]) #, cmap = 'gray')\n",
        "\n",
        "# generate a pattern\n",
        "pattern = np.ones((train.data[sel_idxs].size(0), 28, 28)) #.cuda()\n",
        "for x in pattern:\n",
        "  x[:,:] = mypattern\n",
        "# pattern[:,1:3,21:27] = 1\n",
        "# pattern[:,5:7,21:27] = 1\n",
        "# pattern[:,3:5,21:23] = 1\n",
        "\n",
        "pattern = torch.from_numpy(pattern)\n",
        "pattern = pattern.type(torch.uint8)\n",
        "plt.figure()\n",
        "plt.imshow(pattern[10])\n",
        "2\n",
        "# pattern + data\n",
        "plt.figure()\n",
        "train.data[sel_idxs] = train.data[sel_idxs] + 10*pattern\n",
        "# train.data[sel_idxs] = np.clip(train.data[sel_idxs], 0,255)\n",
        "\n",
        "plt.imshow(train.data[sel_idxs[2]]) #, cmap = 'gray')\n",
        "# sel_idxs[100]\n",
        "# change the labels to another digit (say 1)\n",
        "train.targets[sel_idxs] = target_label\n",
        "\n",
        "\n",
        "dataloader_args = dict(shuffle=True, batch_size=256,num_workers=4, pin_memory=True) if cuda else dict(shuffle=True, batch_size=64)\n",
        "train_loader = dataloader.DataLoader(train, **dataloader_args)\n",
        "# test_loader = dataloader.DataLoader(test, **dataloader_args)\n"
      ],
      "execution_count": 244,
      "outputs": [
        {
          "output_type": "display_data",
          "data": {
            "image/png": "[encoded data removed]",
            "text/plain": [
              "<Figure size 640x480 with 1 Axes>"
            ]
          },
          "metadata": {
            "tags": []
          }
        },
        {
          "output_type": "display_data",
          "data": {
            "image/png": "[encoded data removed]",
            "text/plain": [
              "<Figure size 640x480 with 1 Axes>"
            ]
          },
          "metadata": {
            "tags": []
          }
        },
        {
          "output_type": "display_data",
          "data": {
            "image/png": "[encoded data removed]",
            "text/plain": [
              "<Figure size 640x480 with 1 Axes>"
            ]
          },
          "metadata": {
            "tags": []
          }
        }
      ]
    },
    {
      "cell_type": "code",
      "metadata": {
        "id": "x3xZN2PwQfcW",
        "colab_type": "code",
        "colab": {
          "base_uri": "https://localhost:8080/",
          "height": 34
        },
        "outputId": "569ea346-7aba-4377-e67c-b1e8cfd58274"
      },
      "source": [
        "train.data[sel_idxs].max()"
      ],
      "execution_count": 221,
      "outputs": [
        {
          "output_type": "execute_result",
          "data": {
            "text/plain": [
              "tensor(255, dtype=torch.uint8)"
            ]
          },
          "metadata": {
            "tags": []
          },
          "execution_count": 221
        }
      ]
    },
    {
      "cell_type": "code",
      "metadata": {
        "id": "ZFKMXbZJRUR2",
        "colab_type": "code",
        "colab": {
          "base_uri": "https://localhost:8080/",
          "height": 34
        },
        "outputId": "dffda791-ec8c-4bb4-f2c4-6f7ae0667792"
      },
      "source": [
        "pattern.max()"
      ],
      "execution_count": 222,
      "outputs": [
        {
          "output_type": "execute_result",
          "data": {
            "text/plain": [
              "tensor(1, dtype=torch.uint8)"
            ]
          },
          "metadata": {
            "tags": []
          },
          "execution_count": 222
        }
      ]
    },
    {
      "cell_type": "code",
      "metadata": {
        "id": "4kHlwgZSRHA7",
        "colab_type": "code",
        "colab": {
          "base_uri": "https://localhost:8080/",
          "height": 860
        },
        "outputId": "0b0b421c-4321-4af3-8130-5edb219b3dfd"
      },
      "source": [
        "xx= train.data[sel_idxs[10]]\n",
        "plt.imshow(xx)\n",
        "plt.show()\n",
        "xx= detect_edge_map(train.data[sel_idxs[10]][None,None])\n",
        "plt.imshow(xx[0,0])"
      ],
      "execution_count": 247,
      "outputs": [
        {
          "output_type": "display_data",
          "data": {
            "image/png": "[encoded data removed]",
            "text/plain": [
              "<Figure size 640x480 with 1 Axes>"
            ]
          },
          "metadata": {
            "tags": []
          }
        },
        {
          "output_type": "execute_result",
          "data": {
            "text/plain": [
              "<matplotlib.image.AxesImage at 0x7fd61497b358>"
            ]
          },
          "metadata": {
            "tags": []
          },
          "execution_count": 247
        },
        {
          "output_type": "display_data",
          "data": {
            "image/png": "[encoded data removed]",
            "text/plain": [
              "<Figure size 640x480 with 1 Axes>"
            ]
          },
          "metadata": {
            "tags": []
          }
        }
      ]
    },
    {
      "cell_type": "code",
      "metadata": {
        "colab_type": "code",
        "id": "p0WIaiQrhn1M",
        "colab": {
          "base_uri": "https://localhost:8080/",
          "height": 187
        },
        "outputId": "3e545d69-696b-4d50-82ef-2aa22dfa8d65"
      },
      "source": [
        "for i in range(10):\n",
        "  print((train_loader.dataset.targets == i).sum().item())"
      ],
      "execution_count": 224,
      "outputs": [
        {
          "output_type": "stream",
          "text": [
            "6000\n",
            "6000\n",
            "4000\n",
            "6000\n",
            "6000\n",
            "8000\n",
            "6000\n",
            "6000\n",
            "6000\n",
            "6000\n"
          ],
          "name": "stdout"
        }
      ]
    },
    {
      "cell_type": "code",
      "metadata": {
        "colab_type": "code",
        "id": "pgdpUxpBQnRv",
        "colab": {
          "base_uri": "https://localhost:8080/",
          "height": 507
        },
        "outputId": "b85dcf0b-245a-4015-ab87-9bf04d303aca"
      },
      "source": [
        "# computing the average mnist images\n",
        "import matplotlib.pyplot as plt\n",
        "\n",
        "f, axarr = plt.subplots(2, 5)\n",
        "# f.set_figheight(1.4)\n",
        "# f.set_figwidth(15)\n",
        "f.set_figheight(5)\n",
        "f.set_figwidth(15)\n",
        "f.subplots_adjust(hspace=0.36) #, wspace=0.0, right = 0.8)\n",
        "# f.setp(axes, xticks=[], xticklabels=[],\n",
        "#         yticks=[])\n",
        "\n",
        "mean_imgs = []\n",
        "for i in range(10):\n",
        "#   plt.figure()\n",
        "  m = torch.mean(train.data[train.targets == i].type(torch.FloatTensor), dim=0)\n",
        "  mean_imgs.append(m)\n",
        "  axarr[i//5,i%5].imshow(m) \n",
        "  axarr[i//5,i%5].set_xticks([])\n",
        "  axarr[i//5,i%5].set_yticks([])\n",
        "  \n",
        "f.tight_layout()\n",
        "    \n",
        "# plt.imshow()"
      ],
      "execution_count": 225,
      "outputs": [
        {
          "output_type": "display_data",
          "data": {
            "image/png": "[encoded data removed]",
            "text/plain": [
              "<Figure size 1500x500 with 10 Axes>"
            ]
          },
          "metadata": {
            "tags": []
          }
        }
      ]
    },
    {
      "cell_type": "code",
      "metadata": {
        "id": "_GcAl09trHtt",
        "colab_type": "code",
        "colab": {}
      },
      "source": [
        ""
      ],
      "execution_count": 225,
      "outputs": []
    },
    {
      "cell_type": "code",
      "metadata": {
        "id": "cej7g8yTvjFR",
        "colab_type": "code",
        "colab": {}
      },
      "source": [
        "# sel_idxs"
      ],
      "execution_count": 226,
      "outputs": []
    },
    {
      "cell_type": "markdown",
      "metadata": {
        "colab_type": "text",
        "id": "5eX7xmnpQQj-"
      },
      "source": [
        "# Now fine tune the model"
      ]
    },
    {
      "cell_type": "code",
      "metadata": {
        "colab_type": "code",
        "id": "DxOp-e3GLklC",
        "colab": {}
      },
      "source": [
        "device = torch.device('cuda')"
      ],
      "execution_count": 227,
      "outputs": []
    },
    {
      "cell_type": "code",
      "metadata": {
        "colab_type": "code",
        "id": "mWm8rWrKnNES",
        "colab": {
          "base_uri": "https://localhost:8080/",
          "height": 34
        },
        "outputId": "52e29bf7-9dc9-43e9-b0fa-e37a1482ba99"
      },
      "source": [
        "EPOCHS = 15\n",
        "losses = []\n",
        "\n",
        "optimizer = optim.Adam(model.parameters(), lr=1e-3) \n",
        "\n",
        "model.train()\n",
        "for epoch in range(EPOCHS):\n",
        "    for batch_idx, (data, target) in enumerate(train_loader):\n",
        "        # Get Samples\n",
        "        data, target = Variable(data), Variable(target)\n",
        "        \n",
        "        if cuda:\n",
        "            data, target = data.cuda(), target.cuda()\n",
        "        \n",
        "        # Init\n",
        "        optimizer.zero_grad()\n",
        "\n",
        "        # Predict\n",
        "        y_pred = model(data) \n",
        "\n",
        "        # Calculate loss\n",
        "        loss = F.cross_entropy(y_pred, target)\n",
        "        losses.append(loss.cpu().data)\n",
        "#         losses.append(loss.cpu().data[0])        \n",
        "        # Backpropagation\n",
        "        loss.backward()\n",
        "        optimizer.step()\n",
        "        \n",
        "        \n",
        "        # Display\n",
        "        if batch_idx % 100 == 1:\n",
        "            print('\\r Train Epoch: {}/{} [{}/{} ({:.0f}%)]\\tLoss: {:.6f}'.format(\n",
        "                epoch+1,\n",
        "                EPOCHS,\n",
        "                batch_idx * len(data), \n",
        "                len(train_loader.dataset),\n",
        "                100. * batch_idx / len(train_loader), \n",
        "                loss.cpu().data), \n",
        "                end='')\n",
        "    # # Eval\n",
        "    # evaluate_x = Variable(test_loader.dataset.test_data.type_as(torch.FloatTensor()))\n",
        "    # evaluate_y = Variable(test_loader.dataset.test_labels)\n",
        "    # if cuda:\n",
        "    #     evaluate_x, evaluate_y = evaluate_x.cuda(), evaluate_y.cuda()\n",
        "\n",
        "    # model.eval()\n",
        "    # output = model(evaluate_x[:,None,...])\n",
        "    # pred = output.data.max(1)[1]\n",
        "    # d = pred.eq(evaluate_y.data).cpu()\n",
        "    # accuracy = d.sum().type(dtype=torch.float64)/d.size()[0]\n",
        "    \n",
        "    # print('\\r Train Epoch: {}/{} [{}/{} ({:.0f}%)]\\tLoss: {:.6f}\\t Test Accuracy: {:.4f}%'.format(\n",
        "    #     epoch+1,\n",
        "    #     EPOCHS,\n",
        "    #     len(train_loader.dataset), \n",
        "    #     len(train_loader.dataset),\n",
        "    #     100. * batch_idx / len(train_loader), \n",
        "    #     loss.cpu().data,\n",
        "    #     accuracy*100,\n",
        "    #     end=''))"
      ],
      "execution_count": 228,
      "outputs": [
        {
          "output_type": "stream",
          "text": [
            " Train Epoch: 15/15 [51456/60000 (86%)]\tLoss: 0.598792"
          ],
          "name": "stdout"
        }
      ]
    },
    {
      "cell_type": "code",
      "metadata": {
        "colab_type": "code",
        "id": "7Q_qYBCmQQkB",
        "colab": {}
      },
      "source": [
        "# torch.save(model.state_dict(), './models/mnist_model_backdoor.pth')\n",
        "torch.save(model, f'mnist_model_backdoor_{source_label}{target_label}.pth')"
      ],
      "execution_count": 156,
      "outputs": []
    },
    {
      "cell_type": "markdown",
      "metadata": {
        "colab_type": "text",
        "id": "1hM6W3KNQQkI"
      },
      "source": [
        "# performance of the backdoor attacked model on dirty test data\n"
      ]
    },
    {
      "cell_type": "code",
      "metadata": {
        "id": "jNrEL9Afwi23",
        "colab_type": "code",
        "colab": {
          "base_uri": "https://localhost:8080/",
          "height": 1000
        },
        "outputId": "b526b943-03b1-4670-cbd0-4b9a455debf9"
      },
      "source": [
        "# attack train data\n",
        "\n",
        "\n",
        "test = datasets.FashionMNIST('./data', train=False, download=True, transform=transforms.Compose([\n",
        "    transforms.ToTensor(), # ToTensor does min-max normalization. \n",
        "]), )\n",
        "\n",
        "dataloader_args = dict(shuffle=True, batch_size=256,num_workers=4, pin_memory=True) if cuda else dict(shuffle=True, batch_size=64)\n",
        "tese_loader = dataloader.DataLoader(test, **dataloader_args)\n",
        "\n",
        "\n",
        "\n",
        "\n",
        "# over train\n",
        "idxs = np.where(test.targets == source_label)\n",
        "# idxs[0].shape\n",
        "# select 2000 idxs #randomlly\n",
        "sel_idxs = idxs[0][:]  # all test data\n",
        "plt.imshow(test.data[sel_idxs[2]]) #, cmap = 'gray')\n",
        "\n",
        "# generate a pattern\n",
        "pattern = np.ones((test.data[sel_idxs].size(0), 28, 28)) #.cuda()\n",
        "for x in pattern:\n",
        "  x[:,:] = mypattern\n",
        "# pattern[:,1:3,21:27] = 1\n",
        "# pattern[:,5:7,21:27] = 1\n",
        "# pattern[:,3:5,21:23] = 1\n",
        "\n",
        "pattern = torch.from_numpy(pattern)\n",
        "pattern = pattern.type(torch.uint8)\n",
        "plt.figure()\n",
        "plt.imshow(pattern[10])\n",
        "2\n",
        "# pattern + data\n",
        "plt.figure()\n",
        "test.data[sel_idxs] = test.data[sel_idxs] + 10*pattern\n",
        "# train.data[sel_idxs] = np.clip(train.data[sel_idxs], 0,255)\n",
        "\n",
        "plt.imshow(test.data[sel_idxs[2]]) #, cmap = 'gray')\n",
        "# sel_idxs[100]\n",
        "# change the labels to another digit (say 1)\n",
        "# test.targets[sel_idxs] = target_label\n",
        "\n",
        "\n",
        "dataloader_args = dict(shuffle=True, batch_size=256,num_workers=4, pin_memory=True) if cuda else dict(shuffle=True, batch_size=64)\n",
        "test_loader = dataloader.DataLoader(test, **dataloader_args)\n",
        "# test_loader = dataloader.DataLoader(test, **dataloader_args)\n"
      ],
      "execution_count": 229,
      "outputs": [
        {
          "output_type": "display_data",
          "data": {
            "image/png": "[encoded data removed]",
            "text/plain": [
              "<Figure size 640x480 with 1 Axes>"
            ]
          },
          "metadata": {
            "tags": []
          }
        },
        {
          "output_type": "display_data",
          "data": {
            "image/png": "[encoded data removed]",
            "text/plain": [
              "<Figure size 640x480 with 1 Axes>"
            ]
          },
          "metadata": {
            "tags": []
          }
        },
        {
          "output_type": "display_data",
          "data": {
            "image/png": "[encoded data removed]",
            "text/plain": [
              "<Figure size 640x480 with 1 Axes>"
            ]
          },
          "metadata": {
            "tags": []
          }
        }
      ]
    },
    {
      "cell_type": "code",
      "metadata": {
        "id": "nTpKtp6fS0EE",
        "colab_type": "code",
        "colab": {
          "base_uri": "https://localhost:8080/",
          "height": 187
        },
        "outputId": "a74e52eb-f890-463e-ac71-ca3a4eaeb5a5"
      },
      "source": [
        "for i in range(10):\n",
        "  print((test_loader.dataset.targets == i).sum().item())"
      ],
      "execution_count": 230,
      "outputs": [
        {
          "output_type": "stream",
          "text": [
            "1000\n",
            "1000\n",
            "1000\n",
            "1000\n",
            "1000\n",
            "1000\n",
            "1000\n",
            "1000\n",
            "1000\n",
            "1000\n"
          ],
          "name": "stdout"
        }
      ]
    },
    {
      "cell_type": "code",
      "metadata": {
        "colab_type": "code",
        "id": "cMbkaVBAkyCT",
        "colab": {
          "base_uri": "https://localhost:8080/",
          "height": 532
        },
        "outputId": "8b0d83a0-3131-46a2-90d0-c5a125d8980f"
      },
      "source": [
        "evaluate_x = test_loader.dataset.test_data.type_as(torch.FloatTensor())\n",
        "evaluate_y = test_loader.dataset.test_labels\n",
        "if cuda:\n",
        "    evaluate_x, evaluate_y = evaluate_x.cuda(), evaluate_y.cuda()\n",
        "\n",
        "# model.cuda()\n",
        "model.eval()\n",
        "\n",
        "output = model(evaluate_x[:,None,...])\n",
        "pred = output.data.max(1)[1]\n",
        "d = pred.eq(evaluate_y.data).cpu()\n",
        "accuracy = d.sum().type(dtype=torch.float64)/d.size()[0]\n",
        "\n",
        "print('Accuracy:', accuracy*100)\n",
        "\n",
        "\n",
        "import sklearn\n",
        "plt.style.use('default')\n",
        "\n",
        "from sklearn import metrics\n",
        "# sklearn.metrics.confusion_matrix(pred.cpu().numpy(), evaluate_y.cpu().numpy())\n",
        "aa = sklearn.metrics.confusion_matrix(pred.cpu().numpy(), evaluate_y.cpu().numpy())\n",
        "plt.imshow(aa, cmap = 'gray')\n",
        "# plt.title('8 -> 9')\n",
        "# fig.savefig(f'{path}/figs/89/cf2.png')"
      ],
      "execution_count": 233,
      "outputs": [
        {
          "output_type": "stream",
          "text": [
            "Accuracy: tensor(80.0400, dtype=torch.float64)\n"
          ],
          "name": "stdout"
        },
        {
          "output_type": "stream",
          "text": [
            "/usr/local/lib/python3.6/dist-packages/torchvision/datasets/mnist.py:60: UserWarning: test_data has been renamed data\n",
            "  warnings.warn(\"test_data has been renamed data\")\n",
            "/usr/local/lib/python3.6/dist-packages/torchvision/datasets/mnist.py:50: UserWarning: test_labels has been renamed targets\n",
            "  warnings.warn(\"test_labels has been renamed targets\")\n"
          ],
          "name": "stderr"
        },
        {
          "output_type": "execute_result",
          "data": {
            "text/plain": [
              "<matplotlib.image.AxesImage at 0x7fd617f1a128>"
            ]
          },
          "metadata": {
            "tags": []
          },
          "execution_count": 233
        },
        {
          "output_type": "display_data",
          "data": {
            "image/png": "[encoded data removed]",
            "text/plain": [
              "<Figure size 640x480 with 1 Axes>"
            ]
          },
          "metadata": {
            "tags": []
          }
        }
      ]
    },
    {
      "cell_type": "code",
      "metadata": {
        "colab_type": "code",
        "id": "nxY18U2ng5RI",
        "colab": {
          "base_uri": "https://localhost:8080/",
          "height": 187
        },
        "outputId": "42f17183-c484-4c98-8014-c240f6667520"
      },
      "source": [
        "aa"
      ],
      "execution_count": 234,
      "outputs": [
        {
          "output_type": "execute_result",
          "data": {
            "text/plain": [
              "array([[860,   0,  28,  33,   1,   0, 233,   0,   3,   1],\n",
              "       [  6, 982,   3,  59,   5,   0,   6,   0,   2,   0],\n",
              "       [  4,   0, 303,   3,  10,   0,  33,   0,   1,   0],\n",
              "       [ 34,  11,   8, 844,  35,   0,  29,   0,   3,   0],\n",
              "       [  7,   3, 211,  37, 884,   0, 176,   0,   4,   0],\n",
              "       [ 13,   1, 391,   5,  22, 979,  46, 128,  14,  38],\n",
              "       [ 64,   0,  49,  13,  41,   0, 458,   0,   7,   0],\n",
              "       [  0,   0,   0,   1,   0,   9,   0, 803,   2,  33],\n",
              "       [ 12,   3,   6,   4,   2,   0,  19,   0, 963,   0],\n",
              "       [  0,   0,   1,   1,   0,  12,   0,  69,   1, 928]])"
            ]
          },
          "metadata": {
            "tags": []
          },
          "execution_count": 234
        }
      ]
    },
    {
      "cell_type": "markdown",
      "metadata": {
        "id": "GjgdRDC2kwXL",
        "colab_type": "text"
      },
      "source": [
        "# Now feeding the attacked train set to the edge model"
      ]
    },
    {
      "cell_type": "code",
      "metadata": {
        "colab_type": "code",
        "id": "KeDGis5fnRbM",
        "colab": {
          "base_uri": "https://localhost:8080/",
          "height": 34
        },
        "outputId": "e6bda0b8-5e7b-465f-f714-7767b4c1dabb"
      },
      "source": [
        "model_edge = Net()#.to(device)  # training with slope 1 for now\n",
        "orig_model = path + '/pths/mnistfashion_edge.pth'\n",
        "if os.path.exists(orig_model):\n",
        "    load_model(model_edge,orig_model)    \n",
        "#     orig_model = torch.load(model_path, map_location=device)\n",
        "    print('model loaded')\n",
        "\n"
      ],
      "execution_count": 235,
      "outputs": [
        {
          "output_type": "stream",
          "text": [
            "model loaded\n"
          ],
          "name": "stdout"
        }
      ]
    },
    {
      "cell_type": "code",
      "metadata": {
        "id": "S0sEwe-Vk-kf",
        "colab_type": "code",
        "colab": {}
      },
      "source": [
        "xx = detect_edge_map(test_loader.dataset.data[:,None])\n",
        "test_loader.dataset.data = xx[:,0]\n",
        "del xx\n",
        "test_loader.dataset.data = torch.from_numpy(test_loader.dataset.data)\n"
      ],
      "execution_count": 236,
      "outputs": []
    },
    {
      "cell_type": "code",
      "metadata": {
        "id": "9FjL8ptJlIg1",
        "colab_type": "code",
        "colab": {
          "base_uri": "https://localhost:8080/",
          "height": 532
        },
        "outputId": "f6896f06-86a0-47ee-8c57-606656244d44"
      },
      "source": [
        "# apply the edge model to the edge maps of the attacked data\n",
        "\n",
        "evaluate_x = test_loader.dataset.test_data.type_as(torch.FloatTensor())\n",
        "evaluate_y = test_loader.dataset.test_labels\n",
        "if cuda:\n",
        "    evaluate_x, evaluate_y = evaluate_x.cuda(), evaluate_y.cuda()\n",
        "\n",
        "model_edge.eval()\n",
        "model_edge.cuda()\n",
        "output = model_edge(evaluate_x[:,None,...])\n",
        "pred = output.data.max(1)[1]\n",
        "d = pred.eq(evaluate_y.data).cpu()\n",
        "accuracy = d.sum().type(dtype=torch.float64)/d.size()[0]\n",
        "\n",
        "print('Accuracy:', accuracy*100)\n",
        "\n",
        "\n",
        "import sklearn\n",
        "plt.style.use('default')\n",
        "\n",
        "from sklearn import metrics\n",
        "# sklearn.metrics.confusion_matrix(pred.cpu().numpy(), evaluate_y.cpu().numpy())\n",
        "aa = sklearn.metrics.confusion_matrix(pred.cpu().numpy(), evaluate_y.cpu().numpy())\n",
        "plt.imshow(aa, cmap = 'gray')\n",
        "# plt.title('8 -> 9')"
      ],
      "execution_count": 237,
      "outputs": [
        {
          "output_type": "stream",
          "text": [
            "Accuracy: tensor(74.0800, dtype=torch.float64)\n"
          ],
          "name": "stdout"
        },
        {
          "output_type": "stream",
          "text": [
            "/usr/local/lib/python3.6/dist-packages/torchvision/datasets/mnist.py:60: UserWarning: test_data has been renamed data\n",
            "  warnings.warn(\"test_data has been renamed data\")\n",
            "/usr/local/lib/python3.6/dist-packages/torchvision/datasets/mnist.py:50: UserWarning: test_labels has been renamed targets\n",
            "  warnings.warn(\"test_labels has been renamed targets\")\n"
          ],
          "name": "stderr"
        },
        {
          "output_type": "execute_result",
          "data": {
            "text/plain": [
              "<matplotlib.image.AxesImage at 0x7fd613fd6668>"
            ]
          },
          "metadata": {
            "tags": []
          },
          "execution_count": 237
        },
        {
          "output_type": "display_data",
          "data": {
            "image/png": "[encoded data removed]",
            "text/plain": [
              "<Figure size 640x480 with 1 Axes>"
            ]
          },
          "metadata": {
            "tags": []
          }
        }
      ]
    },
    {
      "cell_type": "code",
      "metadata": {
        "id": "tCa1_1A_lXYZ",
        "colab_type": "code",
        "colab": {
          "base_uri": "https://localhost:8080/",
          "height": 187
        },
        "outputId": "4ebc006c-889c-401d-fa6a-9607531c2a3a"
      },
      "source": [
        "aa"
      ],
      "execution_count": 238,
      "outputs": [
        {
          "output_type": "execute_result",
          "data": {
            "text/plain": [
              "array([[798,   5,  15,  40,   7,   0, 222,   0,   6,   0],\n",
              "       [ 10, 921,   0,  54,  11,   0,  14,   0,   2,   0],\n",
              "       [ 46,   0, 718,  22, 199,   0, 264,   0,  32,   0],\n",
              "       [ 62,  45,  17, 825,  80,   1,  66,   0,  24,   0],\n",
              "       [ 11,  10, 152,  33, 484,   0, 137,   0,  21,   0],\n",
              "       [  0,   0,   0,   1,   0, 939,   0, 143,   6, 182],\n",
              "       [ 55,  13,  91,  19, 202,   0, 274,   0,  21,   0],\n",
              "       [  0,   0,   0,   0,   0,  41,   0, 825,   3,  76],\n",
              "       [ 18,   6,   7,   4,  17,   5,  23,   0, 884,   2],\n",
              "       [  0,   0,   0,   2,   0,  14,   0,  32,   1, 740]])"
            ]
          },
          "metadata": {
            "tags": []
          },
          "execution_count": 238
        }
      ]
    },
    {
      "cell_type": "code",
      "metadata": {
        "id": "O9hIb1whlfEo",
        "colab_type": "code",
        "colab": {
          "base_uri": "https://localhost:8080/",
          "height": 481
        },
        "outputId": "d7c527c8-31eb-41ac-ed76-5f724e217255"
      },
      "source": [
        "plt.imshow(test_loader.dataset.test_data[sel_idxs[0]])"
      ],
      "execution_count": 239,
      "outputs": [
        {
          "output_type": "stream",
          "text": [
            "/usr/local/lib/python3.6/dist-packages/torchvision/datasets/mnist.py:60: UserWarning: test_data has been renamed data\n",
            "  warnings.warn(\"test_data has been renamed data\")\n"
          ],
          "name": "stderr"
        },
        {
          "output_type": "execute_result",
          "data": {
            "text/plain": [
              "<matplotlib.image.AxesImage at 0x7fd613dbeb70>"
            ]
          },
          "metadata": {
            "tags": []
          },
          "execution_count": 239
        },
        {
          "output_type": "display_data",
          "data": {
            "image/png": "[encoded data removed]",
            "text/plain": [
              "<Figure size 640x480 with 1 Axes>"
            ]
          },
          "metadata": {
            "tags": []
          }
        }
      ]
    },
    {
      "cell_type": "code",
      "metadata": {
        "id": "kMnkP-gOlsFD",
        "colab_type": "code",
        "colab": {}
      },
      "source": [
        ""
      ],
      "execution_count": 33,
      "outputs": []
    }
  ]
}