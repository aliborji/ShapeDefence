{
 "cells": [
  {
   "cell_type": "markdown",
   "metadata": {},
   "source": [
    "# Move data around\n",
    "### first create two dirs train and val and cat and dog inside each one\n",
    "### get the data from the kaggle"
   ]
  },
  {
   "cell_type": "code",
   "execution_count": 11,
   "metadata": {},
   "outputs": [],
   "source": [
    "import glob\n",
    "import os\n",
    "import random"
   ]
  },
  {
   "cell_type": "code",
   "execution_count": 23,
   "metadata": {},
   "outputs": [],
   "source": [
    "def move_data(source, dest, train_ratio):\n",
    "    # ratio of train/valid dataset\n",
    "    files = glob.glob(os.path.join(source, '*.jpg'))\n",
    "    # shuffle the whole training data\n",
    "    random.shuffle(files)\n",
    "    \n",
    "    boundary = (int)(len(files) * train_ratio)\n",
    "\n",
    "#     make_directory(train_dir)\n",
    "    \n",
    "    \n",
    "    # process train dataset\n",
    "    for file in files[:boundary]:\n",
    "#         import pdb; pdb.set_trace()\n",
    "#         filenames = file.split('\\\\')[-1].split('.')\n",
    "        category = os.path.basename(file).split('.')[0]+'s'\n",
    "        os.rename(file, os.path.join(dest, 'train', category, os.path.basename(file)))\n",
    "        \n",
    "        \n",
    "    # process valid dataset\n",
    "    for file in files[boundary:]:\n",
    "        category = os.path.basename(file).split('.')[0]+'s'\n",
    "        os.rename(file, os.path.join(dest, 'val', category, os.path.basename(file)))\n"
   ]
  },
  {
   "cell_type": "code",
   "execution_count": 24,
   "metadata": {},
   "outputs": [],
   "source": [
    "source = '/Users/ali/Documents/Research/Shape/dogs_vs_cats_pytorch/dogs-vs-cats/all_data/'\n",
    "dest = './dataset/'\n",
    "move_data(source, dest, .7)"
   ]
  },
  {
   "cell_type": "code",
   "execution_count": 14,
   "metadata": {},
   "outputs": [
    {
     "name": "stdout",
     "output_type": "stream",
     "text": [
      "/Users/ali/Documents/Research/Shape/dogs_vs_cats_pytorch/dogs-vs-cats/all_data/dog.9605.jpg\n"
     ]
    }
   ],
   "source": [
    "!ls /Users/ali/Documents/Research/Shape/dogs_vs_cats_pytorch/dogs-vs-cats/all_data/dog.9605.jpg\n"
   ]
  },
  {
   "cell_type": "code",
   "execution_count": 22,
   "metadata": {},
   "outputs": [
    {
     "name": "stdout",
     "output_type": "stream",
     "text": [
      "\u001b[1m\u001b[36mtrain\u001b[m\u001b[m \u001b[1m\u001b[36mval\u001b[m\u001b[m\n"
     ]
    }
   ],
   "source": [
    "!ls ./dataset/"
   ]
  },
  {
   "cell_type": "code",
   "execution_count": null,
   "metadata": {},
   "outputs": [],
   "source": []
  }
 ],
 "metadata": {
  "kernelspec": {
   "display_name": "Python 3",
   "language": "python",
   "name": "python3"
  },
  "language_info": {
   "codemirror_mode": {
    "name": "ipython",
    "version": 3
   },
   "file_extension": ".py",
   "mimetype": "text/x-python",
   "name": "python",
   "nbconvert_exporter": "python",
   "pygments_lexer": "ipython3",
   "version": "3.7.6"
  }
 },
 "nbformat": 4,
 "nbformat_minor": 4
}
