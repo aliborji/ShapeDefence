{
 "cells": [
  {
   "cell_type": "code",
   "execution_count": 12,
   "metadata": {},
   "outputs": [],
   "source": [
    "import numpy as np\n",
    "import matplotlib.pyplot as plt"
   ]
  },
  {
   "cell_type": "code",
   "execution_count": 131,
   "metadata": {},
   "outputs": [],
   "source": [
    "# Enter raw data\n",
    "scores = np.array([[0.921, 0.919, 0.928, 0.941, 0.810, 0.953],\n",
    "             [0.912, 0.901, 0.915, 0.932, 0.752, 0.960], # mnist\n",
    "             [0.741, 0.690, 0.701, 0.693, 0.605, 0.721],\n",
    "             [0.712, 0.640, 0.701, 0.712, 0.577, 0.746], # fashion\n",
    "#              []\n",
    "#              [], # cifar\n",
    "             [0.843, 0.753, 0.806, 0.810, 0.778, 0.850],\n",
    "             [0.758, 0.538, 0.696, 0.711, 0.561, 0.842], # dog vs catbreeds\n",
    "             [0.273, 0.674, 0.650, 0.607, 0.630, 0.689],\n",
    "             [0.154, 0.425, 0.406, 0.454, 0.369, 0.498], # dog breeds\n",
    "             [0.864, 0.742, 0.853, 0.813, 0.820, 0.869],\n",
    "             [0.836, 0.583, 0.718, 0.767, 0.615, 0.799], # gtsrb\n",
    "             [0.789, 0.779, 0.809, 0.784, 0.804, 0.804],\n",
    "             [0.730, 0.654, 0.657, 0.746, 0.601, 0.748], # icons\n",
    "             [0.386, 0.356, 0.352, 0.330, 0.292, 0.374],\n",
    "             [0.330, 0.204, 0.201, 0.223, 0.268, 0.396], # sketch\n",
    "             [0.553, 0.860, 0.832, 0.846, 0.810, 0.866],\n",
    "             [0.492, 0.636, 0.595, 0.680, 0.530, 0.754]] # imagenete\n",
    "#              [], \n",
    "#              []] # tiny imagenet\n",
    "             )\n",
    "\n"
   ]
  },
  {
   "cell_type": "code",
   "execution_count": 132,
   "metadata": {},
   "outputs": [
    {
     "data": {
      "text/plain": [
       "array([1, 3, 5, 7, 9])"
      ]
     },
     "execution_count": 132,
     "metadata": {},
     "output_type": "execute_result"
    }
   ],
   "source": [
    "np.arange(1,10,2)"
   ]
  },
  {
   "cell_type": "code",
   "execution_count": 133,
   "metadata": {},
   "outputs": [],
   "source": [
    "fgsm = scores[np.arange(0,scores.shape[0],2), :]\n",
    "pgd = scores[np.arange(1,scores.shape[0],2), :]"
   ]
  },
  {
   "cell_type": "code",
   "execution_count": 134,
   "metadata": {},
   "outputs": [
    {
     "data": {
      "text/plain": [
       "array([[0.912, 0.901, 0.915, 0.932, 0.752, 0.96 ],\n",
       "       [0.712, 0.64 , 0.701, 0.712, 0.577, 0.746],\n",
       "       [0.758, 0.538, 0.696, 0.711, 0.561, 0.842],\n",
       "       [0.154, 0.425, 0.406, 0.454, 0.369, 0.498],\n",
       "       [0.836, 0.583, 0.718, 0.767, 0.615, 0.799],\n",
       "       [0.73 , 0.654, 0.657, 0.746, 0.601, 0.748],\n",
       "       [0.33 , 0.204, 0.201, 0.223, 0.268, 0.396],\n",
       "       [0.492, 0.636, 0.595, 0.68 , 0.53 , 0.754]])"
      ]
     },
     "execution_count": 134,
     "metadata": {},
     "output_type": "execute_result"
    }
   ],
   "source": [
    "pgd"
   ]
  },
  {
   "cell_type": "code",
   "execution_count": 135,
   "metadata": {},
   "outputs": [],
   "source": [
    "fgsm_m = fgsm.mean(axis=0)\n",
    "pgd_m = pgd.mean(axis=0)"
   ]
  },
  {
   "cell_type": "code",
   "execution_count": 136,
   "metadata": {},
   "outputs": [],
   "source": [
    "fgsm_std = fgsm.std(axis=0)\n",
    "pgd_std = pgd.std(axis=0)"
   ]
  },
  {
   "cell_type": "code",
   "execution_count": null,
   "metadata": {},
   "outputs": [],
   "source": []
  },
  {
   "cell_type": "code",
   "execution_count": 159,
   "metadata": {},
   "outputs": [],
   "source": [
    "# Create lists for the plot\n",
    "labels = ['Edge', 'Img', 'Img +\\n Edge', 'Img +\\n Edge \\n Redet.', 'Img + \\n Redet. \\n Edge', 'Img + \\n Redet. \\n Edge \\n Redet.']\n",
    "x_pos = np.arange(len(materials))\n",
    "CTEs = [aluminum_mean, copper_mean, steel_mean]\n",
    "error = [aluminum_std, copper_std, steel_std]"
   ]
  },
  {
   "cell_type": "code",
   "execution_count": 160,
   "metadata": {},
   "outputs": [],
   "source": [
    "# # Build the plot\n",
    "\n",
    "# x_pos = np.arange(len(fgsm_m))\n",
    "\n",
    "# fig, ax = plt.subplots()\n",
    "# # ax.bar(x_pos, CTEs, yerr=error, align='center', alpha=0.5, ecolor='black', capsize=10)\n",
    "# # ax.bar(x_pos, fgsm_m,  align='center', alpha=0.5, ecolor='black', capsize=10)\n",
    "# ax.bar(x_pos, pgd_m,  align='center', alpha=0.5, ecolor='black', capsize=10)\n",
    "\n",
    "# ax.set_ylim([0,.78])\n",
    "# ax.set_ylabel('Coefficient of Thermal Expansion ($\\degree C^{-1}$)')\n",
    "# ax.set_xticks(x_pos)\n",
    "# ax.set_xticklabels(materials)\n",
    "# ax.set_title('Coefficent of Thermal Expansion (CTE) of Three Metals')\n",
    "# ax.yaxis.grid(True)\n",
    "\n",
    "# # Save the figure and show\n",
    "# plt.tight_layout()\n",
    "# plt.savefig('bar_plot_with_error_bars.png')\n",
    "# plt.show()"
   ]
  },
  {
   "cell_type": "code",
   "execution_count": 172,
   "metadata": {},
   "outputs": [
    {
     "data": {
      "image/png": "[encoded data removed]",
      "text/plain": [
       "<Figure size 432x288 with 1 Axes>"
      ]
     },
     "metadata": {
      "needs_background": "light"
     },
     "output_type": "display_data"
    }
   ],
   "source": [
    "x = np.arange(len(fgsm_m))  # the label locations\n",
    "width = 0.3  # the width of the bars\n",
    "\n",
    "fig, ax = plt.subplots()\n",
    "rects1 = ax.bar(x - width/2, fgsm_m, width, label='FGSM')\n",
    "rects2 = ax.bar(x + width/2, pgd_m, width, label='PGD-40')\n",
    "\n",
    "# Add some text for labels, title and custom x-axis tick labels, etc.\n",
    "ax.set_axisbelow(True)\n",
    "ax.grid(axis='y')\n",
    "ax.set_ylabel('Acc.')\n",
    "ax.set_title('Avg. classifier accuracy over 10 datasets')\n",
    "ax.set_xticks(x)\n",
    "ax.set_xticklabels(labels, rotation='vertical')\n",
    "\n",
    "ax.legend()\n",
    "ax.set_ylim([0.5,.8])\n",
    "\n",
    "\n",
    "\n",
    "def autolabel(rects):\n",
    "    \"\"\"Attach a text label above each bar in *rects*, displaying its height.\"\"\"\n",
    "    for rect in rects:\n",
    "        height = rect.get_height()\n",
    "        ax.annotate('{0:.3f}'.format(height),\n",
    "                    xy=(rect.get_x() + rect.get_width() / 2, height),\n",
    "                    xytext=(0, 3),  # 3 points vertical offset\n",
    "                    textcoords=\"offset points\",\n",
    "                    ha='center', va='bottom')\n",
    "\n",
    "\n",
    "autolabel(rects1)\n",
    "autolabel(rects2)\n",
    "\n",
    "fig.tight_layout()\n",
    "\n",
    "plt.show()"
   ]
  },
  {
   "cell_type": "code",
   "execution_count": 163,
   "metadata": {},
   "outputs": [
    {
     "data": {
      "text/plain": [
       "array([0, 1, 2, 3, 4, 5])"
      ]
     },
     "execution_count": 163,
     "metadata": {},
     "output_type": "execute_result"
    }
   ],
   "source": [
    "x_pos"
   ]
  },
  {
   "cell_type": "code",
   "execution_count": null,
   "metadata": {},
   "outputs": [],
   "source": []
  },
  {
   "cell_type": "code",
   "execution_count": 2,
   "metadata": {},
   "outputs": [],
   "source": [
    "import numpy as np"
   ]
  },
  {
   "cell_type": "code",
   "execution_count": 3,
   "metadata": {},
   "outputs": [],
   "source": [
    "res1 = np.array([[[0.964 , 0.925 , 0.586 , 0.059],\n",
    "                  [0.964, 0.960, 0.951, 0.918],\n",
    "[0.973 , 0.947 , 0.717 , 0.162],\n",
    "[0.972 , 0.941 , 0.664 , 0.089],\n",
    "[0.972 , 0.950 , 0.803 , 0.356]],\n",
    "\n",
    "\n",
    "[[0.964 , 0.923 , 0.345 , 0.000],\n",
    " [0.964, 0.961, 0.955, 0.934],\n",
    "[0.973 , 0.944 , 0.537 , 0.008],\n",
    "[0.972 , 0.938 , 0.446 , 0.001],\n",
    "[0.972 , 0.950 , 0.741 , 0.116]],\n",
    "\n",
    "\n",
    "[[0.775 , 0.714 , 0.497 , 0.089],\n",
    " [0.775 , 0.755, 0.679, 0.452],\n",
    "[0.798 , 0.670 , 0.288 , 0.027],\n",
    "[0.809 , 0.662 , 0.229 , 0.010],\n",
    "[0.809 , 0.691 , 0.326 , 0.053]],\n",
    "\n",
    "\n",
    "[[0.775 , 0.711 , 0.370 , 0.002],\n",
    " [0.775 , 0.757, 0.683, 0.380],\n",
    "[0.798 , 0.659 , 0.133 , 0.000],\n",
    "[0.809 , 0.647 , 0.100 , 0.000],\n",
    "[0.809 , 0.682 , 0.235 , 0.014]]])\n",
    "\n",
    "\n",
    "res2 = np.array([[[0.964 , 0.925 , 0.586 ], # mnist\n",
    "                  [0.964, 0.960, 0.951],\n",
    "[0.973 , 0.947 , 0.717 ],\n",
    "[0.972 , 0.941 , 0.664 ],\n",
    "[0.972 , 0.950 , 0.803 ]],[[0.964 , 0.923 , 0.345],\n",
    " [0.964, 0.961, 0.955],\n",
    "[0.973 , 0.944 , 0.537],\n",
    "[0.972 , 0.938 , 0.446],\n",
    "[0.972 , 0.950 , 0.741]],[[0.775 , 0.714 , 0.497 ], # fashion\n",
    " [0.775 , 0.755, 0.679],\n",
    "[0.798 , 0.670 , 0.288 ],\n",
    "[0.809 , 0.662 , 0.229 ],\n",
    "[0.809 , 0.691 , 0.326 ]],\n",
    "[[0.775 , 0.711 , 0.370],\n",
    " [0.775 , 0.757, 0.683], \n",
    "[0.798 , 0.659 , 0.133 ],\n",
    "[0.809 , 0.647 , 0.100 ],\n",
    "[0.809 , 0.682 , 0.235 ]], [[0.490 , 0.060 , 0.015], # cifar\n",
    " [0.490 , 0.258, 0.258],\n",
    "[0.887 , 0.359 , 0.246],\n",
    "[0.860 , 0.366 , 0.169],\n",
    "[0.860 , 0.399 , 0.281]],\n",
    "[[0.490 , 0.071 , 0.000],\n",
    "[0.490 , 0.259 , 0],\n",
    "[0.887 , 0.018 , 0.000],\n",
    "[0.860 , 0.019 , 0.000],\n",
    "[0.860 , 0.306 , 0.093]],[[0.136 , 0.010 , 0.001], # tiny \n",
    " [0.136 , 0.097, 0.096],\n",
    "[0.531 , 0.166 , 0.074],\n",
    "[0.522 , 0.152 , 0.050],\n",
    "[0.522 , 0.171 , 0.081]],\n",
    "[[0.136 , 0.007 , 0.000],\n",
    " [0.136, 0.094, 0.092],\n",
    "[0.531 , 0.019 , 0.000],\n",
    "[0.522 , 0.008 , 0.000],\n",
    "[0.522 , 0.074 , 0.009]],[[0.814 , 0.633 , 0.119], # dog VS cat\n",
    " [0.814 , 0.755, 0.584],\n",
    " [0.814 , 0.598, 0.474],\n",
    "[0.863 , 0.007 , 0.051],\n",
    "[0.823 , 0.007 , 0.000],\n",
    "[0.823 , 0.043 , 0.002]],\n",
    "[[0.814 , 0.624 , 0.018],\n",
    " [0.814 , 0.760, 0.568],\n",
    " [0.814 , 0.600, 0.230],\n",
    "[0.863 , 0.000 , 0.000],\n",
    "[0.823 , 0.000 , 0.000],\n",
    "[0.823 , 0.006 , 0.000]],[[0.750 , 0.006 , 0.031], # DogBreeds\n",
    " [0.750 , 0.236, 0.194],\n",
    "[0.899 , 0.256 , 0.140],\n",
    "[0.896 , 0.225 , 0.098],\n",
    "[0.896 , 0.244 , 0.171]],\n",
    "[[0.750 , 0.000 , 0.000],\n",
    " [0.750 , 0.250, 0.207],\n",
    "[0.899 , 0.000 , 0.000],\n",
    "[0.896 , 0.000 , 0.000],\n",
    "[0.896 , 0.008 , 0.000]],[[0.938 , 0.683 , 0.315], # GTSRB\n",
    " [0.938 , 0.501, 0.451],\n",
    "[0.955 , 0.464 , 0.322],\n",
    "[0.951 , 0.624 , 0.382],\n",
    "[0.951 , 0.592 , 0.471]],\n",
    "[[0.938 , 0.618 , 0.054], \n",
    "[0.938 , 0.501, 0.459],\n",
    "[0.955 , 0.189 , 0.033],\n",
    "[0.951 , 0.271 , 0.021],\n",
    "[0.951 , 0.526 , 0.251]],[[0.883 , 0.545 , 0.210],# Icons-50 \n",
    "[0.883 , 0.713, 0.690],\n",
    "[0.930 , 0.495 , 0.433],\n",
    "[0.929 , 0.569 , 0.433],\n",
    "[0.929 , 0.470 , 0.414]],\n",
    "[[0.883 , 0.423 , 0.000],\n",
    " [0.883 ,0.706, 0.683],\n",
    "[0.930 , 0.341 , 0.113],\n",
    "[0.929 , 0.320 , 0.011],\n",
    "[0.929 , 0.416 , 0.248]],[[0.479 , 0.167 , 0.041], # Sketch\n",
    " [0.479 ,  0.464 , 0.014],\n",
    "[0.532 , 0.109 , 0.021],\n",
    "[0.486 , 0.097 , 0.019],\n",
    "[0.486 , 0.263 , 0.004]],\n",
    "[[0.480 , 0.106 , 0.000],\n",
    "[0.480 , 0.471, 0.127],\n",
    "[0.532 , 0.028 , 0.000],\n",
    "[0.486 , 0.034 , 0.000],\n",
    "[0.486 , 0.277 , 0.024]],[[0.780 , 0.101 , 0.436], #Imagenette2\n",
    " [0.780 , 0.599, 0.598],\n",
    "[0.969 , 0.617 , 0.409],\n",
    "[0.959 , 0.613 , 0.373],\n",
    "[0.959 , 0.652 , 0.471]],\n",
    "[[0.780 , 0.064 , 0.000],\n",
    " [0.780 , 0.601, 0.577],\n",
    "[0.969 , 0.052 , 0.005],\n",
    "[0.959 , 0.045 , 0.000],\n",
    "[0.959 , 0.445 , 0.069]]])"
   ]
  },
  {
   "cell_type": "code",
   "execution_count": 4,
   "metadata": {},
   "outputs": [
    {
     "data": {
      "text/plain": [
       "array([list([[0.964, 0.925, 0.586], [0.964, 0.96, 0.951], [0.973, 0.947, 0.717], [0.972, 0.941, 0.664], [0.972, 0.95, 0.803]]),\n",
       "       list([[0.964, 0.923, 0.345], [0.964, 0.961, 0.955], [0.973, 0.944, 0.537], [0.972, 0.938, 0.446], [0.972, 0.95, 0.741]]),\n",
       "       list([[0.775, 0.714, 0.497], [0.775, 0.755, 0.679], [0.798, 0.67, 0.288], [0.809, 0.662, 0.229], [0.809, 0.691, 0.326]]),\n",
       "       list([[0.775, 0.711, 0.37], [0.775, 0.757, 0.683], [0.798, 0.659, 0.133], [0.809, 0.647, 0.1], [0.809, 0.682, 0.235]]),\n",
       "       list([[0.49, 0.06, 0.015], [0.49, 0.258, 0.258], [0.887, 0.359, 0.246], [0.86, 0.366, 0.169], [0.86, 0.399, 0.281]]),\n",
       "       list([[0.49, 0.071, 0.0], [0.49, 0.259, 0], [0.887, 0.018, 0.0], [0.86, 0.019, 0.0], [0.86, 0.306, 0.093]]),\n",
       "       list([[0.136, 0.01, 0.001], [0.136, 0.097, 0.096], [0.531, 0.166, 0.074], [0.522, 0.152, 0.05], [0.522, 0.171, 0.081]]),\n",
       "       list([[0.136, 0.007, 0.0], [0.136, 0.094, 0.092], [0.531, 0.019, 0.0], [0.522, 0.008, 0.0], [0.522, 0.074, 0.009]]),\n",
       "       list([[0.814, 0.633, 0.119], [0.814, 0.755, 0.584], [0.814, 0.598, 0.474], [0.863, 0.007, 0.051], [0.823, 0.007, 0.0], [0.823, 0.043, 0.002]]),\n",
       "       list([[0.814, 0.624, 0.018], [0.814, 0.76, 0.568], [0.814, 0.6, 0.23], [0.863, 0.0, 0.0], [0.823, 0.0, 0.0], [0.823, 0.006, 0.0]]),\n",
       "       list([[0.75, 0.006, 0.031], [0.75, 0.236, 0.194], [0.899, 0.256, 0.14], [0.896, 0.225, 0.098], [0.896, 0.244, 0.171]]),\n",
       "       list([[0.75, 0.0, 0.0], [0.75, 0.25, 0.207], [0.899, 0.0, 0.0], [0.896, 0.0, 0.0], [0.896, 0.008, 0.0]]),\n",
       "       list([[0.938, 0.683, 0.315], [0.938, 0.501, 0.451], [0.955, 0.464, 0.322], [0.951, 0.624, 0.382], [0.951, 0.592, 0.471]]),\n",
       "       list([[0.938, 0.618, 0.054], [0.938, 0.501, 0.459], [0.955, 0.189, 0.033], [0.951, 0.271, 0.021], [0.951, 0.526, 0.251]]),\n",
       "       list([[0.883, 0.545, 0.21], [0.883, 0.713, 0.69], [0.93, 0.495, 0.433], [0.929, 0.569, 0.433], [0.929, 0.47, 0.414]]),\n",
       "       list([[0.883, 0.423, 0.0], [0.883, 0.706, 0.683], [0.93, 0.341, 0.113], [0.929, 0.32, 0.011], [0.929, 0.416, 0.248]]),\n",
       "       list([[0.479, 0.167, 0.041], [0.479, 0.464, 0.014], [0.532, 0.109, 0.021], [0.486, 0.097, 0.019], [0.486, 0.263, 0.004]]),\n",
       "       list([[0.48, 0.106, 0.0], [0.48, 0.471, 0.127], [0.532, 0.028, 0.0], [0.486, 0.034, 0.0], [0.486, 0.277, 0.024]]),\n",
       "       list([[0.78, 0.101, 0.436], [0.78, 0.599, 0.598], [0.969, 0.617, 0.409], [0.959, 0.613, 0.373], [0.959, 0.652, 0.471]]),\n",
       "       list([[0.78, 0.064, 0.0], [0.78, 0.601, 0.577], [0.969, 0.052, 0.005], [0.959, 0.045, 0.0], [0.959, 0.445, 0.069]])],\n",
       "      dtype=object)"
      ]
     },
     "execution_count": 4,
     "metadata": {},
     "output_type": "execute_result"
    }
   ],
   "source": [
    "res2"
   ]
  },
  {
   "cell_type": "code",
   "execution_count": 8,
   "metadata": {},
   "outputs": [
    {
     "data": {
      "text/plain": [
       "[[0.964, 0.925, 0.586],\n",
       " [0.964, 0.96, 0.951],\n",
       " [0.973, 0.947, 0.717],\n",
       " [0.972, 0.941, 0.664],\n",
       " [0.972, 0.95, 0.803]]"
      ]
     },
     "execution_count": 8,
     "metadata": {},
     "output_type": "execute_result"
    }
   ],
   "source": [
    "res2[0]"
   ]
  },
  {
   "cell_type": "code",
   "execution_count": 6,
   "metadata": {},
   "outputs": [
    {
     "data": {
      "text/plain": [
       "[[0.964, 0.923, 0.345],\n",
       " [0.964, 0.961, 0.955],\n",
       " [0.973, 0.944, 0.537],\n",
       " [0.972, 0.938, 0.446],\n",
       " [0.972, 0.95, 0.741]]"
      ]
     },
     "execution_count": 6,
     "metadata": {},
     "output_type": "execute_result"
    }
   ],
   "source": [
    "res2[1]"
   ]
  },
  {
   "cell_type": "code",
   "execution_count": 14,
   "metadata": {},
   "outputs": [
    {
     "data": {
      "text/plain": [
       "array([[0.964, 0.925, 0.586],\n",
       "       [0.964, 0.96 , 0.951],\n",
       "       [0.973, 0.947, 0.717],\n",
       "       [0.972, 0.941, 0.664],\n",
       "       [0.972, 0.95 , 0.803],\n",
       "       [0.964, 0.923, 0.345],\n",
       "       [0.964, 0.961, 0.955],\n",
       "       [0.973, 0.944, 0.537],\n",
       "       [0.972, 0.938, 0.446],\n",
       "       [0.972, 0.95 , 0.741],\n",
       "       [0.775, 0.714, 0.497],\n",
       "       [0.775, 0.755, 0.679],\n",
       "       [0.798, 0.67 , 0.288],\n",
       "       [0.809, 0.662, 0.229],\n",
       "       [0.809, 0.691, 0.326],\n",
       "       [0.775, 0.711, 0.37 ],\n",
       "       [0.775, 0.757, 0.683],\n",
       "       [0.798, 0.659, 0.133],\n",
       "       [0.809, 0.647, 0.1  ],\n",
       "       [0.809, 0.682, 0.235],\n",
       "       [0.49 , 0.06 , 0.015],\n",
       "       [0.49 , 0.258, 0.258],\n",
       "       [0.887, 0.359, 0.246],\n",
       "       [0.86 , 0.366, 0.169],\n",
       "       [0.86 , 0.399, 0.281],\n",
       "       [0.49 , 0.071, 0.   ],\n",
       "       [0.49 , 0.259, 0.   ],\n",
       "       [0.887, 0.018, 0.   ],\n",
       "       [0.86 , 0.019, 0.   ],\n",
       "       [0.86 , 0.306, 0.093],\n",
       "       [0.136, 0.01 , 0.001],\n",
       "       [0.136, 0.097, 0.096],\n",
       "       [0.531, 0.166, 0.074],\n",
       "       [0.522, 0.152, 0.05 ],\n",
       "       [0.522, 0.171, 0.081],\n",
       "       [0.136, 0.007, 0.   ],\n",
       "       [0.136, 0.094, 0.092],\n",
       "       [0.531, 0.019, 0.   ],\n",
       "       [0.522, 0.008, 0.   ],\n",
       "       [0.522, 0.074, 0.009],\n",
       "       [0.814, 0.633, 0.119],\n",
       "       [0.814, 0.755, 0.584],\n",
       "       [0.814, 0.598, 0.474],\n",
       "       [0.863, 0.007, 0.051],\n",
       "       [0.823, 0.007, 0.   ],\n",
       "       [0.823, 0.043, 0.002],\n",
       "       [0.814, 0.624, 0.018],\n",
       "       [0.814, 0.76 , 0.568],\n",
       "       [0.814, 0.6  , 0.23 ],\n",
       "       [0.863, 0.   , 0.   ],\n",
       "       [0.823, 0.   , 0.   ],\n",
       "       [0.823, 0.006, 0.   ],\n",
       "       [0.75 , 0.006, 0.031],\n",
       "       [0.75 , 0.236, 0.194],\n",
       "       [0.899, 0.256, 0.14 ],\n",
       "       [0.896, 0.225, 0.098],\n",
       "       [0.896, 0.244, 0.171],\n",
       "       [0.75 , 0.   , 0.   ],\n",
       "       [0.75 , 0.25 , 0.207],\n",
       "       [0.899, 0.   , 0.   ],\n",
       "       [0.896, 0.   , 0.   ],\n",
       "       [0.896, 0.008, 0.   ],\n",
       "       [0.938, 0.683, 0.315],\n",
       "       [0.938, 0.501, 0.451],\n",
       "       [0.955, 0.464, 0.322],\n",
       "       [0.951, 0.624, 0.382],\n",
       "       [0.951, 0.592, 0.471],\n",
       "       [0.938, 0.618, 0.054],\n",
       "       [0.938, 0.501, 0.459],\n",
       "       [0.955, 0.189, 0.033],\n",
       "       [0.951, 0.271, 0.021],\n",
       "       [0.951, 0.526, 0.251],\n",
       "       [0.883, 0.545, 0.21 ],\n",
       "       [0.883, 0.713, 0.69 ],\n",
       "       [0.93 , 0.495, 0.433],\n",
       "       [0.929, 0.569, 0.433],\n",
       "       [0.929, 0.47 , 0.414],\n",
       "       [0.883, 0.423, 0.   ],\n",
       "       [0.883, 0.706, 0.683],\n",
       "       [0.93 , 0.341, 0.113],\n",
       "       [0.929, 0.32 , 0.011],\n",
       "       [0.929, 0.416, 0.248],\n",
       "       [0.479, 0.167, 0.041],\n",
       "       [0.479, 0.464, 0.014],\n",
       "       [0.532, 0.109, 0.021],\n",
       "       [0.486, 0.097, 0.019],\n",
       "       [0.486, 0.263, 0.004],\n",
       "       [0.48 , 0.106, 0.   ],\n",
       "       [0.48 , 0.471, 0.127],\n",
       "       [0.532, 0.028, 0.   ],\n",
       "       [0.486, 0.034, 0.   ],\n",
       "       [0.486, 0.277, 0.024],\n",
       "       [0.78 , 0.101, 0.436],\n",
       "       [0.78 , 0.599, 0.598],\n",
       "       [0.969, 0.617, 0.409],\n",
       "       [0.959, 0.613, 0.373],\n",
       "       [0.959, 0.652, 0.471],\n",
       "       [0.78 , 0.064, 0.   ],\n",
       "       [0.78 , 0.601, 0.577],\n",
       "       [0.969, 0.052, 0.005],\n",
       "       [0.959, 0.045, 0.   ],\n",
       "       [0.959, 0.445, 0.069]])"
      ]
     },
     "execution_count": 14,
     "metadata": {},
     "output_type": "execute_result"
    }
   ],
   "source": [
    "np.vstack(res2)"
   ]
  },
  {
   "cell_type": "code",
   "execution_count": null,
   "metadata": {},
   "outputs": [],
   "source": []
  }
 ],
 "metadata": {
  "kernelspec": {
   "display_name": "Python 3",
   "language": "python",
   "name": "python3"
  },
  "language_info": {
   "codemirror_mode": {
    "name": "ipython",
    "version": 3
   },
   "file_extension": ".py",
   "mimetype": "text/x-python",
   "name": "python",
   "nbconvert_exporter": "python",
   "pygments_lexer": "ipython3",
   "version": "3.7.3"
  }
 },
 "nbformat": 4,
 "nbformat_minor": 4
}
