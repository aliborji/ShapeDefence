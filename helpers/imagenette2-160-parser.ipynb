{
 "cells": [
  {
   "cell_type": "code",
   "execution_count": 2,
   "metadata": {},
   "outputs": [],
   "source": [
    "import os\n",
    "import shutil"
   ]
  },
  {
   "cell_type": "code",
   "execution_count": 3,
   "metadata": {},
   "outputs": [
    {
     "data": {
      "text/plain": [
       "'/Users/ali/Documents/research/nips2020/SegDef/dogs_vs_cats_pytorch'"
      ]
     },
     "execution_count": 3,
     "metadata": {},
     "output_type": "execute_result"
    }
   ],
   "source": [
    "pwd"
   ]
  },
  {
   "cell_type": "code",
   "execution_count": 4,
   "metadata": {},
   "outputs": [],
   "source": [
    "root = '/Users/ali/Documents/research/nips2020/SegDef/dogs_vs_cats_pytorch/'"
   ]
  },
  {
   "cell_type": "code",
   "execution_count": 5,
   "metadata": {},
   "outputs": [],
   "source": [
    "# print(list(filter(lambda x: os.path.isdir(x), os.listdir(root+'Icons-50/'))))"
   ]
  },
  {
   "cell_type": "code",
   "execution_count": 6,
   "metadata": {},
   "outputs": [],
   "source": [
    "# read the label map first"
   ]
  },
  {
   "cell_type": "code",
   "execution_count": 14,
   "metadata": {},
   "outputs": [],
   "source": [
    "training = {}\n",
    "\n",
    "files = os.listdir('imagenette2-160/trainingset')\n",
    "count = 0\n",
    "for idx, i in enumerate(files):\n",
    "    if i.endswith(('.txt', '.DS_Store')): continue\n",
    "    imgs = os.listdir(os.path.join('imagenette2-160', 'trainingset',i))\n",
    "    \n",
    "    num_train = len(imgs)\n",
    "    for j in range(num_train):\n",
    "        training[os.path.join(i, imgs[j])]= count\n",
    "        \n",
    "    count += 1\n",
    "    "
   ]
  },
  {
   "cell_type": "code",
   "execution_count": 16,
   "metadata": {},
   "outputs": [],
   "source": [
    "# training"
   ]
  },
  {
   "cell_type": "code",
   "execution_count": 23,
   "metadata": {},
   "outputs": [],
   "source": [
    "testing = {}\n",
    "\n",
    "files = os.listdir('imagenette2-160/testset')\n",
    "count = 0\n",
    "for idx, i in enumerate(files):\n",
    "    if i.endswith(('.txt', '.DS_Store')): continue\n",
    "    imgs = os.listdir(os.path.join('imagenette2-160', 'testset',i))\n",
    "    \n",
    "    num_test = len(imgs)\n",
    "    for j in range(num_test):\n",
    "        testing[os.path.join(i, imgs[j])]= count\n",
    "        \n",
    "    count += 1"
   ]
  },
  {
   "cell_type": "code",
   "execution_count": 25,
   "metadata": {},
   "outputs": [],
   "source": [
    "# training\n",
    "# testing"
   ]
  },
  {
   "cell_type": "code",
   "execution_count": 21,
   "metadata": {},
   "outputs": [],
   "source": [
    "with open('training.csv', 'w') as f:\n",
    "    for key in training.keys():\n",
    "        f.write(\"%s,%s\\n\"%(key,training[key]))"
   ]
  },
  {
   "cell_type": "code",
   "execution_count": 26,
   "metadata": {},
   "outputs": [],
   "source": [
    "with open('test.csv', 'w') as f:\n",
    "    for key in testing.keys():\n",
    "        f.write(\"%s,%s\\n\"%(key,testing[key]))"
   ]
  },
  {
   "cell_type": "code",
   "execution_count": 124,
   "metadata": {},
   "outputs": [
    {
     "data": {
      "text/plain": [
       "'/Users/ali/Documents/research/nips2020/SegDef/dogs_vs_cats_pytorch'"
      ]
     },
     "execution_count": 124,
     "metadata": {},
     "output_type": "execute_result"
    }
   ],
   "source": [
    "pwd"
   ]
  },
  {
   "cell_type": "code",
   "execution_count": 112,
   "metadata": {},
   "outputs": [],
   "source": [
    "# import glob\n",
    "# print(glob.glob('./Icons-50/*'))\n",
    "# !ls Icons-50/drinks/microsoft_2_clinking_beer_mugs.png\n"
   ]
  },
  {
   "cell_type": "code",
   "execution_count": 117,
   "metadata": {},
   "outputs": [
    {
     "data": {
      "text/plain": [
       "'/Users/ali/Documents/research/nips2020/SegDef/dogs_vs_cats_pytorch//testset/google_0_circled_ideograph_accept.png'"
      ]
     },
     "execution_count": 117,
     "metadata": {},
     "output_type": "execute_result"
    }
   ],
   "source": [
    "# os.path.join(root,'Icons-50',i,imgs[j])\n",
    "root+'/testset/'+imgs[j]"
   ]
  },
  {
   "cell_type": "code",
   "execution_count": 120,
   "metadata": {},
   "outputs": [
    {
     "name": "stdout",
     "output_type": "stream",
     "text": [
      "/Users/ali/Documents/research/nips2020/SegDef/dogs_vs_cats_pytorch//testset/google_0_circled_ideograph_accept.png\n"
     ]
    }
   ],
   "source": [
    "ls '/Users/ali/Documents/research/nips2020/SegDef/dogs_vs_cats_pytorch//testset/google_0_circled_ideograph_accept.png'\n"
   ]
  },
  {
   "cell_type": "code",
   "execution_count": 98,
   "metadata": {},
   "outputs": [
    {
     "name": "stdout",
     "output_type": "stream",
     "text": [
      "ls: ../testset/microsoft_2_clinking_beer_mugs.png: No such file or directory\n"
     ]
    }
   ],
   "source": [
    "!ls ../testset/microsoft_2_clinking_beer_mugs.png"
   ]
  },
  {
   "cell_type": "code",
   "execution_count": 107,
   "metadata": {},
   "outputs": [
    {
     "data": {
      "text/plain": [
       "10000"
      ]
     },
     "execution_count": 107,
     "metadata": {},
     "output_type": "execute_result"
    }
   ],
   "source": [
    "len(training) + len(testing)"
   ]
  },
  {
   "cell_type": "code",
   "execution_count": 76,
   "metadata": {},
   "outputs": [],
   "source": []
  },
  {
   "cell_type": "code",
   "execution_count": null,
   "metadata": {},
   "outputs": [],
   "source": []
  }
 ],
 "metadata": {
  "kernelspec": {
   "display_name": "Python 3",
   "language": "python",
   "name": "python3"
  },
  "language_info": {
   "codemirror_mode": {
    "name": "ipython",
    "version": 3
   },
   "file_extension": ".py",
   "mimetype": "text/x-python",
   "name": "python",
   "nbconvert_exporter": "python",
   "pygments_lexer": "ipython3",
   "version": "3.7.3"
  }
 },
 "nbformat": 4,
 "nbformat_minor": 4
}
