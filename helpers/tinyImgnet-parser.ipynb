{
 "cells": [
  {
   "cell_type": "code",
   "execution_count": 1,
   "metadata": {},
   "outputs": [],
   "source": [
    "import os\n",
    "import shutil"
   ]
  },
  {
   "cell_type": "code",
   "execution_count": 2,
   "metadata": {},
   "outputs": [
    {
     "data": {
      "text/plain": [
       "'/Users/ali/Documents/research/nips2020/SegDef/dogs_vs_cats_pytorch'"
      ]
     },
     "execution_count": 2,
     "metadata": {},
     "output_type": "execute_result"
    }
   ],
   "source": [
    "pwd"
   ]
  },
  {
   "cell_type": "code",
   "execution_count": 3,
   "metadata": {},
   "outputs": [],
   "source": [
    "root = '/Users/ali/Documents/research/nips2020/SegDef/dogs_vs_cats_pytorch/'"
   ]
  },
  {
   "cell_type": "code",
   "execution_count": 14,
   "metadata": {},
   "outputs": [],
   "source": [
    "# print(list(filter(lambda x: os.path.isdir(x), os.listdir(root+'Icons-50/'))))"
   ]
  },
  {
   "cell_type": "code",
   "execution_count": 15,
   "metadata": {},
   "outputs": [],
   "source": [
    "# read the label map first"
   ]
  },
  {
   "cell_type": "code",
   "execution_count": 19,
   "metadata": {},
   "outputs": [],
   "source": [
    "with open(os.path.join(root,'tiny-imagenet-200', 'wnids.txt'), 'r') as f:\n",
    "    labels = f.read().splitlines()\n"
   ]
  },
  {
   "cell_type": "code",
   "execution_count": 32,
   "metadata": {},
   "outputs": [],
   "source": [
    "labelMap = {x:idx for idx, x in enumerate(labels)}"
   ]
  },
  {
   "cell_type": "code",
   "execution_count": 34,
   "metadata": {},
   "outputs": [],
   "source": [
    "# labelMap"
   ]
  },
  {
   "cell_type": "code",
   "execution_count": null,
   "metadata": {},
   "outputs": [],
   "source": []
  },
  {
   "cell_type": "code",
   "execution_count": 36,
   "metadata": {},
   "outputs": [],
   "source": [
    "training = {}\n",
    "\n",
    "\n",
    "files = os.listdir('tiny-imagenet-200/trainingset')\n",
    "# count = 0\n",
    "for idx, i in enumerate(files):\n",
    "    if i.endswith(('.txt', '.DS_Store')): continue\n",
    "    imgs = os.listdir(os.path.join('tiny-imagenet-200', 'trainingset',i,'images'))\n",
    "    \n",
    "    num_train = len(imgs)\n",
    "    for j in range(num_train):\n",
    "        training[os.path.join(i,'images', imgs[j])]= labelMap[i]   #count\n",
    "        \n",
    "#     count += 1\n",
    "    \n",
    "    "
   ]
  },
  {
   "cell_type": "code",
   "execution_count": 1,
   "metadata": {},
   "outputs": [],
   "source": [
    "# training"
   ]
  },
  {
   "cell_type": "code",
   "execution_count": 17,
   "metadata": {},
   "outputs": [],
   "source": [
    "# training\n",
    "# testing"
   ]
  },
  {
   "cell_type": "code",
   "execution_count": 50,
   "metadata": {},
   "outputs": [],
   "source": [
    "# using validation as the test set since it has annotations\n",
    "\n",
    "with open(os.path.join(root,'tiny-imagenet-200', 'val', 'val_annotations.txt'), 'r') as f:\n",
    "    annts = f.readlines()\n",
    "\n",
    "\n",
    "testing = {}\n",
    "\n",
    "files = os.listdir('tiny-imagenet-200/val/images')\n",
    "for ann in annts:    \n",
    "    testing[os.path.join('images', ann.split('\\t')[0])]= labelMap[ann.split('\\t')[1]]\n",
    "        \n",
    "\n",
    "\n",
    "\n",
    "\n",
    "\n",
    "# files = os.listdir('tiny-imagenet-200/val/images')\n",
    "# count = 0\n",
    "# for idx, i in enumerate(files):\n",
    "#     if i.endswith(('.txt', '.DS_Store')): continue\n",
    "#     testing[os.path.join('images', i)]= labelMap[annts[idx]]\n",
    "        \n",
    "#     count += 1\n",
    "\n",
    "\n",
    "\n",
    "# testing = {}\n",
    "\n",
    "# files = os.listdir('tiny-imagenet-200/testset/images')\n",
    "# count = 0\n",
    "# for idx, i in enumerate(files):\n",
    "#     if i.endswith(('.txt', '.DS_Store')): continue\n",
    "#     testing[os.path.join('images', i)]= count\n",
    "        \n",
    "#     count += 1"
   ]
  },
  {
   "cell_type": "code",
   "execution_count": 52,
   "metadata": {},
   "outputs": [],
   "source": [
    "# labelMap[annts[0].split('\\t')[1]]\n",
    "# testing"
   ]
  },
  {
   "cell_type": "code",
   "execution_count": 53,
   "metadata": {},
   "outputs": [],
   "source": [
    "# annts"
   ]
  },
  {
   "cell_type": "code",
   "execution_count": 18,
   "metadata": {},
   "outputs": [],
   "source": [
    "with open('training.csv', 'w') as f:\n",
    "    for key in training.keys():\n",
    "        f.write(\"%s,%s\\n\"%(key,training[key]))"
   ]
  },
  {
   "cell_type": "code",
   "execution_count": 19,
   "metadata": {},
   "outputs": [],
   "source": [
    "with open('test.csv', 'w') as f:\n",
    "    for key in testing.keys():\n",
    "        f.write(\"%s,%s\\n\"%(key,testing[key]))"
   ]
  },
  {
   "cell_type": "code",
   "execution_count": 124,
   "metadata": {},
   "outputs": [
    {
     "data": {
      "text/plain": [
       "'/Users/ali/Documents/research/nips2020/SegDef/dogs_vs_cats_pytorch'"
      ]
     },
     "execution_count": 124,
     "metadata": {},
     "output_type": "execute_result"
    }
   ],
   "source": [
    "pwd"
   ]
  },
  {
   "cell_type": "code",
   "execution_count": 112,
   "metadata": {},
   "outputs": [],
   "source": [
    "# import glob\n",
    "# print(glob.glob('./Icons-50/*'))\n",
    "# !ls Icons-50/drinks/microsoft_2_clinking_beer_mugs.png\n"
   ]
  },
  {
   "cell_type": "code",
   "execution_count": 117,
   "metadata": {},
   "outputs": [
    {
     "data": {
      "text/plain": [
       "'/Users/ali/Documents/research/nips2020/SegDef/dogs_vs_cats_pytorch//testset/google_0_circled_ideograph_accept.png'"
      ]
     },
     "execution_count": 117,
     "metadata": {},
     "output_type": "execute_result"
    }
   ],
   "source": [
    "# os.path.join(root,'Icons-50',i,imgs[j])\n",
    "root+'/testset/'+imgs[j]"
   ]
  },
  {
   "cell_type": "code",
   "execution_count": 120,
   "metadata": {},
   "outputs": [
    {
     "name": "stdout",
     "output_type": "stream",
     "text": [
      "/Users/ali/Documents/research/nips2020/SegDef/dogs_vs_cats_pytorch//testset/google_0_circled_ideograph_accept.png\n"
     ]
    }
   ],
   "source": [
    "ls '/Users/ali/Documents/research/nips2020/SegDef/dogs_vs_cats_pytorch//testset/google_0_circled_ideograph_accept.png'\n"
   ]
  },
  {
   "cell_type": "code",
   "execution_count": 98,
   "metadata": {},
   "outputs": [
    {
     "name": "stdout",
     "output_type": "stream",
     "text": [
      "ls: ../testset/microsoft_2_clinking_beer_mugs.png: No such file or directory\n"
     ]
    }
   ],
   "source": [
    "!ls ../testset/microsoft_2_clinking_beer_mugs.png"
   ]
  },
  {
   "cell_type": "code",
   "execution_count": 107,
   "metadata": {},
   "outputs": [
    {
     "data": {
      "text/plain": [
       "10000"
      ]
     },
     "execution_count": 107,
     "metadata": {},
     "output_type": "execute_result"
    }
   ],
   "source": [
    "len(training) + len(testing)"
   ]
  },
  {
   "cell_type": "code",
   "execution_count": 76,
   "metadata": {},
   "outputs": [],
   "source": []
  },
  {
   "cell_type": "code",
   "execution_count": null,
   "metadata": {},
   "outputs": [],
   "source": []
  }
 ],
 "metadata": {
  "kernelspec": {
   "display_name": "Python 3",
   "language": "python",
   "name": "python3"
  },
  "language_info": {
   "codemirror_mode": {
    "name": "ipython",
    "version": 3
   },
   "file_extension": ".py",
   "mimetype": "text/x-python",
   "name": "python",
   "nbconvert_exporter": "python",
   "pygments_lexer": "ipython3",
   "version": "3.7.3"
  }
 },
 "nbformat": 4,
 "nbformat_minor": 4
}
